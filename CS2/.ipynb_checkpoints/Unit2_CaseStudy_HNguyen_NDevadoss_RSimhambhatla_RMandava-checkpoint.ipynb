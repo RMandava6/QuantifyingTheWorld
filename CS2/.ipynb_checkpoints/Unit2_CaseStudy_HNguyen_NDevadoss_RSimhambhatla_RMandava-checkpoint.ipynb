{
 "cells": [
  {
   "cell_type": "markdown",
   "metadata": {},
   "source": [
    "## Unit 2: Missing Data - Imputation Techniques \n",
    "\n",
    "### Team: Hieu Nguyen, Nithya Devadoss, Ramesh Simhambhatla, Ramya Mandava\n",
    "### Date: 11/04/2018"
   ]
  },
  {
   "cell_type": "markdown",
   "metadata": {},
   "source": [
    "## Abstract"
   ]
  },
  {
   "cell_type": "markdown",
   "metadata": {},
   "source": [
    "In Statistics, to create meaningful model, a tidy or clean data set is extremely important. So, data examination and cleaing is the pre-face of any modelling activity. Data cleaning is the process of detecting and correcting (or removing) corrupt or inaccurate records from a record set, table, or database and refers to identifying incomplete, incorrect, inaccurate or irrelevant parts of the data and then replacing, modifying, or deleting the dirty or coarse data. In this exercise, we would experiment with data imputation process of replacing missing data with substituted values using the Boston Housing Dataset. The data consists of 506 observations of price of houses in various places in Boston. We would then apply different types of missingness, such as Missing Completely at Random (MACR), Missing at Random (MAR) and Missing Not at Random (MNAR) to compare the (linear) model performance in predicting Boston Housing prices."
   ]
  },
  {
   "cell_type": "markdown",
   "metadata": {},
   "source": [
    "## Introduction"
   ]
  },
  {
   "cell_type": "markdown",
   "metadata": {},
   "source": [
    "To experiment with types of missingness and model performance, we would use Boston Housing dataset available in sklearn package. The data set has 506 observations and 13 attributes. This data set do not have any missing data, so we would experiment with forcebly imputing missing values with multiple scenarios.\n",
    "\n",
    "Attribute Information:\n",
    "\n",
    "    1. CRIM      per capita crime rate by town\n",
    "    2. ZN        proportion of residential land zoned for lots over \n",
    "                 25,000 sq.ft.\n",
    "    3. INDUS     proportion of non-retail business acres per town\n",
    "    4. CHAS      Charles River dummy variable (= 1 if tract bounds \n",
    "                 river; 0 otherwise)\n",
    "    5. NOX       nitric oxides concentration (parts per 10 million)\n",
    "    6. RM        average number of rooms per dwelling\n",
    "    7. AGE       proportion of owner-occupied units built prior to 1940\n",
    "    8. DIS       weighted distances to five Boston employment centres\n",
    "    9. RAD       index of accessibility to radial highways\n",
    "    10. TAX      full-value property-tax rate per $10,000\n",
    "    11. PTRATIO  pupil-teacher ratio by town\n",
    "    12. B        1000(Bk - 0.63)^2 where Bk is the proportion of blacks \n",
    "                 by town\n",
    "    13. LSTAT    % lower status of the population"
   ]
  },
  {
   "cell_type": "markdown",
   "metadata": {},
   "source": [
    "### STEP1: \n",
    "\n",
    "#### Using Sklearn, get the Boston Housing Dataset. Fit a Linear Regressor to the data as a baseline. There is no need to do cross-validation. We are exploring the change in results. What is the loss and what are the goodness of fit parameters? This will be our baseline for comparison."
   ]
  },
  {
   "cell_type": "markdown",
   "metadata": {},
   "source": [
    "In this excercise, we will use Python libraries to load and maninpuate data, and to run the model."
   ]
  },
  {
   "cell_type": "code",
   "execution_count": 1,
   "metadata": {},
   "outputs": [],
   "source": [
    "%matplotlib inline \n",
    "\n",
    "import numpy as np\n",
    "import pandas as pd\n",
    "import matplotlib.pyplot as plt\n",
    "import sklearn\n",
    "\n",
    "\n",
    "import seaborn as sns"
   ]
  },
  {
   "cell_type": "code",
   "execution_count": 2,
   "metadata": {},
   "outputs": [],
   "source": [
    "from sklearn.datasets import load_boston\n",
    "boston = load_boston()"
   ]
  },
  {
   "cell_type": "code",
   "execution_count": 3,
   "metadata": {},
   "outputs": [
    {
     "data": {
      "text/html": [
       "<div>\n",
       "<style scoped>\n",
       "    .dataframe tbody tr th:only-of-type {\n",
       "        vertical-align: middle;\n",
       "    }\n",
       "\n",
       "    .dataframe tbody tr th {\n",
       "        vertical-align: top;\n",
       "    }\n",
       "\n",
       "    .dataframe thead th {\n",
       "        text-align: right;\n",
       "    }\n",
       "</style>\n",
       "<table border=\"1\" class=\"dataframe\">\n",
       "  <thead>\n",
       "    <tr style=\"text-align: right;\">\n",
       "      <th></th>\n",
       "      <th>CRIM</th>\n",
       "      <th>ZN</th>\n",
       "      <th>INDUS</th>\n",
       "      <th>CHAS</th>\n",
       "      <th>NOX</th>\n",
       "      <th>RM</th>\n",
       "      <th>AGE</th>\n",
       "      <th>DIS</th>\n",
       "      <th>RAD</th>\n",
       "      <th>TAX</th>\n",
       "      <th>PTRATIO</th>\n",
       "      <th>B</th>\n",
       "      <th>LSTAT</th>\n",
       "    </tr>\n",
       "  </thead>\n",
       "  <tbody>\n",
       "    <tr>\n",
       "      <th>0</th>\n",
       "      <td>0.00632</td>\n",
       "      <td>18.0</td>\n",
       "      <td>2.31</td>\n",
       "      <td>0.0</td>\n",
       "      <td>0.538</td>\n",
       "      <td>6.575</td>\n",
       "      <td>65.2</td>\n",
       "      <td>4.0900</td>\n",
       "      <td>1.0</td>\n",
       "      <td>296.0</td>\n",
       "      <td>15.3</td>\n",
       "      <td>396.90</td>\n",
       "      <td>4.98</td>\n",
       "    </tr>\n",
       "    <tr>\n",
       "      <th>1</th>\n",
       "      <td>0.02731</td>\n",
       "      <td>0.0</td>\n",
       "      <td>7.07</td>\n",
       "      <td>0.0</td>\n",
       "      <td>0.469</td>\n",
       "      <td>6.421</td>\n",
       "      <td>78.9</td>\n",
       "      <td>4.9671</td>\n",
       "      <td>2.0</td>\n",
       "      <td>242.0</td>\n",
       "      <td>17.8</td>\n",
       "      <td>396.90</td>\n",
       "      <td>9.14</td>\n",
       "    </tr>\n",
       "    <tr>\n",
       "      <th>2</th>\n",
       "      <td>0.02729</td>\n",
       "      <td>0.0</td>\n",
       "      <td>7.07</td>\n",
       "      <td>0.0</td>\n",
       "      <td>0.469</td>\n",
       "      <td>7.185</td>\n",
       "      <td>61.1</td>\n",
       "      <td>4.9671</td>\n",
       "      <td>2.0</td>\n",
       "      <td>242.0</td>\n",
       "      <td>17.8</td>\n",
       "      <td>392.83</td>\n",
       "      <td>4.03</td>\n",
       "    </tr>\n",
       "    <tr>\n",
       "      <th>3</th>\n",
       "      <td>0.03237</td>\n",
       "      <td>0.0</td>\n",
       "      <td>2.18</td>\n",
       "      <td>0.0</td>\n",
       "      <td>0.458</td>\n",
       "      <td>6.998</td>\n",
       "      <td>45.8</td>\n",
       "      <td>6.0622</td>\n",
       "      <td>3.0</td>\n",
       "      <td>222.0</td>\n",
       "      <td>18.7</td>\n",
       "      <td>394.63</td>\n",
       "      <td>2.94</td>\n",
       "    </tr>\n",
       "    <tr>\n",
       "      <th>4</th>\n",
       "      <td>0.06905</td>\n",
       "      <td>0.0</td>\n",
       "      <td>2.18</td>\n",
       "      <td>0.0</td>\n",
       "      <td>0.458</td>\n",
       "      <td>7.147</td>\n",
       "      <td>54.2</td>\n",
       "      <td>6.0622</td>\n",
       "      <td>3.0</td>\n",
       "      <td>222.0</td>\n",
       "      <td>18.7</td>\n",
       "      <td>396.90</td>\n",
       "      <td>5.33</td>\n",
       "    </tr>\n",
       "  </tbody>\n",
       "</table>\n",
       "</div>"
      ],
      "text/plain": [
       "      CRIM    ZN  INDUS  CHAS    NOX     RM   AGE     DIS  RAD    TAX  \\\n",
       "0  0.00632  18.0   2.31   0.0  0.538  6.575  65.2  4.0900  1.0  296.0   \n",
       "1  0.02731   0.0   7.07   0.0  0.469  6.421  78.9  4.9671  2.0  242.0   \n",
       "2  0.02729   0.0   7.07   0.0  0.469  7.185  61.1  4.9671  2.0  242.0   \n",
       "3  0.03237   0.0   2.18   0.0  0.458  6.998  45.8  6.0622  3.0  222.0   \n",
       "4  0.06905   0.0   2.18   0.0  0.458  7.147  54.2  6.0622  3.0  222.0   \n",
       "\n",
       "   PTRATIO       B  LSTAT  \n",
       "0     15.3  396.90   4.98  \n",
       "1     17.8  396.90   9.14  \n",
       "2     17.8  392.83   4.03  \n",
       "3     18.7  394.63   2.94  \n",
       "4     18.7  396.90   5.33  "
      ]
     },
     "execution_count": 3,
     "metadata": {},
     "output_type": "execute_result"
    }
   ],
   "source": [
    "bos = pd.DataFrame(boston.data)\n",
    "\n",
    "bos.columns = boston.feature_names\n",
    "bos.head()"
   ]
  },
  {
   "cell_type": "code",
   "execution_count": 4,
   "metadata": {},
   "outputs": [
    {
     "data": {
      "text/html": [
       "<div>\n",
       "<style scoped>\n",
       "    .dataframe tbody tr th:only-of-type {\n",
       "        vertical-align: middle;\n",
       "    }\n",
       "\n",
       "    .dataframe tbody tr th {\n",
       "        vertical-align: top;\n",
       "    }\n",
       "\n",
       "    .dataframe thead th {\n",
       "        text-align: right;\n",
       "    }\n",
       "</style>\n",
       "<table border=\"1\" class=\"dataframe\">\n",
       "  <thead>\n",
       "    <tr style=\"text-align: right;\">\n",
       "      <th></th>\n",
       "      <th>CRIM</th>\n",
       "      <th>ZN</th>\n",
       "      <th>INDUS</th>\n",
       "      <th>CHAS</th>\n",
       "      <th>NOX</th>\n",
       "      <th>RM</th>\n",
       "      <th>AGE</th>\n",
       "      <th>DIS</th>\n",
       "      <th>RAD</th>\n",
       "      <th>TAX</th>\n",
       "      <th>PTRATIO</th>\n",
       "      <th>B</th>\n",
       "      <th>LSTAT</th>\n",
       "    </tr>\n",
       "  </thead>\n",
       "  <tbody>\n",
       "  </tbody>\n",
       "</table>\n",
       "</div>"
      ],
      "text/plain": [
       "Empty DataFrame\n",
       "Columns: [CRIM, ZN, INDUS, CHAS, NOX, RM, AGE, DIS, RAD, TAX, PTRATIO, B, LSTAT]\n",
       "Index: []"
      ]
     },
     "execution_count": 4,
     "metadata": {},
     "output_type": "execute_result"
    }
   ],
   "source": [
    "df1 = bos[bos.isnull().any(axis=1)]\n",
    "df1"
   ]
  },
  {
   "cell_type": "markdown",
   "metadata": {},
   "source": [
    "The data set doesn't have any missing data in the data set to begin with."
   ]
  },
  {
   "cell_type": "code",
   "execution_count": 5,
   "metadata": {},
   "outputs": [
    {
     "data": {
      "text/html": [
       "<div>\n",
       "<style scoped>\n",
       "    .dataframe tbody tr th:only-of-type {\n",
       "        vertical-align: middle;\n",
       "    }\n",
       "\n",
       "    .dataframe tbody tr th {\n",
       "        vertical-align: top;\n",
       "    }\n",
       "\n",
       "    .dataframe thead th {\n",
       "        text-align: right;\n",
       "    }\n",
       "</style>\n",
       "<table border=\"1\" class=\"dataframe\">\n",
       "  <thead>\n",
       "    <tr style=\"text-align: right;\">\n",
       "      <th></th>\n",
       "      <th>CRIM</th>\n",
       "      <th>ZN</th>\n",
       "      <th>INDUS</th>\n",
       "      <th>CHAS</th>\n",
       "      <th>NOX</th>\n",
       "      <th>RM</th>\n",
       "      <th>AGE</th>\n",
       "      <th>DIS</th>\n",
       "      <th>RAD</th>\n",
       "      <th>TAX</th>\n",
       "      <th>PTRATIO</th>\n",
       "      <th>B</th>\n",
       "      <th>LSTAT</th>\n",
       "      <th>PRICE</th>\n",
       "    </tr>\n",
       "  </thead>\n",
       "  <tbody>\n",
       "    <tr>\n",
       "      <th>0</th>\n",
       "      <td>0.00632</td>\n",
       "      <td>18.0</td>\n",
       "      <td>2.31</td>\n",
       "      <td>0.0</td>\n",
       "      <td>0.538</td>\n",
       "      <td>6.575</td>\n",
       "      <td>65.2</td>\n",
       "      <td>4.0900</td>\n",
       "      <td>1.0</td>\n",
       "      <td>296.0</td>\n",
       "      <td>15.3</td>\n",
       "      <td>396.90</td>\n",
       "      <td>4.98</td>\n",
       "      <td>24.0</td>\n",
       "    </tr>\n",
       "    <tr>\n",
       "      <th>1</th>\n",
       "      <td>0.02731</td>\n",
       "      <td>0.0</td>\n",
       "      <td>7.07</td>\n",
       "      <td>0.0</td>\n",
       "      <td>0.469</td>\n",
       "      <td>6.421</td>\n",
       "      <td>78.9</td>\n",
       "      <td>4.9671</td>\n",
       "      <td>2.0</td>\n",
       "      <td>242.0</td>\n",
       "      <td>17.8</td>\n",
       "      <td>396.90</td>\n",
       "      <td>9.14</td>\n",
       "      <td>21.6</td>\n",
       "    </tr>\n",
       "    <tr>\n",
       "      <th>2</th>\n",
       "      <td>0.02729</td>\n",
       "      <td>0.0</td>\n",
       "      <td>7.07</td>\n",
       "      <td>0.0</td>\n",
       "      <td>0.469</td>\n",
       "      <td>7.185</td>\n",
       "      <td>61.1</td>\n",
       "      <td>4.9671</td>\n",
       "      <td>2.0</td>\n",
       "      <td>242.0</td>\n",
       "      <td>17.8</td>\n",
       "      <td>392.83</td>\n",
       "      <td>4.03</td>\n",
       "      <td>34.7</td>\n",
       "    </tr>\n",
       "    <tr>\n",
       "      <th>3</th>\n",
       "      <td>0.03237</td>\n",
       "      <td>0.0</td>\n",
       "      <td>2.18</td>\n",
       "      <td>0.0</td>\n",
       "      <td>0.458</td>\n",
       "      <td>6.998</td>\n",
       "      <td>45.8</td>\n",
       "      <td>6.0622</td>\n",
       "      <td>3.0</td>\n",
       "      <td>222.0</td>\n",
       "      <td>18.7</td>\n",
       "      <td>394.63</td>\n",
       "      <td>2.94</td>\n",
       "      <td>33.4</td>\n",
       "    </tr>\n",
       "    <tr>\n",
       "      <th>4</th>\n",
       "      <td>0.06905</td>\n",
       "      <td>0.0</td>\n",
       "      <td>2.18</td>\n",
       "      <td>0.0</td>\n",
       "      <td>0.458</td>\n",
       "      <td>7.147</td>\n",
       "      <td>54.2</td>\n",
       "      <td>6.0622</td>\n",
       "      <td>3.0</td>\n",
       "      <td>222.0</td>\n",
       "      <td>18.7</td>\n",
       "      <td>396.90</td>\n",
       "      <td>5.33</td>\n",
       "      <td>36.2</td>\n",
       "    </tr>\n",
       "  </tbody>\n",
       "</table>\n",
       "</div>"
      ],
      "text/plain": [
       "      CRIM    ZN  INDUS  CHAS    NOX     RM   AGE     DIS  RAD    TAX  \\\n",
       "0  0.00632  18.0   2.31   0.0  0.538  6.575  65.2  4.0900  1.0  296.0   \n",
       "1  0.02731   0.0   7.07   0.0  0.469  6.421  78.9  4.9671  2.0  242.0   \n",
       "2  0.02729   0.0   7.07   0.0  0.469  7.185  61.1  4.9671  2.0  242.0   \n",
       "3  0.03237   0.0   2.18   0.0  0.458  6.998  45.8  6.0622  3.0  222.0   \n",
       "4  0.06905   0.0   2.18   0.0  0.458  7.147  54.2  6.0622  3.0  222.0   \n",
       "\n",
       "   PTRATIO       B  LSTAT  PRICE  \n",
       "0     15.3  396.90   4.98   24.0  \n",
       "1     17.8  396.90   9.14   21.6  \n",
       "2     17.8  392.83   4.03   34.7  \n",
       "3     18.7  394.63   2.94   33.4  \n",
       "4     18.7  396.90   5.33   36.2  "
      ]
     },
     "execution_count": 5,
     "metadata": {},
     "output_type": "execute_result"
    }
   ],
   "source": [
    "bos['PRICE'] = boston.target\n",
    "bos.head()"
   ]
  },
  {
   "cell_type": "code",
   "execution_count": 6,
   "metadata": {},
   "outputs": [
    {
     "data": {
      "text/html": [
       "<div>\n",
       "<style scoped>\n",
       "    .dataframe tbody tr th:only-of-type {\n",
       "        vertical-align: middle;\n",
       "    }\n",
       "\n",
       "    .dataframe tbody tr th {\n",
       "        vertical-align: top;\n",
       "    }\n",
       "\n",
       "    .dataframe thead th {\n",
       "        text-align: right;\n",
       "    }\n",
       "</style>\n",
       "<table border=\"1\" class=\"dataframe\">\n",
       "  <thead>\n",
       "    <tr style=\"text-align: right;\">\n",
       "      <th></th>\n",
       "      <th>CRIM</th>\n",
       "      <th>ZN</th>\n",
       "      <th>INDUS</th>\n",
       "      <th>CHAS</th>\n",
       "      <th>NOX</th>\n",
       "      <th>RM</th>\n",
       "      <th>AGE</th>\n",
       "      <th>DIS</th>\n",
       "      <th>RAD</th>\n",
       "      <th>TAX</th>\n",
       "      <th>PTRATIO</th>\n",
       "      <th>B</th>\n",
       "      <th>LSTAT</th>\n",
       "      <th>PRICE</th>\n",
       "    </tr>\n",
       "  </thead>\n",
       "  <tbody>\n",
       "    <tr>\n",
       "      <th>count</th>\n",
       "      <td>506.000000</td>\n",
       "      <td>506.000000</td>\n",
       "      <td>506.000000</td>\n",
       "      <td>506.000000</td>\n",
       "      <td>506.000000</td>\n",
       "      <td>506.000000</td>\n",
       "      <td>506.000000</td>\n",
       "      <td>506.000000</td>\n",
       "      <td>506.000000</td>\n",
       "      <td>506.000000</td>\n",
       "      <td>506.000000</td>\n",
       "      <td>506.000000</td>\n",
       "      <td>506.000000</td>\n",
       "      <td>506.000000</td>\n",
       "    </tr>\n",
       "    <tr>\n",
       "      <th>mean</th>\n",
       "      <td>3.593761</td>\n",
       "      <td>11.363636</td>\n",
       "      <td>11.136779</td>\n",
       "      <td>0.069170</td>\n",
       "      <td>0.554695</td>\n",
       "      <td>6.284634</td>\n",
       "      <td>68.574901</td>\n",
       "      <td>3.795043</td>\n",
       "      <td>9.549407</td>\n",
       "      <td>408.237154</td>\n",
       "      <td>18.455534</td>\n",
       "      <td>356.674032</td>\n",
       "      <td>12.653063</td>\n",
       "      <td>22.532806</td>\n",
       "    </tr>\n",
       "    <tr>\n",
       "      <th>std</th>\n",
       "      <td>8.596783</td>\n",
       "      <td>23.322453</td>\n",
       "      <td>6.860353</td>\n",
       "      <td>0.253994</td>\n",
       "      <td>0.115878</td>\n",
       "      <td>0.702617</td>\n",
       "      <td>28.148861</td>\n",
       "      <td>2.105710</td>\n",
       "      <td>8.707259</td>\n",
       "      <td>168.537116</td>\n",
       "      <td>2.164946</td>\n",
       "      <td>91.294864</td>\n",
       "      <td>7.141062</td>\n",
       "      <td>9.197104</td>\n",
       "    </tr>\n",
       "    <tr>\n",
       "      <th>min</th>\n",
       "      <td>0.006320</td>\n",
       "      <td>0.000000</td>\n",
       "      <td>0.460000</td>\n",
       "      <td>0.000000</td>\n",
       "      <td>0.385000</td>\n",
       "      <td>3.561000</td>\n",
       "      <td>2.900000</td>\n",
       "      <td>1.129600</td>\n",
       "      <td>1.000000</td>\n",
       "      <td>187.000000</td>\n",
       "      <td>12.600000</td>\n",
       "      <td>0.320000</td>\n",
       "      <td>1.730000</td>\n",
       "      <td>5.000000</td>\n",
       "    </tr>\n",
       "    <tr>\n",
       "      <th>25%</th>\n",
       "      <td>0.082045</td>\n",
       "      <td>0.000000</td>\n",
       "      <td>5.190000</td>\n",
       "      <td>0.000000</td>\n",
       "      <td>0.449000</td>\n",
       "      <td>5.885500</td>\n",
       "      <td>45.025000</td>\n",
       "      <td>2.100175</td>\n",
       "      <td>4.000000</td>\n",
       "      <td>279.000000</td>\n",
       "      <td>17.400000</td>\n",
       "      <td>375.377500</td>\n",
       "      <td>6.950000</td>\n",
       "      <td>17.025000</td>\n",
       "    </tr>\n",
       "    <tr>\n",
       "      <th>50%</th>\n",
       "      <td>0.256510</td>\n",
       "      <td>0.000000</td>\n",
       "      <td>9.690000</td>\n",
       "      <td>0.000000</td>\n",
       "      <td>0.538000</td>\n",
       "      <td>6.208500</td>\n",
       "      <td>77.500000</td>\n",
       "      <td>3.207450</td>\n",
       "      <td>5.000000</td>\n",
       "      <td>330.000000</td>\n",
       "      <td>19.050000</td>\n",
       "      <td>391.440000</td>\n",
       "      <td>11.360000</td>\n",
       "      <td>21.200000</td>\n",
       "    </tr>\n",
       "    <tr>\n",
       "      <th>75%</th>\n",
       "      <td>3.647423</td>\n",
       "      <td>12.500000</td>\n",
       "      <td>18.100000</td>\n",
       "      <td>0.000000</td>\n",
       "      <td>0.624000</td>\n",
       "      <td>6.623500</td>\n",
       "      <td>94.075000</td>\n",
       "      <td>5.188425</td>\n",
       "      <td>24.000000</td>\n",
       "      <td>666.000000</td>\n",
       "      <td>20.200000</td>\n",
       "      <td>396.225000</td>\n",
       "      <td>16.955000</td>\n",
       "      <td>25.000000</td>\n",
       "    </tr>\n",
       "    <tr>\n",
       "      <th>max</th>\n",
       "      <td>88.976200</td>\n",
       "      <td>100.000000</td>\n",
       "      <td>27.740000</td>\n",
       "      <td>1.000000</td>\n",
       "      <td>0.871000</td>\n",
       "      <td>8.780000</td>\n",
       "      <td>100.000000</td>\n",
       "      <td>12.126500</td>\n",
       "      <td>24.000000</td>\n",
       "      <td>711.000000</td>\n",
       "      <td>22.000000</td>\n",
       "      <td>396.900000</td>\n",
       "      <td>37.970000</td>\n",
       "      <td>50.000000</td>\n",
       "    </tr>\n",
       "  </tbody>\n",
       "</table>\n",
       "</div>"
      ],
      "text/plain": [
       "             CRIM          ZN       INDUS        CHAS         NOX          RM  \\\n",
       "count  506.000000  506.000000  506.000000  506.000000  506.000000  506.000000   \n",
       "mean     3.593761   11.363636   11.136779    0.069170    0.554695    6.284634   \n",
       "std      8.596783   23.322453    6.860353    0.253994    0.115878    0.702617   \n",
       "min      0.006320    0.000000    0.460000    0.000000    0.385000    3.561000   \n",
       "25%      0.082045    0.000000    5.190000    0.000000    0.449000    5.885500   \n",
       "50%      0.256510    0.000000    9.690000    0.000000    0.538000    6.208500   \n",
       "75%      3.647423   12.500000   18.100000    0.000000    0.624000    6.623500   \n",
       "max     88.976200  100.000000   27.740000    1.000000    0.871000    8.780000   \n",
       "\n",
       "              AGE         DIS         RAD         TAX     PTRATIO           B  \\\n",
       "count  506.000000  506.000000  506.000000  506.000000  506.000000  506.000000   \n",
       "mean    68.574901    3.795043    9.549407  408.237154   18.455534  356.674032   \n",
       "std     28.148861    2.105710    8.707259  168.537116    2.164946   91.294864   \n",
       "min      2.900000    1.129600    1.000000  187.000000   12.600000    0.320000   \n",
       "25%     45.025000    2.100175    4.000000  279.000000   17.400000  375.377500   \n",
       "50%     77.500000    3.207450    5.000000  330.000000   19.050000  391.440000   \n",
       "75%     94.075000    5.188425   24.000000  666.000000   20.200000  396.225000   \n",
       "max    100.000000   12.126500   24.000000  711.000000   22.000000  396.900000   \n",
       "\n",
       "            LSTAT       PRICE  \n",
       "count  506.000000  506.000000  \n",
       "mean    12.653063   22.532806  \n",
       "std      7.141062    9.197104  \n",
       "min      1.730000    5.000000  \n",
       "25%      6.950000   17.025000  \n",
       "50%     11.360000   21.200000  \n",
       "75%     16.955000   25.000000  \n",
       "max     37.970000   50.000000  "
      ]
     },
     "execution_count": 6,
     "metadata": {},
     "output_type": "execute_result"
    }
   ],
   "source": [
    "bos.describe()"
   ]
  },
  {
   "cell_type": "code",
   "execution_count": 7,
   "metadata": {},
   "outputs": [
    {
     "data": {
      "text/plain": [
       "Text(0.5,1,'Prices vs Predicted prices: $Y_i$ vs $\\\\hat{Y}_i$')"
      ]
     },
     "execution_count": 7,
     "metadata": {},
     "output_type": "execute_result"
    },
    {
     "data": {
      "image/png": "[encoded data removed]",
      "text/plain": [
       "<Figure size 432x288 with 1 Axes>"
      ]
     },
     "metadata": {},
     "output_type": "display_data"
    }
   ],
   "source": [
    "from sklearn.linear_model import LinearRegression\n",
    "\n",
    "lm = LinearRegression()\n",
    "X = bos.iloc[:,0:-1]  #iloc gives the positional locations, so 'all rows' and 'all but the last column'\n",
    "Y_true = bos.iloc[:,-1] \n",
    "lm.fit(X,Y_true)\n",
    "\n",
    "Y_pred = lm.predict(X)\n",
    "\n",
    "plt.scatter(Y_true, Y_pred)\n",
    "plt.xlabel(\"Prices: $Y_i$\")\n",
    "plt.ylabel(\"Predicted prices: $\\hat{Y}_i$\")\n",
    "plt.title(\"Prices vs Predicted prices: $Y_i$ vs $\\hat{Y}_i$\")"
   ]
  },
  {
   "cell_type": "code",
   "execution_count": 8,
   "metadata": {},
   "outputs": [
    {
     "data": {
      "text/plain": [
       "0.7406077428649427"
      ]
     },
     "execution_count": 8,
     "metadata": {},
     "output_type": "execute_result"
    }
   ],
   "source": [
    "lm.score(X,Y_true)"
   ]
  },
  {
   "cell_type": "markdown",
   "metadata": {},
   "source": [
    "The model without any changes to existing data set showing a $R^{2}$= 0.7406077428649427 (Goodness of Fit)"
   ]
  },
  {
   "cell_type": "code",
   "execution_count": 9,
   "metadata": {},
   "outputs": [
    {
     "name": "stdout",
     "output_type": "stream",
     "text": [
      "('MSE: ', 21.8977792176875)\n",
      "('MAE: ', 3.2729446379969396)\n"
     ]
    }
   ],
   "source": [
    "from sklearn.metrics import mean_squared_error, mean_absolute_error\n",
    "print(\"MSE: \", mean_squared_error(Y_pred,Y_true))\n",
    "print(\"MAE: \", mean_absolute_error(Y_pred,Y_true))\n",
    "#lm.score(X,Y_true)"
   ]
  },
  {
   "cell_type": "markdown",
   "metadata": {},
   "source": [
    "Mean Squared Error (MSE) and Mean Absolute Error (MAE) are the measure of loss or the differece between a target value and prediction of the variable.\n",
    "\n",
    "### In the exercise, we would take these values as baseline to compare with upcoming tests when we experiment with various scenarios of missing types."
   ]
  },
  {
   "cell_type": "markdown",
   "metadata": {},
   "source": [
    "### STEP 2: (Repeat)\n",
    "### Missing Completely at Random (MCAR)\n",
    "\n",
    "#### For select between 1, 5, 10, 20, 33 and 50% of your data on a single column (Completely at Random), replace the present value with a NAN and then perform an imputation of that value. In each case, perform a fit with the imputed data and compare the loss and goodness of fit to your baseline."
   ]
  },
  {
   "cell_type": "markdown",
   "metadata": {},
   "source": [
    "In this section, we will experiment with imputing data to **AGE** feature by replacing the data limiting to different number of instances.\n",
    "\n",
    "**Missing Completely at Random (MCAR)** exists when missing values are randomly distributed across all observations. Missingness in given variable does not depend on any other variable, whether observed or unobserved."
   ]
  },
  {
   "cell_type": "code",
   "execution_count": 10,
   "metadata": {},
   "outputs": [
    {
     "data": {
      "text/plain": [
       "0.7716269018353936"
      ]
     },
     "execution_count": 10,
     "metadata": {},
     "output_type": "execute_result"
    }
   ],
   "source": [
    "import random\n",
    "random.random()"
   ]
  },
  {
   "cell_type": "code",
   "execution_count": 11,
   "metadata": {},
   "outputs": [
    {
     "data": {
      "text/plain": [
       "506"
      ]
     },
     "execution_count": 11,
     "metadata": {},
     "output_type": "execute_result"
    }
   ],
   "source": [
    "X.shape[0]"
   ]
  },
  {
   "cell_type": "code",
   "execution_count": 12,
   "metadata": {},
   "outputs": [
    {
     "data": {
      "text/html": [
       "<div>\n",
       "<style scoped>\n",
       "    .dataframe tbody tr th:only-of-type {\n",
       "        vertical-align: middle;\n",
       "    }\n",
       "\n",
       "    .dataframe tbody tr th {\n",
       "        vertical-align: top;\n",
       "    }\n",
       "\n",
       "    .dataframe thead th {\n",
       "        text-align: right;\n",
       "    }\n",
       "</style>\n",
       "<table border=\"1\" class=\"dataframe\">\n",
       "  <thead>\n",
       "    <tr style=\"text-align: right;\">\n",
       "      <th></th>\n",
       "      <th>CRIM</th>\n",
       "      <th>ZN</th>\n",
       "      <th>INDUS</th>\n",
       "      <th>CHAS</th>\n",
       "      <th>NOX</th>\n",
       "      <th>RM</th>\n",
       "      <th>AGE</th>\n",
       "      <th>DIS</th>\n",
       "      <th>RAD</th>\n",
       "      <th>TAX</th>\n",
       "      <th>PTRATIO</th>\n",
       "      <th>B</th>\n",
       "      <th>LSTAT</th>\n",
       "    </tr>\n",
       "  </thead>\n",
       "  <tbody>\n",
       "  </tbody>\n",
       "</table>\n",
       "</div>"
      ],
      "text/plain": [
       "Empty DataFrame\n",
       "Columns: [CRIM, ZN, INDUS, CHAS, NOX, RM, AGE, DIS, RAD, TAX, PTRATIO, B, LSTAT]\n",
       "Index: []"
      ]
     },
     "execution_count": 12,
     "metadata": {},
     "output_type": "execute_result"
    }
   ],
   "source": [
    "df1 = X[X.isnull().any(axis=1)]\n",
    "df1"
   ]
  },
  {
   "cell_type": "markdown",
   "metadata": {},
   "source": [
    "For 1% of the data selection "
   ]
  },
  {
   "cell_type": "code",
   "execution_count": 13,
   "metadata": {},
   "outputs": [],
   "source": [
    "from sklearn.linear_model import LinearRegression\n",
    "limit1 = [0.01,0.05,0.1,0.2,0.33,0.5]\n",
    "MSE = []\n",
    "MAE = []\n",
    "Scr = []"
   ]
  },
  {
   "cell_type": "code",
   "execution_count": 14,
   "metadata": {},
   "outputs": [
    {
     "name": "stderr",
     "output_type": "stream",
     "text": [
      "C:\\Users\\NithyaDoss\\Anaconda3\\envs\\python2x\\lib\\site-packages\\pandas\\core\\indexing.py:194: SettingWithCopyWarning: \n",
      "A value is trying to be set on a copy of a slice from a DataFrame\n",
      "\n",
      "See the caveats in the documentation: http://pandas.pydata.org/pandas-docs/stable/indexing.html#indexing-view-versus-copy\n",
      "  self._setitem_with_indexer(indexer, value)\n",
      "C:\\Users\\NithyaDoss\\Anaconda3\\envs\\python2x\\lib\\site-packages\\ipykernel_launcher.py:8: SettingWithCopyWarning: \n",
      "A value is trying to be set on a copy of a slice from a DataFrame\n",
      "\n",
      "See the caveats in the documentation: http://pandas.pydata.org/pandas-docs/stable/indexing.html#indexing-view-versus-copy\n",
      "  \n",
      "C:\\Users\\NithyaDoss\\Anaconda3\\envs\\python2x\\lib\\site-packages\\ipykernel_launcher.py:11: SettingWithCopyWarning: \n",
      "A value is trying to be set on a copy of a slice from a DataFrame\n",
      "\n",
      "See the caveats in the documentation: http://pandas.pydata.org/pandas-docs/stable/indexing.html#indexing-view-versus-copy\n",
      "  # This is added back by InteractiveShellApp.init_path()\n"
     ]
    },
    {
     "data": {
      "image/png": "[encoded data removed]",
      "text/plain": [
       "<Figure size 432x288 with 1 Axes>"
      ]
     },
     "metadata": {},
     "output_type": "display_data"
    },
    {
     "data": {
      "image/png": "[encoded data removed]",
      "text/plain": [
       "<Figure size 432x288 with 1 Axes>"
      ]
     },
     "metadata": {},
     "output_type": "display_data"
    },
    {
     "data": {
      "image/png": "[encoded data removed]",
      "text/plain": [
       "<Figure size 432x288 with 1 Axes>"
      ]
     },
     "metadata": {},
     "output_type": "display_data"
    },
    {
     "data": {
      "image/png": "[encoded data removed]",
      "text/plain": [
       "<Figure size 432x288 with 1 Axes>"
      ]
     },
     "metadata": {},
     "output_type": "display_data"
    },
    {
     "data": {
      "image/png": "[encoded data removed]",
      "text/plain": [
       "<Figure size 432x288 with 1 Axes>"
      ]
     },
     "metadata": {},
     "output_type": "display_data"
    },
    {
     "data": {
      "image/png": "[encoded data removed]",
      "text/plain": [
       "<Figure size 432x288 with 1 Axes>"
      ]
     },
     "metadata": {},
     "output_type": "display_data"
    }
   ],
   "source": [
    "cnt = 1\n",
    "X_age = X\n",
    "for j in range(0,len(limit1)):\n",
    "    for i in range(X_age.shape[0]):\n",
    "        miss_1 = random.random()\n",
    "        #miss_2 = random.random()\n",
    "        if miss_1 < limit1[j]:\n",
    "            X_age.iloc[i,6] = np.nan\n",
    "    X_age.loc[X_age.iloc[:,6].isna(),'AGE'].shape\n",
    "    sub = X_age['AGE'].median()\n",
    "    X_age.loc[X_age.iloc[:,6].isna(),'AGE'] = sub\n",
    "    lm.fit(X_age,Y_true)\n",
    "    Y_pred = lm.predict(X_age)\n",
    "    cnt += 1\n",
    "    plt.subplot(7, 1, cnt)\n",
    "    plt.axis([10, 50, 0, 40])\n",
    "    plt.scatter(Y_true, Y_pred)\n",
    "    plt.xlabel(\"Prices: $Y_i$\")\n",
    "    plt.ylabel(\"Predicted prices: $\\hat{Y}_i$\")\n",
    "    plt.title(\"Prices vs Predicted prices: $Y_i$ vs $\\hat{Y}_i$\")\n",
    "    plt.show()\n",
    "    MSE.append(mean_squared_error(Y_pred,Y_true))\n",
    "    MAE.append(mean_absolute_error(Y_pred,Y_true))\n",
    "    Scr.append(lm.score(X_age,Y_true))\n",
    "    \n",
    "   # cnt += 1    plt.subplot(7, 1, cnt)    plt.axis([10, 50, 0, 40])\n"
   ]
  },
  {
   "cell_type": "code",
   "execution_count": 18,
   "metadata": {},
   "outputs": [
    {
     "name": "stdout",
     "output_type": "stream",
     "text": [
      "The Mean Squared Error for ->MCAR 1 % of data selected is 21.89764294296161\n",
      "The Mean Squared Error for ->MCAR 5 % of data selected is 21.895049835703688\n",
      "The Mean Squared Error for ->MCAR 10 % of data selected is 21.870254969920943\n",
      "The Mean Squared Error for ->MCAR 20 % of data selected is 21.886990983479652\n",
      "The Mean Squared Error for ->MCAR 33 % of data selected is 21.88379937040795\n",
      "The Mean Squared Error for ->MCAR 50 % of data selected is 21.897153468799214\n"
     ]
    }
   ],
   "source": [
    "for i in range(0,len(MSE)):\n",
    "    print 'The Mean Squared Error for ->MCAR',int(limit1[i]*100), '% of data selected is',MSE[i]"
   ]
  },
  {
   "cell_type": "code",
   "execution_count": 19,
   "metadata": {},
   "outputs": [
    {
     "name": "stdout",
     "output_type": "stream",
     "text": [
      "The Mean Absolute Error for ->MCAR 1 % of data selected is 3.2729675546150943\n",
      "The Mean Absolute Error for ->MCAR 5 % of data selected is 3.2734364662634907\n",
      "The Mean Absolute Error for ->MCAR 10 % of data selected is 3.2704940594708845\n",
      "The Mean Absolute Error for ->MCAR 20 % of data selected is 3.278815061158606\n",
      "The Mean Absolute Error for ->MCAR 33 % of data selected is 3.2693432966817855\n",
      "The Mean Absolute Error for ->MCAR 50 % of data selected is 3.272352425843225\n"
     ]
    }
   ],
   "source": [
    "for i in range(0,len(MAE)):\n",
    "    print 'The Mean Absolute Error for ->MCAR',int(limit1[i]*100), '% of data selected is',MAE[i]\n"
   ]
  },
  {
   "cell_type": "code",
   "execution_count": 20,
   "metadata": {},
   "outputs": [
    {
     "name": "stdout",
     "output_type": "stream",
     "text": [
      "The Score for ->MCAR 1 % of data selected is 0.7406093571203605\n",
      "The Score for ->MCAR 5 % of data selected is 0.7406400740226518\n",
      "The Score for ->MCAR 10 % of data selected is 0.7409337839982986\n",
      "The Score for ->MCAR 20 % of data selected is 0.7407355359344525\n",
      "The Score for ->MCAR 33 % of data selected is 0.7407733424951243\n",
      "The Score for ->MCAR 50 % of data selected is 0.7406151552337916\n"
     ]
    }
   ],
   "source": [
    "for i in range(0,len(Scr)):\n",
    "    print 'The Score for ->MCAR',int(limit1[i]*100), '% of data selected is',Scr[i]"
   ]
  },
  {
   "cell_type": "markdown",
   "metadata": {},
   "source": [
    "#### Compared to baseline statistics (Baseline: $R^{2}$: 0.7406077428649427; MSE:  21.897779217687496; MAE:  3.2729446379969227), we did not observe very significant loss or change in goodness of fit test while implementing imputation for Missing Completely at Random (MCAR) experiments on feature 'Age'."
   ]
  },
  {
   "cell_type": "markdown",
   "metadata": {},
   "source": [
    "### Step 3: \n",
    "### Missing at Random (MAR)\n",
    "#### Take 2 different columns and create data \"Missing at Random\" when controlled for a third variable (i.e., if variable Z > 30%,  then variable X, Y are randomly missing). Make runs 10, 20 and 30% missing data imputed via your best guess. Repeat your fit and comparison to baseline."
   ]
  },
  {
   "cell_type": "markdown",
   "metadata": {},
   "source": [
    "In this section, we will experiment with imputing data for **NOX and DIS** features when **CHAS = 1** by replacing the data limiting to number of instances - 10%, 20%, and 30%. \n",
    "\n",
    "**Missing at Random (MAR)** data reflect a systematic rather than random pattern of missingness with our controlled variable CHAS==1."
   ]
  },
  {
   "cell_type": "code",
   "execution_count": 21,
   "metadata": {},
   "outputs": [],
   "source": [
    "X_twocol = X\n",
    "X2 = X_twocol[X_twocol['CHAS']==1]"
   ]
  },
  {
   "cell_type": "code",
   "execution_count": 23,
   "metadata": {},
   "outputs": [
    {
     "name": "stderr",
     "output_type": "stream",
     "text": [
      "C:\\Users\\NithyaDoss\\Anaconda3\\envs\\python2x\\lib\\site-packages\\ipykernel_launcher.py:11: SettingWithCopyWarning: \n",
      "A value is trying to be set on a copy of a slice from a DataFrame\n",
      "\n",
      "See the caveats in the documentation: http://pandas.pydata.org/pandas-docs/stable/indexing.html#indexing-view-versus-copy\n",
      "  # This is added back by InteractiveShellApp.init_path()\n",
      "C:\\Users\\NithyaDoss\\Anaconda3\\envs\\python2x\\lib\\site-packages\\ipykernel_launcher.py:14: SettingWithCopyWarning: \n",
      "A value is trying to be set on a copy of a slice from a DataFrame\n",
      "\n",
      "See the caveats in the documentation: http://pandas.pydata.org/pandas-docs/stable/indexing.html#indexing-view-versus-copy\n",
      "  \n",
      "C:\\Users\\NithyaDoss\\Anaconda3\\envs\\python2x\\lib\\site-packages\\ipykernel_launcher.py:15: SettingWithCopyWarning: \n",
      "A value is trying to be set on a copy of a slice from a DataFrame.\n",
      "Try using .loc[row_indexer,col_indexer] = value instead\n",
      "\n",
      "See the caveats in the documentation: http://pandas.pydata.org/pandas-docs/stable/indexing.html#indexing-view-versus-copy\n",
      "  from ipykernel import kernelapp as app\n",
      "C:\\Users\\NithyaDoss\\Anaconda3\\envs\\python2x\\lib\\site-packages\\pandas\\core\\frame.py:2534: SettingWithCopyWarning: \n",
      "A value is trying to be set on a copy of a slice from a DataFrame\n",
      "\n",
      "See the caveats in the documentation: http://pandas.pydata.org/pandas-docs/stable/indexing.html#indexing-view-versus-copy\n",
      "  self.loc._setitem_with_indexer(indexer, value)\n",
      "C:\\Users\\NithyaDoss\\Anaconda3\\envs\\python2x\\lib\\site-packages\\pandas\\core\\frame.py:2514: SettingWithCopyWarning: \n",
      "A value is trying to be set on a copy of a slice from a DataFrame\n",
      "\n",
      "See the caveats in the documentation: http://pandas.pydata.org/pandas-docs/stable/indexing.html#indexing-view-versus-copy\n",
      "  self._setitem_array(key, value)\n",
      "C:\\Users\\NithyaDoss\\Anaconda3\\envs\\python2x\\lib\\site-packages\\ipykernel_launcher.py:18: SettingWithCopyWarning: \n",
      "A value is trying to be set on a copy of a slice from a DataFrame\n",
      "\n",
      "See the caveats in the documentation: http://pandas.pydata.org/pandas-docs/stable/indexing.html#indexing-view-versus-copy\n",
      "C:\\Users\\NithyaDoss\\Anaconda3\\envs\\python2x\\lib\\site-packages\\ipykernel_launcher.py:20: SettingWithCopyWarning: \n",
      "A value is trying to be set on a copy of a slice from a DataFrame\n",
      "\n",
      "See the caveats in the documentation: http://pandas.pydata.org/pandas-docs/stable/indexing.html#indexing-view-versus-copy\n"
     ]
    },
    {
     "data": {
      "image/png": "[encoded data removed]",
      "text/plain": [
       "<Figure size 432x288 with 1 Axes>"
      ]
     },
     "metadata": {},
     "output_type": "display_data"
    },
    {
     "data": {
      "image/png": "[encoded data removed]",
      "text/plain": [
       "<Figure size 432x288 with 1 Axes>"
      ]
     },
     "metadata": {},
     "output_type": "display_data"
    },
    {
     "data": {
      "image/png": "[encoded data removed]",
      "text/plain": [
       "<Figure size 432x288 with 1 Axes>"
      ]
     },
     "metadata": {},
     "output_type": "display_data"
    }
   ],
   "source": [
    "limit2 = [0.1,0.2,0.3]\n",
    "MSE1 = []\n",
    "MAE1 = []\n",
    "Scr1 = []\n",
    "cnt1 = 1\n",
    "for j in range(0,len(limit2)):\n",
    "    for i in range(X2.shape[0]):\n",
    "        miss_1 = random.random()\n",
    "        miss_2 = random.random()\n",
    "        if miss_1 < limit2[j]:\n",
    "            X2.iloc[i,4] = np.nan\n",
    "\n",
    "        if miss_2 < limit2[j]:\n",
    "            X2.iloc[i,7] = np.nan\n",
    "    X_twocol[X_twocol['CHAS']==1] = X2\n",
    "    X_twocol.loc[X_twocol.iloc[:,4].isna(),'NOX'].shape\n",
    "    sub = X_twocol['NOX'].mean()\n",
    "    X_twocol.loc[X_twocol.iloc[:,4].isna(),'NOX'] = sub\n",
    "    sub = X_twocol['DIS'].mean()\n",
    "    X_twocol.loc[X_twocol.iloc[:,7].isna(),'DIS'] = sub\n",
    "    lm.fit(X_twocol,Y_true)\n",
    "    Y_pred = lm.predict(X_twocol)\n",
    "    cnt1 += 1\n",
    "    plt.subplot(7, 1, cnt1)\n",
    "    plt.axis([10, 50, 0, 40])\n",
    "    plt.scatter(Y_true, Y_pred)\n",
    "    plt.xlabel(\"Prices: $Y_i$\")\n",
    "    plt.ylabel(\"Predicted prices: $\\hat{Y}_i$\")\n",
    "    plt.title(\"Prices vs Predicted prices: $Y_i$ vs $\\hat{Y}_i$\")\n",
    "    plt.show()\n",
    "    Scr1.append(lm.score(X_twocol,Y_true))\n",
    "    MSE1.append(mean_squared_error(Y_pred,Y_true))\n",
    "    MAE1.append(mean_absolute_error(Y_pred,Y_true))"
   ]
  },
  {
   "cell_type": "code",
   "execution_count": 24,
   "metadata": {},
   "outputs": [
    {
     "name": "stdout",
     "output_type": "stream",
     "text": [
      "The Mean Squared Error for ->MAR 10 % of data selected is 21.860397660026756\n",
      "The Mean Squared Error for ->MAR 20 % of data selected is 21.569653981003782\n",
      "The Mean Squared Error for ->MAR 30 % of data selected is 22.34703209306859\n"
     ]
    }
   ],
   "source": [
    "for i in range(0,len(MSE1)):\n",
    "    print 'The Mean Squared Error for ->MAR',int(limit2[i]*100), '% of data selected is',MSE1[i]"
   ]
  },
  {
   "cell_type": "code",
   "execution_count": 25,
   "metadata": {},
   "outputs": [
    {
     "name": "stdout",
     "output_type": "stream",
     "text": [
      "The Mean Absolute Error for ->MAR 10 % of data selected is 3.2747774266415726\n",
      "The Mean Absolute Error for ->MAR 20 % of data selected is 3.260169479281187\n",
      "The Mean Absolute Error for ->MAR 30 % of data selected is 3.268950568700861\n"
     ]
    }
   ],
   "source": [
    "for i in range(0,len(MAE1)):\n",
    "    print 'The Mean Absolute Error for ->MAR',int(limit2[i]*100), '% of data selected is',MAE1[i]"
   ]
  },
  {
   "cell_type": "markdown",
   "metadata": {},
   "source": [
    "for i in range(0,len(Scr1)):\n",
    "    print 'The Score for ->MAR',int(limit2[i]*100), '% of data selected is',Scr1[i]"
   ]
  },
  {
   "cell_type": "markdown",
   "metadata": {},
   "source": [
    "#### Compared to baseline statistics (Baseline: $R^{2}$: 0.7406077428649427; MSE:  21.897779217687496; MAE:  3.2729446379969227), we did observe slight increase in loss of (MSE), no significant loss of (MAE) and slight decrease in goodness of fit test while implementing imputation for Missing at Random (MAR) experiments on features NOX and DIS with CHAS as controlling feature."
   ]
  },
  {
   "cell_type": "markdown",
   "metadata": {},
   "source": [
    "## Step 4:\n",
    "## Missing Not at Random\n",
    "\n",
    "#### Create a Missing Not at Random pattern in which 25% of the data is missing for a single column.    Impute your data, fit the results and compare to a baseline"
   ]
  },
  {
   "cell_type": "markdown",
   "metadata": {},
   "source": [
    "In this section, we will experiment with imputing data to RM (average Room Size) feature by replacing upto 25% of the obsersations.\n",
    "\n",
    "**Missing Not at Random** happens when missingness depends at least in part on unobserved variables"
   ]
  },
  {
   "cell_type": "code",
   "execution_count": 26,
   "metadata": {},
   "outputs": [],
   "source": [
    "#5.885500 - Missing at Not Random\n",
    "X_rm = X\n",
    "#X2 = X_rm[X_twocol['CHAS']==1]"
   ]
  },
  {
   "cell_type": "code",
   "execution_count": 27,
   "metadata": {},
   "outputs": [
    {
     "data": {
      "text/plain": [
       "127"
      ]
     },
     "execution_count": 27,
     "metadata": {},
     "output_type": "execute_result"
    }
   ],
   "source": [
    "len(X[X['RM']<5.8855])"
   ]
  },
  {
   "cell_type": "code",
   "execution_count": 28,
   "metadata": {},
   "outputs": [],
   "source": [
    "X2 = X_rm[X_rm['RM']<=6.208]"
   ]
  },
  {
   "cell_type": "code",
   "execution_count": 29,
   "metadata": {},
   "outputs": [
    {
     "name": "stdout",
     "output_type": "stream",
     "text": [
      "0.118027139091\n",
      "0.400739927129\n",
      "0.30532819748\n",
      "0.988404665146\n",
      "0.193311891196\n",
      "0.374180623811\n"
     ]
    },
    {
     "name": "stderr",
     "output_type": "stream",
     "text": [
      "C:\\Users\\NithyaDoss\\Anaconda3\\envs\\python2x\\lib\\site-packages\\ipykernel_launcher.py:6: SettingWithCopyWarning: \n",
      "A value is trying to be set on a copy of a slice from a DataFrame\n",
      "\n",
      "See the caveats in the documentation: http://pandas.pydata.org/pandas-docs/stable/indexing.html#indexing-view-versus-copy\n",
      "  \n"
     ]
    },
    {
     "name": "stdout",
     "output_type": "stream",
     "text": [
      "0.606056518204\n",
      "0.738343296158\n",
      "0.480051220458\n",
      "0.205734908656\n",
      "0.512409250104\n",
      "0.905872077983\n",
      "0.301033797191\n",
      "0.692617179589\n",
      "0.52084421267\n",
      "0.815562599243\n",
      "0.636148138488\n",
      "0.0892164060676\n",
      "0.9389940145\n",
      "0.190471650821\n",
      "0.826151804815\n",
      "0.813704154233\n",
      "0.903625251851\n",
      "0.267868178785\n",
      "0.0742253860104\n",
      "0.0127022204053\n",
      "0.410462156542\n",
      "0.0355719813719\n",
      "0.730762791387\n",
      "0.551996531945\n",
      "0.89809228072\n",
      "0.769605601322\n",
      "0.930580902118\n",
      "0.181139249441\n",
      "0.338532163814\n",
      "0.313187149183\n",
      "0.507370641916\n",
      "0.939678599945\n",
      "0.934964944074\n",
      "0.910284106856\n",
      "0.65815692319\n",
      "0.545963174023\n",
      "0.762785524519\n",
      "0.0321544587922\n",
      "0.793366461936\n",
      "0.960028839882\n",
      "0.515161729472\n",
      "0.862537557833\n",
      "0.798248704773\n",
      "0.430759785208\n",
      "0.442253534909\n",
      "0.919643695716\n",
      "0.158493715341\n",
      "0.198354162425\n",
      "0.805069328139\n",
      "0.526234012835\n",
      "0.121317787684\n",
      "0.0256789930566\n",
      "0.773923449935\n",
      "0.196420828087\n",
      "0.590843929291\n",
      "0.860485639198\n",
      "0.08513706712\n",
      "0.368259061941\n",
      "0.492028985589\n",
      "0.0531937751573\n",
      "0.169405125205\n",
      "0.778339978786\n",
      "0.724999266921\n",
      "0.207592591991\n",
      "0.187320448158\n",
      "0.105489978989\n",
      "0.681287451622\n",
      "0.00752839063682\n",
      "0.548290330009\n",
      "0.541799364862\n",
      "0.508704639764\n",
      "0.502020457294\n",
      "0.583647004405\n",
      "0.441306327196\n",
      "0.404128072873\n",
      "0.222474693575\n",
      "0.838658404923\n",
      "0.917220683745\n",
      "0.0225054838707\n",
      "0.335622853249\n",
      "0.852071716818\n",
      "0.801191467314\n",
      "0.0322397450027\n",
      "0.742359269535\n",
      "0.725991240513\n",
      "0.0984953166155\n",
      "0.342547846049\n",
      "0.860684627617\n",
      "0.950705531203\n",
      "0.0892595570804\n",
      "0.0646624687246\n",
      "0.328592024848\n",
      "0.126736299548\n",
      "0.587335377432\n",
      "0.610924916908\n",
      "0.928415318494\n",
      "0.571299894585\n",
      "0.22093691307\n",
      "0.131025712775\n",
      "0.232994314768\n",
      "0.635188459583\n",
      "0.5365693038\n",
      "0.522818463931\n",
      "0.642081695983\n",
      "0.968645586127\n",
      "0.910475612063\n",
      "0.778522828425\n",
      "0.614589551949\n",
      "0.55095889592\n",
      "0.102212694047\n",
      "0.921510689285\n",
      "0.490000038532\n",
      "0.520622782447\n",
      "0.49603898338\n",
      "0.10889776646\n",
      "0.30504917955\n",
      "0.517092519115\n",
      "0.972755878056\n",
      "0.983570597256\n",
      "0.315990621408\n",
      "0.976983497492\n",
      "0.996445158294\n",
      "0.19564753539\n",
      "0.30876792896\n",
      "0.216103474415\n",
      "0.872252287843\n",
      "0.0053079626457\n",
      "0.183793787758\n",
      "0.91956878092\n",
      "0.535586461276\n",
      "0.502739296827\n",
      "0.289139475271\n",
      "0.0919416575676\n",
      "0.213357520284\n",
      "0.552660389003\n",
      "0.626427755869\n",
      "0.797267050364\n",
      "0.541390600582\n",
      "0.177812232685\n",
      "0.440725358034\n",
      "0.292581587192\n",
      "0.050545972767\n",
      "0.79593162923\n",
      "0.491397156916\n",
      "0.820224335814\n",
      "0.436682151043\n",
      "0.637780921923\n",
      "0.858463097117\n",
      "0.115175859129\n",
      "0.92532581495\n",
      "0.893175548748\n",
      "0.996491727821\n",
      "0.547877304419\n",
      "0.452213774375\n",
      "0.243685451955\n",
      "0.267111987785\n",
      "0.164423968192\n",
      "0.961133745172\n",
      "0.209579518203\n",
      "0.0649177030065\n",
      "0.220392168053\n",
      "0.282229140785\n",
      "0.329152468011\n",
      "0.164902485734\n",
      "0.0679815424621\n",
      "0.867768209235\n",
      "0.610210986927\n",
      "0.750790760689\n",
      "0.204977615807\n",
      "0.0601720791101\n",
      "0.0998762189266\n",
      "0.389259519915\n",
      "0.971025074961\n",
      "0.0221849453715\n",
      "0.770527088163\n",
      "0.780187234257\n",
      "0.21108205476\n",
      "0.375720349593\n",
      "0.916523353077\n",
      "0.361392696802\n",
      "0.274437263861\n",
      "0.819430037582\n",
      "0.677491821533\n",
      "0.773994396829\n",
      "0.174876409538\n",
      "0.804811225161\n",
      "0.245060776562\n",
      "0.71328985395\n",
      "0.408804215725\n",
      "0.745217232891\n",
      "0.391286544869\n",
      "0.354881455948\n",
      "0.54617617425\n",
      "0.997573709402\n",
      "0.98999778051\n",
      "0.264532406152\n",
      "0.921662400202\n",
      "0.842848465993\n",
      "0.431610736444\n",
      "0.410843615515\n",
      "0.451709492443\n",
      "0.775469228741\n",
      "0.999123349767\n",
      "0.247934784643\n",
      "0.700021041001\n",
      "0.580213640988\n",
      "0.490578409672\n",
      "0.553226719232\n",
      "0.28943408713\n",
      "0.205237105823\n",
      "0.295708884266\n",
      "0.328412525046\n",
      "0.370024453481\n",
      "0.802209274861\n",
      "0.127361479535\n",
      "0.546173522515\n",
      "0.315445129779\n",
      "0.866171014821\n",
      "0.858769170389\n",
      "0.719586096981\n",
      "0.665638985372\n",
      "0.160008281583\n",
      "0.456375691085\n",
      "0.344592277126\n",
      "0.54260437371\n",
      "0.24422545795\n",
      "0.775567464587\n",
      "0.393457810393\n",
      "0.834606098356\n",
      "0.782522746516\n",
      "0.682934109535\n",
      "0.611094373311\n",
      "0.987481468637\n",
      "0.640184152637\n",
      "0.0364566858717\n",
      "0.255850022074\n",
      "0.457773481069\n",
      "0.16373943642\n",
      "0.741536611749\n",
      "0.992815057486\n",
      "0.752844362816\n",
      "0.357711772441\n",
      "0.406869284932\n",
      "0.665184582391\n",
      "0.861015040974\n",
      "0.0451759270371\n",
      "0.0257064749232\n"
     ]
    }
   ],
   "source": [
    "limit = .25\n",
    "for i in range(X2.shape[0]):\n",
    "    miss_1 = random.random()\n",
    "    print(miss_1)\n",
    "    if miss_1 < limit:\n",
    "        X2.iloc[i,5] = np.nan"
   ]
  },
  {
   "cell_type": "code",
   "execution_count": 120,
   "metadata": {},
   "outputs": [
    {
     "name": "stderr",
     "output_type": "stream",
     "text": [
      "/anaconda3/lib/python3.6/site-packages/ipykernel_launcher.py:1: SettingWithCopyWarning: \n",
      "A value is trying to be set on a copy of a slice from a DataFrame.\n",
      "Try using .loc[row_indexer,col_indexer] = value instead\n",
      "\n",
      "See the caveats in the documentation: http://pandas.pydata.org/pandas-docs/stable/indexing.html#indexing-view-versus-copy\n",
      "  \"\"\"Entry point for launching an IPython kernel.\n",
      "/anaconda3/lib/python3.6/site-packages/pandas/core/frame.py:2534: SettingWithCopyWarning: \n",
      "A value is trying to be set on a copy of a slice from a DataFrame\n",
      "\n",
      "See the caveats in the documentation: http://pandas.pydata.org/pandas-docs/stable/indexing.html#indexing-view-versus-copy\n",
      "  self.loc._setitem_with_indexer(indexer, value)\n",
      "/anaconda3/lib/python3.6/site-packages/pandas/core/frame.py:2514: SettingWithCopyWarning: \n",
      "A value is trying to be set on a copy of a slice from a DataFrame\n",
      "\n",
      "See the caveats in the documentation: http://pandas.pydata.org/pandas-docs/stable/indexing.html#indexing-view-versus-copy\n",
      "  self._setitem_array(key, value)\n"
     ]
    }
   ],
   "source": [
    "X_rm[X_rm['RM']<=6.208] = X2"
   ]
  },
  {
   "cell_type": "code",
   "execution_count": 30,
   "metadata": {},
   "outputs": [
    {
     "name": "stderr",
     "output_type": "stream",
     "text": [
      "C:\\Users\\NithyaDoss\\Anaconda3\\envs\\python2x\\lib\\site-packages\\ipykernel_launcher.py:2: SettingWithCopyWarning: \n",
      "A value is trying to be set on a copy of a slice from a DataFrame\n",
      "\n",
      "See the caveats in the documentation: http://pandas.pydata.org/pandas-docs/stable/indexing.html#indexing-view-versus-copy\n",
      "  \n"
     ]
    }
   ],
   "source": [
    "sub =  X_rm['RM'].mean()\n",
    "X_rm.loc[X_rm.iloc[:,5].isna(),'RM'] = sub"
   ]
  },
  {
   "cell_type": "code",
   "execution_count": 31,
   "metadata": {},
   "outputs": [
    {
     "data": {
      "text/plain": [
       "Text(0.5,1,'Prices vs Predicted prices: $Y_i$ vs $\\\\hat{Y}_i$')"
      ]
     },
     "execution_count": 31,
     "metadata": {},
     "output_type": "execute_result"
    },
    {
     "data": {
      "image/png": "[encoded data removed]",
      "text/plain": [
       "<Figure size 432x288 with 1 Axes>"
      ]
     },
     "metadata": {},
     "output_type": "display_data"
    }
   ],
   "source": [
    "from sklearn.linear_model import LinearRegression\n",
    "\n",
    "lm.fit(X_rm,Y_true)\n",
    "\n",
    "Y_pred = lm.predict(X_rm)\n",
    "\n",
    "plt.scatter(Y_true, Y_pred)\n",
    "plt.xlabel(\"Prices: $Y_i$\")\n",
    "plt.ylabel(\"Predicted prices: $\\hat{Y}_i$\")\n",
    "plt.title(\"Prices vs Predicted prices: $Y_i$ vs $\\hat{Y}_i$\")"
   ]
  },
  {
   "cell_type": "code",
   "execution_count": 32,
   "metadata": {},
   "outputs": [
    {
     "name": "stdout",
     "output_type": "stream",
     "text": [
      "The Score for ->MNAR 0.7352860745710461\n"
     ]
    }
   ],
   "source": [
    "lm.score(X_rm,Y_true)\n",
    "print 'The Score for ->MNAR',lm.score(X_rm,Y_true)"
   ]
  },
  {
   "cell_type": "code",
   "execution_count": 33,
   "metadata": {},
   "outputs": [
    {
     "name": "stdout",
     "output_type": "stream",
     "text": [
      "('Mean Squared Error (MSE):', 22.34703209306859)\n",
      "('Mean Absolute Error (MAE):', 3.268950568700861)\n"
     ]
    }
   ],
   "source": [
    "print(\"Mean Squared Error (MSE):\", mean_squared_error(Y_pred,Y_true))\n",
    "print(\"Mean Absolute Error (MAE):\",mean_absolute_error(Y_pred,Y_true))"
   ]
  },
  {
   "cell_type": "markdown",
   "metadata": {},
   "source": [
    "#### Compared to baseline statistics (Baseline: $R^{2}$: 0.7406077428649427; MSE:  21.897779217687496; MAE:  3.2729446379969227), we did observe no siginficant change in loss to both MSE and MAE, and slight decrease in goodness of fit test while implementing imputation for Missing Not at Random (MNAR) experiment on RM (<= 6.208) feature by imputing missing data into approximately 25% of observations."
   ]
  },
  {
   "cell_type": "markdown",
   "metadata": {},
   "source": [
    "### Conclusion\n",
    "\n",
    "##### In this case study, we have experimented different types of missingness, such as Missing Completely at Random (MACR), Missing at Random (MAR) and Missing Not at Random (MNAR) to compare the (linear) model performance in predicting Boston Housing prices. We have compared goodness of fit -> $R^{2}$,  Losses (MAE, and MSE) with various scenarios, and observe very slight or no differences. The data set we used have only 506 observations, so we may need to experiment with large data sets to find significant differences. In real world, these techniques are very handy and essential as most data sets require certain degree of imputation."
   ]
  },
  {
   "cell_type": "markdown",
   "metadata": {},
   "source": [
    "### References\n",
    "Loss\n",
    "https://heartbeat.fritz.ai/5-regression-loss-functions-all-machine-learners-should-know-4fb140e9d4b0\n",
    "\n",
    "Goodness of fit\n",
    "http://www.medicine.mcgill.ca/epidemiology/joseph/courses/EPIB-621/fit.pdf\n",
    "\n",
    "Prof Slater's Class material and sample notebook"
   ]
  },
  {
   "cell_type": "markdown",
   "metadata": {},
   "source": [
    "Thank you!!"
   ]
  }
 ],
 "metadata": {
  "kernelspec": {
   "display_name": "Python 3",
   "language": "python",
   "name": "python3"
  },
  "language_info": {
   "codemirror_mode": {
    "name": "ipython",
    "version": 3
   },
   "file_extension": ".py",
   "mimetype": "text/x-python",
   "name": "python",
   "nbconvert_exporter": "python",
   "pygments_lexer": "ipython3",
   "version": "3.6.4"
  }
 },
 "nbformat": 4,
 "nbformat_minor": 2
}
