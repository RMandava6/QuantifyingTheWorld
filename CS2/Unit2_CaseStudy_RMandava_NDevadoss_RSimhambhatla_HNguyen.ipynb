{
 "cells": [
  {
   "cell_type": "markdown",
   "metadata": {},
   "source": [
    "## Unit 2: Missing Data - Imputation Techniques \n",
    "\n",
    "### Team: Hieu Nguyen, Nithya Devadoss, Ramesh Simhambhatla, Ramya Mandava\n",
    "### Date: 11/04/2018"
   ]
  },
  {
   "cell_type": "markdown",
   "metadata": {},
   "source": [
    "## Abstract"
   ]
  },
  {
   "cell_type": "markdown",
   "metadata": {},
   "source": [
    "In Statistics, to create meaningful model, a tidy or clean data set is extremely important. So, data examination and cleaing is the pre-face of any modelling activity. Data cleaning is the process of detecting and correcting (or removing) corrupt or inaccurate records from a record set, table, or database and refers to identifying incomplete, incorrect, inaccurate or irrelevant parts of the data and then replacing, modifying, or deleting the dirty or coarse data. In this exercise, we would experiment with data imputation process of replacing missing data with substituted values using the Boston Housing Dataset. The data consists of 506 observations of price of houses in various places in Boston. We would then apply different types of missingness, such as Missing Completely at Random (MACR), Missing at Random (MAR) and Missing Not at Random (MNAR) to compare the (linear) model performance in predicting Boston Housing prices."
   ]
  },
  {
   "cell_type": "markdown",
   "metadata": {},
   "source": [
    "## Introduction"
   ]
  },
  {
   "cell_type": "markdown",
   "metadata": {},
   "source": [
    "To experiment with types of missingness and model performance, we would use Boston Housing dataset available in sklearn package. The data set has 506 observations and 13 attributes. This data set do not have any missing data, so we would experiment with forcebly imputing missing values with multiple scenarios.\n",
    "\n",
    "Attribute Information:\n",
    "\n",
    "    1. CRIM      per capita crime rate by town\n",
    "    2. ZN        proportion of residential land zoned for lots over \n",
    "                 25,000 sq.ft.\n",
    "    3. INDUS     proportion of non-retail business acres per town\n",
    "    4. CHAS      Charles River dummy variable (= 1 if tract bounds \n",
    "                 river; 0 otherwise)\n",
    "    5. NOX       nitric oxides concentration (parts per 10 million)\n",
    "    6. RM        average number of rooms per dwelling\n",
    "    7. AGE       proportion of owner-occupied units built prior to 1940\n",
    "    8. DIS       weighted distances to five Boston employment centres\n",
    "    9. RAD       index of accessibility to radial highways\n",
    "    10. TAX      full-value property-tax rate per $10,000\n",
    "    11. PTRATIO  pupil-teacher ratio by town\n",
    "    12. B        1000(Bk - 0.63)^2 where Bk is the proportion of blacks \n",
    "                 by town\n",
    "    13. LSTAT    % lower status of the population"
   ]
  },
  {
   "cell_type": "markdown",
   "metadata": {},
   "source": [
    "### STEP1: \n",
    "\n",
    "#### Using Sklearn, get the Boston Housing Dataset. Fit a Linear Regressor to the data as a baseline. There is no need to do cross-validation. We are exploring the change in results. What is the loss and what are the goodness of fit parameters? This will be our baseline for comparison."
   ]
  },
  {
   "cell_type": "markdown",
   "metadata": {},
   "source": [
    "In this excercise, we will use Python libraries to load and maninpuate data, and to run the model."
   ]
  },
  {
   "cell_type": "code",
   "execution_count": 1,
   "metadata": {},
   "outputs": [],
   "source": [
    "%matplotlib inline \n",
    "\n",
    "import numpy as np\n",
    "import pandas as pd\n",
    "import matplotlib.pyplot as plt\n",
    "import sklearn\n",
    "\n",
    "\n",
    "import seaborn as sns"
   ]
  },
  {
   "cell_type": "code",
   "execution_count": 2,
   "metadata": {},
   "outputs": [],
   "source": [
    "from sklearn.datasets import load_boston\n",
    "boston = load_boston()"
   ]
  },
  {
   "cell_type": "code",
   "execution_count": 3,
   "metadata": {},
   "outputs": [
    {
     "data": {
      "text/html": [
       "<div>\n",
       "<style scoped>\n",
       "    .dataframe tbody tr th:only-of-type {\n",
       "        vertical-align: middle;\n",
       "    }\n",
       "\n",
       "    .dataframe tbody tr th {\n",
       "        vertical-align: top;\n",
       "    }\n",
       "\n",
       "    .dataframe thead th {\n",
       "        text-align: right;\n",
       "    }\n",
       "</style>\n",
       "<table border=\"1\" class=\"dataframe\">\n",
       "  <thead>\n",
       "    <tr style=\"text-align: right;\">\n",
       "      <th></th>\n",
       "      <th>CRIM</th>\n",
       "      <th>ZN</th>\n",
       "      <th>INDUS</th>\n",
       "      <th>CHAS</th>\n",
       "      <th>NOX</th>\n",
       "      <th>RM</th>\n",
       "      <th>AGE</th>\n",
       "      <th>DIS</th>\n",
       "      <th>RAD</th>\n",
       "      <th>TAX</th>\n",
       "      <th>PTRATIO</th>\n",
       "      <th>B</th>\n",
       "      <th>LSTAT</th>\n",
       "    </tr>\n",
       "  </thead>\n",
       "  <tbody>\n",
       "    <tr>\n",
       "      <th>0</th>\n",
       "      <td>0.00632</td>\n",
       "      <td>18.0</td>\n",
       "      <td>2.31</td>\n",
       "      <td>0.0</td>\n",
       "      <td>0.538</td>\n",
       "      <td>6.575</td>\n",
       "      <td>65.2</td>\n",
       "      <td>4.0900</td>\n",
       "      <td>1.0</td>\n",
       "      <td>296.0</td>\n",
       "      <td>15.3</td>\n",
       "      <td>396.90</td>\n",
       "      <td>4.98</td>\n",
       "    </tr>\n",
       "    <tr>\n",
       "      <th>1</th>\n",
       "      <td>0.02731</td>\n",
       "      <td>0.0</td>\n",
       "      <td>7.07</td>\n",
       "      <td>0.0</td>\n",
       "      <td>0.469</td>\n",
       "      <td>6.421</td>\n",
       "      <td>78.9</td>\n",
       "      <td>4.9671</td>\n",
       "      <td>2.0</td>\n",
       "      <td>242.0</td>\n",
       "      <td>17.8</td>\n",
       "      <td>396.90</td>\n",
       "      <td>9.14</td>\n",
       "    </tr>\n",
       "    <tr>\n",
       "      <th>2</th>\n",
       "      <td>0.02729</td>\n",
       "      <td>0.0</td>\n",
       "      <td>7.07</td>\n",
       "      <td>0.0</td>\n",
       "      <td>0.469</td>\n",
       "      <td>7.185</td>\n",
       "      <td>61.1</td>\n",
       "      <td>4.9671</td>\n",
       "      <td>2.0</td>\n",
       "      <td>242.0</td>\n",
       "      <td>17.8</td>\n",
       "      <td>392.83</td>\n",
       "      <td>4.03</td>\n",
       "    </tr>\n",
       "    <tr>\n",
       "      <th>3</th>\n",
       "      <td>0.03237</td>\n",
       "      <td>0.0</td>\n",
       "      <td>2.18</td>\n",
       "      <td>0.0</td>\n",
       "      <td>0.458</td>\n",
       "      <td>6.998</td>\n",
       "      <td>45.8</td>\n",
       "      <td>6.0622</td>\n",
       "      <td>3.0</td>\n",
       "      <td>222.0</td>\n",
       "      <td>18.7</td>\n",
       "      <td>394.63</td>\n",
       "      <td>2.94</td>\n",
       "    </tr>\n",
       "    <tr>\n",
       "      <th>4</th>\n",
       "      <td>0.06905</td>\n",
       "      <td>0.0</td>\n",
       "      <td>2.18</td>\n",
       "      <td>0.0</td>\n",
       "      <td>0.458</td>\n",
       "      <td>7.147</td>\n",
       "      <td>54.2</td>\n",
       "      <td>6.0622</td>\n",
       "      <td>3.0</td>\n",
       "      <td>222.0</td>\n",
       "      <td>18.7</td>\n",
       "      <td>396.90</td>\n",
       "      <td>5.33</td>\n",
       "    </tr>\n",
       "  </tbody>\n",
       "</table>\n",
       "</div>"
      ],
      "text/plain": [
       "      CRIM    ZN  INDUS  CHAS    NOX     RM   AGE     DIS  RAD    TAX  \\\n",
       "0  0.00632  18.0   2.31   0.0  0.538  6.575  65.2  4.0900  1.0  296.0   \n",
       "1  0.02731   0.0   7.07   0.0  0.469  6.421  78.9  4.9671  2.0  242.0   \n",
       "2  0.02729   0.0   7.07   0.0  0.469  7.185  61.1  4.9671  2.0  242.0   \n",
       "3  0.03237   0.0   2.18   0.0  0.458  6.998  45.8  6.0622  3.0  222.0   \n",
       "4  0.06905   0.0   2.18   0.0  0.458  7.147  54.2  6.0622  3.0  222.0   \n",
       "\n",
       "   PTRATIO       B  LSTAT  \n",
       "0     15.3  396.90   4.98  \n",
       "1     17.8  396.90   9.14  \n",
       "2     17.8  392.83   4.03  \n",
       "3     18.7  394.63   2.94  \n",
       "4     18.7  396.90   5.33  "
      ]
     },
     "execution_count": 3,
     "metadata": {},
     "output_type": "execute_result"
    }
   ],
   "source": [
    "bos = pd.DataFrame(boston.data)\n",
    "\n",
    "bos.columns = boston.feature_names\n",
    "bos.head()"
   ]
  },
  {
   "cell_type": "code",
   "execution_count": 4,
   "metadata": {},
   "outputs": [
    {
     "data": {
      "text/html": [
       "<div>\n",
       "<style scoped>\n",
       "    .dataframe tbody tr th:only-of-type {\n",
       "        vertical-align: middle;\n",
       "    }\n",
       "\n",
       "    .dataframe tbody tr th {\n",
       "        vertical-align: top;\n",
       "    }\n",
       "\n",
       "    .dataframe thead th {\n",
       "        text-align: right;\n",
       "    }\n",
       "</style>\n",
       "<table border=\"1\" class=\"dataframe\">\n",
       "  <thead>\n",
       "    <tr style=\"text-align: right;\">\n",
       "      <th></th>\n",
       "      <th>CRIM</th>\n",
       "      <th>ZN</th>\n",
       "      <th>INDUS</th>\n",
       "      <th>CHAS</th>\n",
       "      <th>NOX</th>\n",
       "      <th>RM</th>\n",
       "      <th>AGE</th>\n",
       "      <th>DIS</th>\n",
       "      <th>RAD</th>\n",
       "      <th>TAX</th>\n",
       "      <th>PTRATIO</th>\n",
       "      <th>B</th>\n",
       "      <th>LSTAT</th>\n",
       "    </tr>\n",
       "  </thead>\n",
       "  <tbody>\n",
       "  </tbody>\n",
       "</table>\n",
       "</div>"
      ],
      "text/plain": [
       "Empty DataFrame\n",
       "Columns: [CRIM, ZN, INDUS, CHAS, NOX, RM, AGE, DIS, RAD, TAX, PTRATIO, B, LSTAT]\n",
       "Index: []"
      ]
     },
     "execution_count": 4,
     "metadata": {},
     "output_type": "execute_result"
    }
   ],
   "source": [
    "df1 = bos[bos.isnull().any(axis=1)]\n",
    "df1"
   ]
  },
  {
   "cell_type": "markdown",
   "metadata": {},
   "source": [
    "The data set doesn't have any missing data in the data set to begin with."
   ]
  },
  {
   "cell_type": "code",
   "execution_count": 5,
   "metadata": {},
   "outputs": [
    {
     "data": {
      "text/html": [
       "<div>\n",
       "<style scoped>\n",
       "    .dataframe tbody tr th:only-of-type {\n",
       "        vertical-align: middle;\n",
       "    }\n",
       "\n",
       "    .dataframe tbody tr th {\n",
       "        vertical-align: top;\n",
       "    }\n",
       "\n",
       "    .dataframe thead th {\n",
       "        text-align: right;\n",
       "    }\n",
       "</style>\n",
       "<table border=\"1\" class=\"dataframe\">\n",
       "  <thead>\n",
       "    <tr style=\"text-align: right;\">\n",
       "      <th></th>\n",
       "      <th>CRIM</th>\n",
       "      <th>ZN</th>\n",
       "      <th>INDUS</th>\n",
       "      <th>CHAS</th>\n",
       "      <th>NOX</th>\n",
       "      <th>RM</th>\n",
       "      <th>AGE</th>\n",
       "      <th>DIS</th>\n",
       "      <th>RAD</th>\n",
       "      <th>TAX</th>\n",
       "      <th>PTRATIO</th>\n",
       "      <th>B</th>\n",
       "      <th>LSTAT</th>\n",
       "      <th>PRICE</th>\n",
       "    </tr>\n",
       "  </thead>\n",
       "  <tbody>\n",
       "    <tr>\n",
       "      <th>0</th>\n",
       "      <td>0.00632</td>\n",
       "      <td>18.0</td>\n",
       "      <td>2.31</td>\n",
       "      <td>0.0</td>\n",
       "      <td>0.538</td>\n",
       "      <td>6.575</td>\n",
       "      <td>65.2</td>\n",
       "      <td>4.0900</td>\n",
       "      <td>1.0</td>\n",
       "      <td>296.0</td>\n",
       "      <td>15.3</td>\n",
       "      <td>396.90</td>\n",
       "      <td>4.98</td>\n",
       "      <td>24.0</td>\n",
       "    </tr>\n",
       "    <tr>\n",
       "      <th>1</th>\n",
       "      <td>0.02731</td>\n",
       "      <td>0.0</td>\n",
       "      <td>7.07</td>\n",
       "      <td>0.0</td>\n",
       "      <td>0.469</td>\n",
       "      <td>6.421</td>\n",
       "      <td>78.9</td>\n",
       "      <td>4.9671</td>\n",
       "      <td>2.0</td>\n",
       "      <td>242.0</td>\n",
       "      <td>17.8</td>\n",
       "      <td>396.90</td>\n",
       "      <td>9.14</td>\n",
       "      <td>21.6</td>\n",
       "    </tr>\n",
       "    <tr>\n",
       "      <th>2</th>\n",
       "      <td>0.02729</td>\n",
       "      <td>0.0</td>\n",
       "      <td>7.07</td>\n",
       "      <td>0.0</td>\n",
       "      <td>0.469</td>\n",
       "      <td>7.185</td>\n",
       "      <td>61.1</td>\n",
       "      <td>4.9671</td>\n",
       "      <td>2.0</td>\n",
       "      <td>242.0</td>\n",
       "      <td>17.8</td>\n",
       "      <td>392.83</td>\n",
       "      <td>4.03</td>\n",
       "      <td>34.7</td>\n",
       "    </tr>\n",
       "    <tr>\n",
       "      <th>3</th>\n",
       "      <td>0.03237</td>\n",
       "      <td>0.0</td>\n",
       "      <td>2.18</td>\n",
       "      <td>0.0</td>\n",
       "      <td>0.458</td>\n",
       "      <td>6.998</td>\n",
       "      <td>45.8</td>\n",
       "      <td>6.0622</td>\n",
       "      <td>3.0</td>\n",
       "      <td>222.0</td>\n",
       "      <td>18.7</td>\n",
       "      <td>394.63</td>\n",
       "      <td>2.94</td>\n",
       "      <td>33.4</td>\n",
       "    </tr>\n",
       "    <tr>\n",
       "      <th>4</th>\n",
       "      <td>0.06905</td>\n",
       "      <td>0.0</td>\n",
       "      <td>2.18</td>\n",
       "      <td>0.0</td>\n",
       "      <td>0.458</td>\n",
       "      <td>7.147</td>\n",
       "      <td>54.2</td>\n",
       "      <td>6.0622</td>\n",
       "      <td>3.0</td>\n",
       "      <td>222.0</td>\n",
       "      <td>18.7</td>\n",
       "      <td>396.90</td>\n",
       "      <td>5.33</td>\n",
       "      <td>36.2</td>\n",
       "    </tr>\n",
       "  </tbody>\n",
       "</table>\n",
       "</div>"
      ],
      "text/plain": [
       "      CRIM    ZN  INDUS  CHAS    NOX     RM   AGE     DIS  RAD    TAX  \\\n",
       "0  0.00632  18.0   2.31   0.0  0.538  6.575  65.2  4.0900  1.0  296.0   \n",
       "1  0.02731   0.0   7.07   0.0  0.469  6.421  78.9  4.9671  2.0  242.0   \n",
       "2  0.02729   0.0   7.07   0.0  0.469  7.185  61.1  4.9671  2.0  242.0   \n",
       "3  0.03237   0.0   2.18   0.0  0.458  6.998  45.8  6.0622  3.0  222.0   \n",
       "4  0.06905   0.0   2.18   0.0  0.458  7.147  54.2  6.0622  3.0  222.0   \n",
       "\n",
       "   PTRATIO       B  LSTAT  PRICE  \n",
       "0     15.3  396.90   4.98   24.0  \n",
       "1     17.8  396.90   9.14   21.6  \n",
       "2     17.8  392.83   4.03   34.7  \n",
       "3     18.7  394.63   2.94   33.4  \n",
       "4     18.7  396.90   5.33   36.2  "
      ]
     },
     "execution_count": 5,
     "metadata": {},
     "output_type": "execute_result"
    }
   ],
   "source": [
    "bos['PRICE'] = boston.target\n",
    "bos.head()"
   ]
  },
  {
   "cell_type": "code",
   "execution_count": 6,
   "metadata": {},
   "outputs": [
    {
     "data": {
      "text/html": [
       "<div>\n",
       "<style scoped>\n",
       "    .dataframe tbody tr th:only-of-type {\n",
       "        vertical-align: middle;\n",
       "    }\n",
       "\n",
       "    .dataframe tbody tr th {\n",
       "        vertical-align: top;\n",
       "    }\n",
       "\n",
       "    .dataframe thead th {\n",
       "        text-align: right;\n",
       "    }\n",
       "</style>\n",
       "<table border=\"1\" class=\"dataframe\">\n",
       "  <thead>\n",
       "    <tr style=\"text-align: right;\">\n",
       "      <th></th>\n",
       "      <th>CRIM</th>\n",
       "      <th>ZN</th>\n",
       "      <th>INDUS</th>\n",
       "      <th>CHAS</th>\n",
       "      <th>NOX</th>\n",
       "      <th>RM</th>\n",
       "      <th>AGE</th>\n",
       "      <th>DIS</th>\n",
       "      <th>RAD</th>\n",
       "      <th>TAX</th>\n",
       "      <th>PTRATIO</th>\n",
       "      <th>B</th>\n",
       "      <th>LSTAT</th>\n",
       "      <th>PRICE</th>\n",
       "    </tr>\n",
       "  </thead>\n",
       "  <tbody>\n",
       "    <tr>\n",
       "      <th>count</th>\n",
       "      <td>506.000000</td>\n",
       "      <td>506.000000</td>\n",
       "      <td>506.000000</td>\n",
       "      <td>506.000000</td>\n",
       "      <td>506.000000</td>\n",
       "      <td>506.000000</td>\n",
       "      <td>506.000000</td>\n",
       "      <td>506.000000</td>\n",
       "      <td>506.000000</td>\n",
       "      <td>506.000000</td>\n",
       "      <td>506.000000</td>\n",
       "      <td>506.000000</td>\n",
       "      <td>506.000000</td>\n",
       "      <td>506.000000</td>\n",
       "    </tr>\n",
       "    <tr>\n",
       "      <th>mean</th>\n",
       "      <td>3.593761</td>\n",
       "      <td>11.363636</td>\n",
       "      <td>11.136779</td>\n",
       "      <td>0.069170</td>\n",
       "      <td>0.554695</td>\n",
       "      <td>6.284634</td>\n",
       "      <td>68.574901</td>\n",
       "      <td>3.795043</td>\n",
       "      <td>9.549407</td>\n",
       "      <td>408.237154</td>\n",
       "      <td>18.455534</td>\n",
       "      <td>356.674032</td>\n",
       "      <td>12.653063</td>\n",
       "      <td>22.532806</td>\n",
       "    </tr>\n",
       "    <tr>\n",
       "      <th>std</th>\n",
       "      <td>8.596783</td>\n",
       "      <td>23.322453</td>\n",
       "      <td>6.860353</td>\n",
       "      <td>0.253994</td>\n",
       "      <td>0.115878</td>\n",
       "      <td>0.702617</td>\n",
       "      <td>28.148861</td>\n",
       "      <td>2.105710</td>\n",
       "      <td>8.707259</td>\n",
       "      <td>168.537116</td>\n",
       "      <td>2.164946</td>\n",
       "      <td>91.294864</td>\n",
       "      <td>7.141062</td>\n",
       "      <td>9.197104</td>\n",
       "    </tr>\n",
       "    <tr>\n",
       "      <th>min</th>\n",
       "      <td>0.006320</td>\n",
       "      <td>0.000000</td>\n",
       "      <td>0.460000</td>\n",
       "      <td>0.000000</td>\n",
       "      <td>0.385000</td>\n",
       "      <td>3.561000</td>\n",
       "      <td>2.900000</td>\n",
       "      <td>1.129600</td>\n",
       "      <td>1.000000</td>\n",
       "      <td>187.000000</td>\n",
       "      <td>12.600000</td>\n",
       "      <td>0.320000</td>\n",
       "      <td>1.730000</td>\n",
       "      <td>5.000000</td>\n",
       "    </tr>\n",
       "    <tr>\n",
       "      <th>25%</th>\n",
       "      <td>0.082045</td>\n",
       "      <td>0.000000</td>\n",
       "      <td>5.190000</td>\n",
       "      <td>0.000000</td>\n",
       "      <td>0.449000</td>\n",
       "      <td>5.885500</td>\n",
       "      <td>45.025000</td>\n",
       "      <td>2.100175</td>\n",
       "      <td>4.000000</td>\n",
       "      <td>279.000000</td>\n",
       "      <td>17.400000</td>\n",
       "      <td>375.377500</td>\n",
       "      <td>6.950000</td>\n",
       "      <td>17.025000</td>\n",
       "    </tr>\n",
       "    <tr>\n",
       "      <th>50%</th>\n",
       "      <td>0.256510</td>\n",
       "      <td>0.000000</td>\n",
       "      <td>9.690000</td>\n",
       "      <td>0.000000</td>\n",
       "      <td>0.538000</td>\n",
       "      <td>6.208500</td>\n",
       "      <td>77.500000</td>\n",
       "      <td>3.207450</td>\n",
       "      <td>5.000000</td>\n",
       "      <td>330.000000</td>\n",
       "      <td>19.050000</td>\n",
       "      <td>391.440000</td>\n",
       "      <td>11.360000</td>\n",
       "      <td>21.200000</td>\n",
       "    </tr>\n",
       "    <tr>\n",
       "      <th>75%</th>\n",
       "      <td>3.647423</td>\n",
       "      <td>12.500000</td>\n",
       "      <td>18.100000</td>\n",
       "      <td>0.000000</td>\n",
       "      <td>0.624000</td>\n",
       "      <td>6.623500</td>\n",
       "      <td>94.075000</td>\n",
       "      <td>5.188425</td>\n",
       "      <td>24.000000</td>\n",
       "      <td>666.000000</td>\n",
       "      <td>20.200000</td>\n",
       "      <td>396.225000</td>\n",
       "      <td>16.955000</td>\n",
       "      <td>25.000000</td>\n",
       "    </tr>\n",
       "    <tr>\n",
       "      <th>max</th>\n",
       "      <td>88.976200</td>\n",
       "      <td>100.000000</td>\n",
       "      <td>27.740000</td>\n",
       "      <td>1.000000</td>\n",
       "      <td>0.871000</td>\n",
       "      <td>8.780000</td>\n",
       "      <td>100.000000</td>\n",
       "      <td>12.126500</td>\n",
       "      <td>24.000000</td>\n",
       "      <td>711.000000</td>\n",
       "      <td>22.000000</td>\n",
       "      <td>396.900000</td>\n",
       "      <td>37.970000</td>\n",
       "      <td>50.000000</td>\n",
       "    </tr>\n",
       "  </tbody>\n",
       "</table>\n",
       "</div>"
      ],
      "text/plain": [
       "             CRIM          ZN       INDUS        CHAS         NOX          RM  \\\n",
       "count  506.000000  506.000000  506.000000  506.000000  506.000000  506.000000   \n",
       "mean     3.593761   11.363636   11.136779    0.069170    0.554695    6.284634   \n",
       "std      8.596783   23.322453    6.860353    0.253994    0.115878    0.702617   \n",
       "min      0.006320    0.000000    0.460000    0.000000    0.385000    3.561000   \n",
       "25%      0.082045    0.000000    5.190000    0.000000    0.449000    5.885500   \n",
       "50%      0.256510    0.000000    9.690000    0.000000    0.538000    6.208500   \n",
       "75%      3.647423   12.500000   18.100000    0.000000    0.624000    6.623500   \n",
       "max     88.976200  100.000000   27.740000    1.000000    0.871000    8.780000   \n",
       "\n",
       "              AGE         DIS         RAD         TAX     PTRATIO           B  \\\n",
       "count  506.000000  506.000000  506.000000  506.000000  506.000000  506.000000   \n",
       "mean    68.574901    3.795043    9.549407  408.237154   18.455534  356.674032   \n",
       "std     28.148861    2.105710    8.707259  168.537116    2.164946   91.294864   \n",
       "min      2.900000    1.129600    1.000000  187.000000   12.600000    0.320000   \n",
       "25%     45.025000    2.100175    4.000000  279.000000   17.400000  375.377500   \n",
       "50%     77.500000    3.207450    5.000000  330.000000   19.050000  391.440000   \n",
       "75%     94.075000    5.188425   24.000000  666.000000   20.200000  396.225000   \n",
       "max    100.000000   12.126500   24.000000  711.000000   22.000000  396.900000   \n",
       "\n",
       "            LSTAT       PRICE  \n",
       "count  506.000000  506.000000  \n",
       "mean    12.653063   22.532806  \n",
       "std      7.141062    9.197104  \n",
       "min      1.730000    5.000000  \n",
       "25%      6.950000   17.025000  \n",
       "50%     11.360000   21.200000  \n",
       "75%     16.955000   25.000000  \n",
       "max     37.970000   50.000000  "
      ]
     },
     "execution_count": 6,
     "metadata": {},
     "output_type": "execute_result"
    }
   ],
   "source": [
    "bos.describe()"
   ]
  },
  {
   "cell_type": "code",
   "execution_count": 7,
   "metadata": {},
   "outputs": [
    {
     "data": {
      "text/plain": [
       "Text(0.5,1,'Prices vs Predicted prices: $Y_i$ vs $\\\\hat{Y}_i$')"
      ]
     },
     "execution_count": 7,
     "metadata": {},
     "output_type": "execute_result"
    },
    {
     "data": {
      "image/png": "[encoded data removed]",
      "text/plain": [
       "<Figure size 432x288 with 1 Axes>"
      ]
     },
     "metadata": {},
     "output_type": "display_data"
    }
   ],
   "source": [
    "from sklearn.linear_model import LinearRegression\n",
    "\n",
    "lm = LinearRegression()\n",
    "X = bos.iloc[:,0:-1]  #iloc gives the positional locations, so 'all rows' and 'all but the last column'\n",
    "Y_true = bos.iloc[:,-1] \n",
    "lm.fit(X,Y_true)\n",
    "\n",
    "Y_pred = lm.predict(X)\n",
    "\n",
    "plt.scatter(Y_true, Y_pred)\n",
    "plt.xlabel(\"Prices: $Y_i$\")\n",
    "plt.ylabel(\"Predicted prices: $\\hat{Y}_i$\")\n",
    "plt.title(\"Prices vs Predicted prices: $Y_i$ vs $\\hat{Y}_i$\")"
   ]
  },
  {
   "cell_type": "code",
   "execution_count": 8,
   "metadata": {},
   "outputs": [
    {
     "data": {
      "text/plain": [
       "0.7406077428649427"
      ]
     },
     "execution_count": 8,
     "metadata": {},
     "output_type": "execute_result"
    }
   ],
   "source": [
    "lm.score(X,Y_true)"
   ]
  },
  {
   "cell_type": "markdown",
   "metadata": {},
   "source": [
    "The model without any changes to existing data set showing a $R^{2}$= 0.7406077428649427 (Goodness of Fit)"
   ]
  },
  {
   "cell_type": "code",
   "execution_count": 45,
   "metadata": {},
   "outputs": [
    {
     "name": "stdout",
     "output_type": "stream",
     "text": [
      "MSE:  21.897779217687496\n",
      "MAE:  3.2729446379969227\n"
     ]
    }
   ],
   "source": [
    "from sklearn.metrics import mean_squared_error, mean_absolute_error\n",
    "print(\"MSE: \", mean_squared_error(Y_pred,Y_true))\n",
    "print(\"MAE: \", mean_absolute_error(Y_pred,Y_true))\n",
    "#lm.score(X,Y_true)"
   ]
  },
  {
   "cell_type": "markdown",
   "metadata": {},
   "source": [
    "Mean Squared Error (MSE) and Mean Absolute Error (MAE) are the measure of loss or the differece between a target value and prediction of the variable.\n",
    "\n",
    "### In the exercise, we would take these values as baseline to compare with upcoming tests when we experiment with various scenarios of missing types."
   ]
  },
  {
   "cell_type": "markdown",
   "metadata": {},
   "source": [
    "### STEP 2: (Repeat)\n",
    "### Missing Completely at Random (MCAR)\n",
    "\n",
    "#### For select between 1, 5, 10, 20, 33 and 50% of your data on a single column (Completely at Random), replace the present value with a NAN and then perform an imputation of that value. In each case, perform a fit with the imputed data and compare the loss and goodness of fit to your baseline."
   ]
  },
  {
   "cell_type": "markdown",
   "metadata": {},
   "source": [
    "In this section, we will experiment with imputing data to **AGE** feature by replacing the data limiting to different number of instances.\n",
    "\n",
    "**Missing Completely at Random (MCAR)** exists when missing values are randomly distributed across all observations. Missingness in given variable does not depend on any other variable, whether observed or unobserved."
   ]
  },
  {
   "cell_type": "code",
   "execution_count": 10,
   "metadata": {},
   "outputs": [
    {
     "data": {
      "text/plain": [
       "0.2268808533090937"
      ]
     },
     "execution_count": 10,
     "metadata": {},
     "output_type": "execute_result"
    }
   ],
   "source": [
    "import random\n",
    "random.random()"
   ]
  },
  {
   "cell_type": "code",
   "execution_count": 11,
   "metadata": {},
   "outputs": [
    {
     "data": {
      "text/plain": [
       "506"
      ]
     },
     "execution_count": 11,
     "metadata": {},
     "output_type": "execute_result"
    }
   ],
   "source": [
    "X.shape[0]"
   ]
  },
  {
   "cell_type": "code",
   "execution_count": 12,
   "metadata": {},
   "outputs": [
    {
     "data": {
      "text/html": [
       "<div>\n",
       "<style scoped>\n",
       "    .dataframe tbody tr th:only-of-type {\n",
       "        vertical-align: middle;\n",
       "    }\n",
       "\n",
       "    .dataframe tbody tr th {\n",
       "        vertical-align: top;\n",
       "    }\n",
       "\n",
       "    .dataframe thead th {\n",
       "        text-align: right;\n",
       "    }\n",
       "</style>\n",
       "<table border=\"1\" class=\"dataframe\">\n",
       "  <thead>\n",
       "    <tr style=\"text-align: right;\">\n",
       "      <th></th>\n",
       "      <th>CRIM</th>\n",
       "      <th>ZN</th>\n",
       "      <th>INDUS</th>\n",
       "      <th>CHAS</th>\n",
       "      <th>NOX</th>\n",
       "      <th>RM</th>\n",
       "      <th>AGE</th>\n",
       "      <th>DIS</th>\n",
       "      <th>RAD</th>\n",
       "      <th>TAX</th>\n",
       "      <th>PTRATIO</th>\n",
       "      <th>B</th>\n",
       "      <th>LSTAT</th>\n",
       "    </tr>\n",
       "  </thead>\n",
       "  <tbody>\n",
       "  </tbody>\n",
       "</table>\n",
       "</div>"
      ],
      "text/plain": [
       "Empty DataFrame\n",
       "Columns: [CRIM, ZN, INDUS, CHAS, NOX, RM, AGE, DIS, RAD, TAX, PTRATIO, B, LSTAT]\n",
       "Index: []"
      ]
     },
     "execution_count": 12,
     "metadata": {},
     "output_type": "execute_result"
    }
   ],
   "source": [
    "df1 = X[X.isnull().any(axis=1)]\n",
    "df1"
   ]
  },
  {
   "cell_type": "markdown",
   "metadata": {},
   "source": [
    "For 1% of the data selection "
   ]
  },
  {
   "cell_type": "code",
   "execution_count": 18,
   "metadata": {},
   "outputs": [],
   "source": [
    "from sklearn.linear_model import LinearRegression\n",
    "limit1 = [0.01,0.05,0.1,0.2,0.33,0.5]\n",
    "MSE = []\n",
    "MAE = []\n",
    "Scr = []"
   ]
  },
  {
   "cell_type": "code",
   "execution_count": 19,
   "metadata": {},
   "outputs": [
    {
     "name": "stderr",
     "output_type": "stream",
     "text": [
      "C:\\Users\\NithyaDoss\\Anaconda3\\envs\\python2x\\lib\\site-packages\\ipykernel_launcher.py:7: SettingWithCopyWarning: \n",
      "A value is trying to be set on a copy of a slice from a DataFrame\n",
      "\n",
      "See the caveats in the documentation: http://pandas.pydata.org/pandas-docs/stable/indexing.html#indexing-view-versus-copy\n",
      "  import sys\n",
      "C:\\Users\\NithyaDoss\\Anaconda3\\envs\\python2x\\lib\\site-packages\\ipykernel_launcher.py:10: SettingWithCopyWarning: \n",
      "A value is trying to be set on a copy of a slice from a DataFrame\n",
      "\n",
      "See the caveats in the documentation: http://pandas.pydata.org/pandas-docs/stable/indexing.html#indexing-view-versus-copy\n",
      "  # Remove the CWD from sys.path while we load stuff.\n"
     ]
    },
    {
     "data": {
      "image/png": "[encoded data removed]",
      "text/plain": [
       "<Figure size 432x288 with 1 Axes>"
      ]
     },
     "metadata": {},
     "output_type": "display_data"
    }
   ],
   "source": [
    "X_age = X\n",
    "for j in range(0,len(limit1)):\n",
    "    for i in range(X_age.shape[0]):\n",
    "        miss_1 = random.random()\n",
    "        #miss_2 = random.random()\n",
    "        if miss_1 < limit1[j]:\n",
    "            X_age.iloc[i,6] = np.nan\n",
    "    X_age.loc[X_age.iloc[:,6].isna(),'AGE'].shape\n",
    "    sub = X_age['AGE'].median()\n",
    "    X_age.loc[X_age.iloc[:,6].isna(),'AGE'] = sub\n",
    "    lm.fit(X_age,Y_true)\n",
    "    Y_pred = lm.predict(X_age)\n",
    "    plt.scatter(Y_true, Y_pred)\n",
    "    plt.xlabel(\"Prices: $Y_i$\")\n",
    "    plt.ylabel(\"Predicted prices: $\\hat{Y}_i$\")\n",
    "    plt.title(\"Prices vs Predicted prices: $Y_i$ vs $\\hat{Y}_i$\")\n",
    "    MSE.append(mean_squared_error(Y_pred,Y_true))\n",
    "    MAE.append(mean_absolute_error(Y_pred,Y_true))\n",
    "    Scr.append(lm.score(X_age,Y_true))\n",
    "    \n",
    "   # cnt += 1    plt.subplot(7, 1, cnt)    plt.axis([10, 50, 0, 40])\n"
   ]
  },
  {
   "cell_type": "code",
   "execution_count": 41,
   "metadata": {},
   "outputs": [
    {
     "name": "stdout",
     "output_type": "stream",
     "text": [
      "The Mean Squared Error for ->MCAR 1 % of data selected is 21.896927216332855\n",
      "The Mean Squared Error for ->MCAR 5 % of data selected is 21.896642657415423\n",
      "The Mean Squared Error for ->MCAR 10 % of data selected is 21.894902942242854\n",
      "The Mean Squared Error for ->MCAR 20 % of data selected is 21.872657268124676\n",
      "The Mean Squared Error for ->MCAR 33 % of data selected is 21.89314125501161\n",
      "The Mean Squared Error for ->MCAR 50 % of data selected is 21.87804620409578\n"
     ]
    }
   ],
   "source": [
    "for i in range(0,len(MSE)):\n",
    "    print 'The Mean Squared Error for ->MCAR',int(limit1[i]*100), '% of data selected is',MSE[i]"
   ]
  },
  {
   "cell_type": "code",
   "execution_count": 42,
   "metadata": {},
   "outputs": [
    {
     "name": "stdout",
     "output_type": "stream",
     "text": [
      "The Mean Absolute Error for ->MCAR 1 % of data selected is 3.2733948553747956\n",
      "The Mean Absolute Error for ->MCAR 5 % of data selected is 3.273576810888282\n",
      "The Mean Absolute Error for ->MCAR 10 % of data selected is 3.272185909046397\n",
      "The Mean Absolute Error for ->MCAR 20 % of data selected is 3.271217665177321\n",
      "The Mean Absolute Error for ->MCAR 33 % of data selected is 3.270206346128199\n",
      "The Mean Absolute Error for ->MCAR 50 % of data selected is 3.269255826557974\n"
     ]
    }
   ],
   "source": [
    "for i in range(0,len(MAE)):\n",
    "    print 'The Mean Absolute Error for ->MCAR',int(limit1[i]*100), '% of data selected is',MAE[i]\n"
   ]
  },
  {
   "cell_type": "code",
   "execution_count": 43,
   "metadata": {},
   "outputs": [
    {
     "name": "stdout",
     "output_type": "stream",
     "text": [
      "The Score for ->MCAR 1 % of data selected is 0.7406178353292181\n",
      "The Score for ->MCAR 5 % of data selected is 0.740621206099338\n",
      "The Score for ->MCAR 10 % of data selected is 0.7406418140633192\n",
      "The Score for ->MCAR 20 % of data selected is 0.7409053273430742\n",
      "The Score for ->MCAR 33 % of data selected is 0.740662682299442\n",
      "The Score for ->MCAR 50 % of data selected is 0.7408414921819282\n"
     ]
    }
   ],
   "source": [
    "for i in range(0,len(Scr)):\n",
    "    print 'The Score for ->MCAR',int(limit1[i]*100), '% of data selected is',Scr[i]"
   ]
  },
  {
   "cell_type": "markdown",
   "metadata": {},
   "source": [
    "#### Compared to baseline statistics (Baseline: $R^{2}$: 0.7406077428649427; MSE:  21.897779217687496; MAE:  3.2729446379969227), we did not observe very significant loss or change in goodness of fit test while implementing imputation for Missing Completely at Random (MCAR) experiments on feature 'Age'."
   ]
  },
  {
   "cell_type": "markdown",
   "metadata": {},
   "source": [
    "### Step 3: \n",
    "### Missing at Random (MAR)\n",
    "#### Take 2 different columns and create data \"Missing at Random\" when controlled for a third variable (i.e., if variable Z > 30%,  then variable X, Y are randomly missing). Make runs 10, 20 and 30% missing data imputed via your best guess. Repeat your fit and comparison to baseline."
   ]
  },
  {
   "cell_type": "markdown",
   "metadata": {},
   "source": [
    "In this section, we will experiment with imputing data for **NOX and DIS** features when **CHAS = 1** by replacing the data limiting to number of instances - 10%, 20%, and 30%. \n",
    "\n",
    "**Missing at Random (MAR)** data reflect a systematic rather than random pattern of missingness with our controlled variable CHAS==1."
   ]
  },
  {
   "cell_type": "code",
   "execution_count": 35,
   "metadata": {},
   "outputs": [],
   "source": [
    "X_twocol = X\n",
    "X2 = X_twocol[X_twocol['CHAS']==1]"
   ]
  },
  {
   "cell_type": "code",
   "execution_count": 36,
   "metadata": {},
   "outputs": [
    {
     "name": "stderr",
     "output_type": "stream",
     "text": [
      "C:\\Users\\NithyaDoss\\Anaconda3\\envs\\python2x\\lib\\site-packages\\ipykernel_launcher.py:10: SettingWithCopyWarning: \n",
      "A value is trying to be set on a copy of a slice from a DataFrame\n",
      "\n",
      "See the caveats in the documentation: http://pandas.pydata.org/pandas-docs/stable/indexing.html#indexing-view-versus-copy\n",
      "  # Remove the CWD from sys.path while we load stuff.\n",
      "C:\\Users\\NithyaDoss\\Anaconda3\\envs\\python2x\\lib\\site-packages\\ipykernel_launcher.py:13: SettingWithCopyWarning: \n",
      "A value is trying to be set on a copy of a slice from a DataFrame\n",
      "\n",
      "See the caveats in the documentation: http://pandas.pydata.org/pandas-docs/stable/indexing.html#indexing-view-versus-copy\n",
      "  del sys.path[0]\n",
      "C:\\Users\\NithyaDoss\\Anaconda3\\envs\\python2x\\lib\\site-packages\\ipykernel_launcher.py:14: SettingWithCopyWarning: \n",
      "A value is trying to be set on a copy of a slice from a DataFrame.\n",
      "Try using .loc[row_indexer,col_indexer] = value instead\n",
      "\n",
      "See the caveats in the documentation: http://pandas.pydata.org/pandas-docs/stable/indexing.html#indexing-view-versus-copy\n",
      "  \n",
      "C:\\Users\\NithyaDoss\\Anaconda3\\envs\\python2x\\lib\\site-packages\\pandas\\core\\frame.py:2534: SettingWithCopyWarning: \n",
      "A value is trying to be set on a copy of a slice from a DataFrame\n",
      "\n",
      "See the caveats in the documentation: http://pandas.pydata.org/pandas-docs/stable/indexing.html#indexing-view-versus-copy\n",
      "  self.loc._setitem_with_indexer(indexer, value)\n",
      "C:\\Users\\NithyaDoss\\Anaconda3\\envs\\python2x\\lib\\site-packages\\pandas\\core\\frame.py:2514: SettingWithCopyWarning: \n",
      "A value is trying to be set on a copy of a slice from a DataFrame\n",
      "\n",
      "See the caveats in the documentation: http://pandas.pydata.org/pandas-docs/stable/indexing.html#indexing-view-versus-copy\n",
      "  self._setitem_array(key, value)\n",
      "C:\\Users\\NithyaDoss\\Anaconda3\\envs\\python2x\\lib\\site-packages\\ipykernel_launcher.py:17: SettingWithCopyWarning: \n",
      "A value is trying to be set on a copy of a slice from a DataFrame\n",
      "\n",
      "See the caveats in the documentation: http://pandas.pydata.org/pandas-docs/stable/indexing.html#indexing-view-versus-copy\n",
      "C:\\Users\\NithyaDoss\\Anaconda3\\envs\\python2x\\lib\\site-packages\\ipykernel_launcher.py:19: SettingWithCopyWarning: \n",
      "A value is trying to be set on a copy of a slice from a DataFrame\n",
      "\n",
      "See the caveats in the documentation: http://pandas.pydata.org/pandas-docs/stable/indexing.html#indexing-view-versus-copy\n"
     ]
    }
   ],
   "source": [
    "limit2 = [0.1,0.2,0.3]\n",
    "MSE1 = []\n",
    "MAE1 = []\n",
    "Scr1 = []\n",
    "for j in range(0,len(limit2)):\n",
    "    for i in range(X2.shape[0]):\n",
    "        miss_1 = random.random()\n",
    "        miss_2 = random.random()\n",
    "        if miss_1 < limit2[j]:\n",
    "            X2.iloc[i,4] = np.nan\n",
    "\n",
    "        if miss_2 < limit:\n",
    "            X2.iloc[i,7] = np.nan\n",
    "    X_twocol[X_twocol['CHAS']==1] = X2\n",
    "    X_twocol.loc[X_twocol.iloc[:,4].isna(),'NOX'].shape\n",
    "    sub = X_twocol['NOX'].mean()\n",
    "    X_twocol.loc[X_twocol.iloc[:,4].isna(),'NOX'] = sub\n",
    "    sub = X_twocol['DIS'].mean()\n",
    "    X_twocol.loc[X_twocol.iloc[:,7].isna(),'DIS'] = sub\n",
    "    lm.fit(X_twocol,Y_true)\n",
    "    Y_pred = lm.predict(X_twocol)\n",
    "    #plt.scatter(Y_true, Y_pred)\n",
    "    #plt.xlabel(\"Prices: $Y_i$\")\n",
    "    #plt.ylabel(\"Predicted prices: $\\hat{Y}_i$\")\n",
    "    #plt.title(\"Prices vs Predicted prices: $Y_i$ vs $\\hat{Y}_i$\")\n",
    "    Scr1.append(lm.score(X_twocol,Y_true))\n",
    "    MSE1.append(mean_squared_error(Y_pred,Y_true))\n",
    "    MAE1.append(mean_absolute_error(Y_pred,Y_true))"
   ]
  },
  {
   "cell_type": "code",
   "execution_count": 39,
   "metadata": {},
   "outputs": [
    {
     "name": "stdout",
     "output_type": "stream",
     "text": [
      "The Mean Squared Error for ->MAR 10 % of data selected is 22.143746822120363\n",
      "The Mean Squared Error for ->MAR 20 % of data selected is 22.303193759305273\n",
      "The Mean Squared Error for ->MAR 30 % of data selected is 22.48494614486322\n"
     ]
    }
   ],
   "source": [
    "for i in range(0,len(MSE1)):\n",
    "    print 'The Mean Squared Error for ->MAR',int(limit2[i]*100), '% of data selected is',MSE1[i]"
   ]
  },
  {
   "cell_type": "code",
   "execution_count": 40,
   "metadata": {},
   "outputs": [
    {
     "name": "stdout",
     "output_type": "stream",
     "text": [
      "The Mean Absolute Error for ->MAR 10 % of data selected is 3.2723355043652274\n",
      "The Mean Absolute Error for ->MAR 20 % of data selected is 3.2708843624849386\n",
      "The Mean Absolute Error for ->MAR 30 % of data selected is 3.289969043977165\n"
     ]
    }
   ],
   "source": [
    "for i in range(0,len(MAE1)):\n",
    "    print 'The Mean Absolute Error for ->MAR',int(limit2[i]*100), '% of data selected is',MAE1[i]"
   ]
  },
  {
   "cell_type": "markdown",
   "metadata": {},
   "source": [
    "for i in range(0,len(Scr1)):\n",
    "    print 'The Score for ->MAR',int(limit2[i]*100), '% of data selected is',Scr1[i]"
   ]
  },
  {
   "cell_type": "markdown",
   "metadata": {},
   "source": [
    "#### Compared to baseline statistics (Baseline: $R^{2}$: 0.7406077428649427; MSE:  21.897779217687496; MAE:  3.2729446379969227), we did observe slight increase in loss of (MSE), no significant loss of (MAE) and slight decrease in goodness of fit test while implementing imputation for Missing at Random (MAR) experiments on features NOX and DIS with CHAS as controlling feature."
   ]
  },
  {
   "cell_type": "markdown",
   "metadata": {},
   "source": [
    "## Step 4:\n",
    "## Missing Not at Random\n",
    "\n",
    "#### Create a Missing Not at Random pattern in which 25% of the data is missing for a single column.    Impute your data, fit the results and compare to a baseline"
   ]
  },
  {
   "cell_type": "markdown",
   "metadata": {},
   "source": [
    "In this section, we will experiment with imputing data to RM (average Room Size) feature by replacing upto 25% of the obsersations.\n",
    "\n",
    "**Missing Not at Random** happens when missingness depends at least in part on unobserved variables"
   ]
  },
  {
   "cell_type": "code",
   "execution_count": 45,
   "metadata": {},
   "outputs": [],
   "source": [
    "#5.885500 - Missing at Not Random\n",
    "X_rm = X\n",
    "#X2 = X_rm[X_twocol['CHAS']==1]"
   ]
  },
  {
   "cell_type": "code",
   "execution_count": 46,
   "metadata": {},
   "outputs": [
    {
     "data": {
      "text/plain": [
       "127"
      ]
     },
     "execution_count": 46,
     "metadata": {},
     "output_type": "execute_result"
    }
   ],
   "source": [
    "len(X[X['RM']<5.8855])"
   ]
  },
  {
   "cell_type": "code",
   "execution_count": 47,
   "metadata": {},
   "outputs": [],
   "source": [
    "X2 = X_rm[X_rm['RM']<=6.208]"
   ]
  },
  {
   "cell_type": "code",
   "execution_count": 48,
   "metadata": {},
   "outputs": [
    {
     "name": "stdout",
     "output_type": "stream",
     "text": [
      "0.625215613898\n",
      "0.161858793337\n",
      "0.04453729814\n"
     ]
    },
    {
     "name": "stderr",
     "output_type": "stream",
     "text": [
      "C:\\Users\\NithyaDoss\\Anaconda3\\envs\\python2x\\lib\\site-packages\\ipykernel_launcher.py:6: SettingWithCopyWarning: \n",
      "A value is trying to be set on a copy of a slice from a DataFrame\n",
      "\n",
      "See the caveats in the documentation: http://pandas.pydata.org/pandas-docs/stable/indexing.html#indexing-view-versus-copy\n",
      "  \n"
     ]
    },
    {
     "name": "stdout",
     "output_type": "stream",
     "text": [
      "0.302362109816\n",
      "0.0520874054154\n",
      "0.445742029015\n",
      "0.165003639299\n",
      "0.413461040718\n",
      "0.743416569042\n",
      "0.721621435237\n",
      "0.0959558557612\n",
      "0.139172416282\n",
      "0.672432300821\n",
      "0.200113367627\n",
      "0.574052633491\n",
      "0.642453332295\n",
      "0.0627098113857\n",
      "0.677087332901\n",
      "0.776187587962\n",
      "0.614347452956\n",
      "0.0796040205304\n",
      "0.17547063553\n",
      "0.537643213628\n",
      "0.462399554143\n",
      "0.576034085117\n",
      "0.268038930535\n",
      "0.912728036281\n",
      "0.693184105845\n",
      "0.183487253058\n",
      "0.167373301739\n",
      "0.628973479133\n",
      "0.238458013307\n",
      "0.934206785174\n",
      "0.445520429318\n",
      "0.173469106955\n",
      "0.42540699498\n",
      "0.225959534074\n",
      "0.861548130703\n",
      "0.612466934757\n",
      "0.935563412411\n",
      "0.368600572764\n",
      "0.0701410310237\n",
      "0.612341130546\n",
      "0.887685477976\n",
      "0.058422766298\n",
      "0.228229317275\n",
      "0.960073761977\n",
      "0.775764565764\n",
      "0.729869009766\n",
      "0.947299925504\n",
      "0.742951156306\n",
      "0.748073151019\n",
      "0.841141842888\n",
      "0.915163718686\n",
      "0.355676004883\n",
      "0.503989262755\n",
      "0.464231127614\n",
      "0.408831383175\n",
      "0.389324434288\n",
      "0.832610551745\n",
      "0.558116123338\n",
      "0.897958305728\n",
      "0.618104481805\n",
      "0.0564084715964\n",
      "0.428449179968\n",
      "0.274894554654\n",
      "0.459765466436\n",
      "0.33329172765\n",
      "0.927580974595\n",
      "0.539398452153\n",
      "0.220116937258\n",
      "0.721374497381\n",
      "0.982964473512\n",
      "0.361911673452\n",
      "0.937061469652\n",
      "0.600082897936\n",
      "0.260311919356\n",
      "0.122810448099\n",
      "0.979006405947\n",
      "0.519907142995\n",
      "0.5570682011\n",
      "0.898533005637\n",
      "0.913697280523\n",
      "0.965650518349\n",
      "0.903602096016\n",
      "0.929809944281\n",
      "0.823115292385\n",
      "0.752862393802\n",
      "0.840222173032\n",
      "0.594941577186\n",
      "0.189595599508\n",
      "0.510283697016\n",
      "0.159665716049\n",
      "0.150943307601\n",
      "0.73009851593\n",
      "0.0222452252199\n",
      "0.769993531179\n",
      "0.252297927453\n",
      "0.164294573246\n",
      "0.253335678938\n",
      "0.930777879335\n",
      "0.839634846396\n",
      "0.218760567541\n",
      "0.451330836762\n",
      "0.960380670179\n",
      "0.87756830034\n",
      "0.695574087993\n",
      "0.951222841408\n",
      "0.745206036191\n",
      "0.794528047801\n",
      "0.379619320103\n",
      "0.264559684905\n",
      "0.567478927066\n",
      "0.802642872066\n",
      "0.891372368797\n",
      "0.379434724799\n",
      "0.306260989448\n",
      "0.0497341871908\n",
      "0.774950373067\n",
      "0.374817733604\n",
      "0.957445944059\n",
      "0.324776655817\n",
      "0.883475860746\n",
      "0.56500686427\n",
      "0.992141921627\n",
      "0.300256204504\n",
      "0.801550414635\n",
      "0.237594274489\n",
      "0.941450429113\n",
      "0.918583615074\n",
      "0.219436235085\n",
      "0.303224755951\n",
      "0.30223109877\n",
      "0.276367810555\n",
      "0.157662438184\n",
      "0.22966064856\n",
      "0.765516458362\n",
      "0.42469029444\n",
      "0.474849423161\n",
      "0.426273890209\n",
      "0.5882259118\n",
      "0.00294479438877\n",
      "0.0875779986258\n",
      "0.20763292932\n",
      "0.532532650305\n",
      "0.0579621782395\n",
      "0.460663966347\n",
      "0.00175603974372\n",
      "0.0852175481366\n",
      "0.48930839918\n",
      "0.519014819521\n",
      "0.888656107133\n",
      "0.736266432607\n",
      "0.999419482941\n",
      "0.139811120833\n",
      "0.776615160422\n",
      "0.885613318754\n",
      "0.204013300136\n",
      "0.732187632861\n",
      "0.383026436052\n",
      "0.723623012479\n",
      "0.427860674291\n",
      "0.234967094601\n",
      "0.866466452847\n",
      "0.420045545022\n",
      "0.101409642451\n",
      "0.0879229698416\n",
      "0.467697787426\n",
      "0.671160201709\n",
      "0.0918565929092\n",
      "0.69371995309\n",
      "0.694586092764\n",
      "0.494529559598\n",
      "0.555513227371\n",
      "0.502057905021\n",
      "0.0581349454683\n",
      "0.480390218976\n",
      "0.96906084348\n",
      "0.647930129178\n",
      "0.848243243466\n",
      "0.245697137464\n",
      "0.14780103771\n",
      "0.340331366792\n",
      "0.887921350183\n",
      "0.58317077136\n",
      "0.359202898194\n",
      "0.0219728414734\n",
      "0.246459368502\n",
      "0.393141107413\n",
      "0.581579292063\n",
      "0.168830548581\n",
      "0.39322915509\n",
      "0.3459068585\n",
      "0.386827636191\n",
      "0.896569148298\n",
      "0.466493812671\n",
      "0.159448864031\n",
      "0.121666664642\n",
      "0.276105637521\n",
      "0.0315490218791\n",
      "0.983668460815\n",
      "0.906236356168\n",
      "0.165871165438\n",
      "0.330310584934\n",
      "0.765606666177\n",
      "0.249667646133\n",
      "0.894682106841\n",
      "0.328551382553\n",
      "0.830643906557\n",
      "0.691329213521\n",
      "0.508348154831\n",
      "0.316360795363\n",
      "0.33575854289\n",
      "0.589565124743\n",
      "0.343215252699\n",
      "0.478889126635\n",
      "0.387901870884\n",
      "0.170915899644\n",
      "0.598446711186\n",
      "0.814260962838\n",
      "0.290004581111\n",
      "0.273230939423\n",
      "0.330781426548\n",
      "0.117669744412\n",
      "0.661427980109\n",
      "0.553843104487\n",
      "0.702407224018\n",
      "0.235097649691\n",
      "0.462982272452\n",
      "0.908766040216\n",
      "0.958636360331\n",
      "0.11857972935\n",
      "0.0707236162733\n",
      "0.861722185428\n",
      "0.477833630721\n",
      "0.498256888291\n",
      "0.33208305387\n",
      "0.00519594585335\n",
      "0.341635525607\n",
      "0.161543890212\n",
      "0.630777107885\n",
      "0.952020295152\n",
      "0.926696176079\n",
      "0.114889137011\n",
      "0.531567007575\n",
      "0.869104098893\n",
      "0.609726157842\n",
      "0.571648368111\n",
      "0.460378134302\n",
      "0.995072466348\n",
      "0.722363133061\n",
      "0.191736593902\n",
      "0.68675571514\n"
     ]
    }
   ],
   "source": [
    "limit = .25\n",
    "for i in range(X2.shape[0]):\n",
    "    miss_1 = random.random()\n",
    "    print(miss_1)\n",
    "    if miss_1 < limit:\n",
    "        X2.iloc[i,5] = np.nan"
   ]
  },
  {
   "cell_type": "code",
   "execution_count": 120,
   "metadata": {},
   "outputs": [
    {
     "name": "stderr",
     "output_type": "stream",
     "text": [
      "/anaconda3/lib/python3.6/site-packages/ipykernel_launcher.py:1: SettingWithCopyWarning: \n",
      "A value is trying to be set on a copy of a slice from a DataFrame.\n",
      "Try using .loc[row_indexer,col_indexer] = value instead\n",
      "\n",
      "See the caveats in the documentation: http://pandas.pydata.org/pandas-docs/stable/indexing.html#indexing-view-versus-copy\n",
      "  \"\"\"Entry point for launching an IPython kernel.\n",
      "/anaconda3/lib/python3.6/site-packages/pandas/core/frame.py:2534: SettingWithCopyWarning: \n",
      "A value is trying to be set on a copy of a slice from a DataFrame\n",
      "\n",
      "See the caveats in the documentation: http://pandas.pydata.org/pandas-docs/stable/indexing.html#indexing-view-versus-copy\n",
      "  self.loc._setitem_with_indexer(indexer, value)\n",
      "/anaconda3/lib/python3.6/site-packages/pandas/core/frame.py:2514: SettingWithCopyWarning: \n",
      "A value is trying to be set on a copy of a slice from a DataFrame\n",
      "\n",
      "See the caveats in the documentation: http://pandas.pydata.org/pandas-docs/stable/indexing.html#indexing-view-versus-copy\n",
      "  self._setitem_array(key, value)\n"
     ]
    }
   ],
   "source": [
    "X_rm[X_rm['RM']<=6.208] = X2"
   ]
  },
  {
   "cell_type": "code",
   "execution_count": 49,
   "metadata": {},
   "outputs": [
    {
     "name": "stderr",
     "output_type": "stream",
     "text": [
      "C:\\Users\\NithyaDoss\\Anaconda3\\envs\\python2x\\lib\\site-packages\\ipykernel_launcher.py:2: SettingWithCopyWarning: \n",
      "A value is trying to be set on a copy of a slice from a DataFrame\n",
      "\n",
      "See the caveats in the documentation: http://pandas.pydata.org/pandas-docs/stable/indexing.html#indexing-view-versus-copy\n",
      "  \n"
     ]
    }
   ],
   "source": [
    "sub =  X_rm['RM'].mean()\n",
    "X_rm.loc[X_rm.iloc[:,5].isna(),'RM'] = sub"
   ]
  },
  {
   "cell_type": "code",
   "execution_count": 50,
   "metadata": {},
   "outputs": [
    {
     "data": {
      "text/plain": [
       "Text(0.5,1,'Prices vs Predicted prices: $Y_i$ vs $\\\\hat{Y}_i$')"
      ]
     },
     "execution_count": 50,
     "metadata": {},
     "output_type": "execute_result"
    },
    {
     "data": {
      "image/png": "[encoded data removed]",
      "text/plain": [
       "<Figure size 432x288 with 1 Axes>"
      ]
     },
     "metadata": {},
     "output_type": "display_data"
    }
   ],
   "source": [
    "from sklearn.linear_model import LinearRegression\n",
    "\n",
    "lm.fit(X_rm,Y_true)\n",
    "\n",
    "Y_pred = lm.predict(X_rm)\n",
    "\n",
    "plt.scatter(Y_true, Y_pred)\n",
    "plt.xlabel(\"Prices: $Y_i$\")\n",
    "plt.ylabel(\"Predicted prices: $\\hat{Y}_i$\")\n",
    "plt.title(\"Prices vs Predicted prices: $Y_i$ vs $\\hat{Y}_i$\")"
   ]
  },
  {
   "cell_type": "code",
   "execution_count": 51,
   "metadata": {},
   "outputs": [
    {
     "name": "stdout",
     "output_type": "stream",
     "text": [
      "The Score for ->MNAR 0.7336524003600671\n"
     ]
    }
   ],
   "source": [
    "lm.score(X_rm,Y_true)\n",
    "print 'The Score for ->MNAR',lm.score(X_rm,Y_true)"
   ]
  },
  {
   "cell_type": "code",
   "execution_count": 47,
   "metadata": {},
   "outputs": [
    {
     "name": "stdout",
     "output_type": "stream",
     "text": [
      "Mean Squared Error (MSE): 21.897779217687496\n",
      "Mean Absolute Error (MAE): 3.2729446379969227\n"
     ]
    }
   ],
   "source": [
    "print(\"Mean Squared Error (MSE):\", mean_squared_error(Y_pred,Y_true))\n",
    "print(\"Mean Absolute Error (MAE):\",mean_absolute_error(Y_pred,Y_true))"
   ]
  },
  {
   "cell_type": "markdown",
   "metadata": {},
   "source": [
    "#### Compared to baseline statistics (Baseline: $R^{2}$: 0.7406077428649427; MSE:  21.897779217687496; MAE:  3.2729446379969227), we did observe no siginficant change in loss to both MSE and MAE, and slight decrease in goodness of fit test while implementing imputation for Missing Not at Random (MNAR) experiment on RM (<= 6.208) feature by imputing missing data into approximately 25% of observations."
   ]
  },
  {
   "cell_type": "markdown",
   "metadata": {},
   "source": [
    "### Conclusion"
   ]
  },
  {
   "cell_type": "markdown",
   "metadata": {},
   "source": [
    "### References\n",
    "Loss\n",
    "https://heartbeat.fritz.ai/5-regression-loss-functions-all-machine-learners-should-know-4fb140e9d4b0\n",
    "\n",
    "Goodness of fit\n",
    "http://www.medicine.mcgill.ca/epidemiology/joseph/courses/EPIB-621/fit.pdf"
   ]
  }
 ],
 "metadata": {
  "kernelspec": {
   "display_name": "Python 3",
   "language": "python",
   "name": "python3"
  },
  "language_info": {
   "codemirror_mode": {
    "name": "ipython",
    "version": 3
   },
   "file_extension": ".py",
   "mimetype": "text/x-python",
   "name": "python",
   "nbconvert_exporter": "python",
   "pygments_lexer": "ipython3",
   "version": "3.6.3"
  }
 },
 "nbformat": 4,
 "nbformat_minor": 2
}
