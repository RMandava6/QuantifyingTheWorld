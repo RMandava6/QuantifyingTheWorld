{
 "cells": [
  {
   "cell_type": "markdown",
   "metadata": {},
   "source": [
    "## Case Study 6 (Unit 12): Evaluate Neural Nets using Keras\n",
    "### Team: Hieu Nguyen, Nithya Devadoss, Ramesh Simhambhatla, Ramya Mandava\n",
    "### Date: 11/18/2018"
   ]
  },
  {
   "cell_type": "markdown",
   "metadata": {},
   "source": [
    "## Abstract\n",
    "\n",
    "In Artifical Intelligence, Artificial Neural Networks (ANN) are computing systems vaguely inspired by the biological neural networks that constitute animal brains. The neural network itself is not an algorithm, but rather a framework for many different machine learning algorithms to work together and process complex data inputs. Such systems \"learn\" to perform tasks by considering examples, generally without being programmed with any task-specific rules. In this case study, we will leverage Keras API, a python package, capable of fast experimentation for deep learning training and testing. We will experiment with a subset of Higgs Boson experimental data acquired from UCI Machine Learning repository. We will use ROC AUC (Area under ROC Curve, which provides an aggregate measure of performance across all possible classification thresholds) as our model performance metric to measure and compare our models. We will experiment with varying number of neurons, hidden layers, activation functions, kernel initializers, optimizers and various other hyper parameters such as epochs, batch sizes, learning rates etc. We will compare the performance results between each of these model in order to extract best model and conlcude our findings."
   ]
  },
  {
   "cell_type": "markdown",
   "metadata": {},
   "source": [
    "## Introduction"
   ]
  },
  {
   "cell_type": "markdown",
   "metadata": {},
   "source": [
    "The Higgs boson is an elementary particle in the Standard Model of particle physics, produced by the quantum excitation of the Higgs field, one of the fields in particle physics theory [1].\n",
    "\n",
    "The data set is acquired from UCI Machine Learning repository: https://archive.ics.uci.edu/ml/datasets/HIGGS\n",
    "\n",
    "#### Data Set Information:\n",
    "\n",
    "The data has been produced using Monte Carlo simulations. The first 21 features (columns 2-22) are kinematic properties measured by the particle detectors in the accelerator. The last seven features are functions of the first 21 features; these are high-level features derived by physicists to help discriminate between the two classes. There is an interest in using deep learning methods to obviate the need for physicists to manually develop such features. Benchmark results using Bayesian Decision Trees from a standard physics package and 5-layer neural networks are presented in the original paper. The last 500,000 examples are used as a test set.\n",
    "\n",
    "\n",
    "#### Attribute Information:\n",
    "\n",
    "The first column is the class label (1 for signal, 0 for background), followed by the 28 features (21 low-level features then 7 high-level features): lepton pT, lepton eta, lepton phi, missing energy magnitude, missing energy phi, jet 1 pt, jet 1 eta, jet 1 phi, jet 1 b-tag, jet 2 pt, jet 2 eta, jet 2 phi, jet 2 b-tag, jet 3 pt, jet 3 eta, jet 3 phi, jet 3 b-tag, jet 4 pt, jet 4 eta, jet 4 phi, jet 4 b-tag, m_jj, m_jjj, m_lv, m_jlv, m_bb, m_wbb, m_wwbb. For more detailed information about each feature see the original paper."
   ]
  },
  {
   "cell_type": "code",
   "execution_count": 41,
   "metadata": {},
   "outputs": [],
   "source": [
    "import pandas as pd\n",
    "import numpy as np\n",
    "from keras.models import Sequential\n",
    "from keras.layers.core import Dense, Dropout, Activation\n",
    "from keras.optimizers import SGD\n",
    "from keras.optimizers import Adam\n",
    "from keras.optimizers import Adagrad\n",
    "from keras.optimizers import RMSprop\n",
    "from keras.optimizers import Adamax\n",
    "from sklearn.metrics import roc_auc_score"
   ]
  },
  {
   "cell_type": "markdown",
   "metadata": {},
   "source": [
    "#### We will use the data set of 1100000 observations to train and use 60000 observations to test the model"
   ]
  },
  {
   "cell_type": "code",
   "execution_count": 42,
   "metadata": {},
   "outputs": [],
   "source": [
    "N=1100000. #Change this line adjust the number of rows. \n",
    "data=pd.read_csv(\"HIGGS.csv\",nrows=N,header=None)\n",
    "test_data=pd.read_csv(\"HIGGS.csv\",nrows=60000,header=None,skiprows=1100000)"
   ]
  },
  {
   "cell_type": "code",
   "execution_count": 43,
   "metadata": {},
   "outputs": [],
   "source": [
    "def size_it (df):\n",
    "    total=0\n",
    "    for i in range(len(data.memory_usage())):\n",
    "        total=total+data.memory_usage()[i]\n",
    "    size=total/(2**20)\n",
    "    print(\"%.2f Megabytes\" % size)\n",
    "    "
   ]
  },
  {
   "cell_type": "code",
   "execution_count": 44,
   "metadata": {},
   "outputs": [
    {
     "name": "stdout",
     "output_type": "stream",
     "text": [
      "251.77 Megabytes\n"
     ]
    },
    {
     "data": {
      "text/plain": [
       "(1100000, 29)"
      ]
     },
     "execution_count": 44,
     "metadata": {},
     "output_type": "execute_result"
    }
   ],
   "source": [
    "size_it(data)\n",
    "data.shape"
   ]
  },
  {
   "cell_type": "code",
   "execution_count": 45,
   "metadata": {},
   "outputs": [
    {
     "name": "stdout",
     "output_type": "stream",
     "text": [
      "251.77 Megabytes\n"
     ]
    },
    {
     "data": {
      "text/plain": [
       "(60000, 29)"
      ]
     },
     "execution_count": 45,
     "metadata": {},
     "output_type": "execute_result"
    }
   ],
   "source": [
    "size_it(test_data)\n",
    "test_data.shape"
   ]
  },
  {
   "cell_type": "code",
   "execution_count": 46,
   "metadata": {},
   "outputs": [],
   "source": [
    "data.columns=['label','lepton pT', 'lepton eta', 'lepton phi', 'missing energy magnitude', 'missing energy phi', 'jet 1 pt',\n",
    "             'jet 1 eta', 'jet 1 phi', 'jet 1 b-tag', 'jet 2 pt', 'jet 2 eta', 'jet 2 phi', 'jet 2 b-tag', 'jet 3 pt',\n",
    "             'jet 3 eta', 'jet 3 phi', 'jet 3 b-tag', 'jet 4 pt', 'jet 4 eta', 'jet 4 phi', 'jet 4 b-tag', 'm_jj',\n",
    "             'm_jjj', 'm_lv','m_jlv', 'm_bb', 'm_wbb', 'm_wwbb']"
   ]
  },
  {
   "cell_type": "code",
   "execution_count": 47,
   "metadata": {},
   "outputs": [],
   "source": [
    "test_data.columns=['label','lepton pT', 'lepton eta', 'lepton phi', 'missing energy magnitude', 'missing energy phi', 'jet 1 pt',\n",
    "             'jet 1 eta', 'jet 1 phi', 'jet 1 b-tag', 'jet 2 pt', 'jet 2 eta', 'jet 2 phi', 'jet 2 b-tag', 'jet 3 pt',\n",
    "             'jet 3 eta', 'jet 3 phi', 'jet 3 b-tag', 'jet 4 pt', 'jet 4 eta', 'jet 4 phi', 'jet 4 b-tag', 'm_jj',\n",
    "             'm_jjj', 'm_lv','m_jlv', 'm_bb', 'm_wbb', 'm_wwbb']"
   ]
  },
  {
   "cell_type": "code",
   "execution_count": 48,
   "metadata": {},
   "outputs": [
    {
     "data": {
      "text/html": [
       "<div>\n",
       "<style>\n",
       "    .dataframe thead tr:only-child th {\n",
       "        text-align: right;\n",
       "    }\n",
       "\n",
       "    .dataframe thead th {\n",
       "        text-align: left;\n",
       "    }\n",
       "\n",
       "    .dataframe tbody tr th {\n",
       "        vertical-align: top;\n",
       "    }\n",
       "</style>\n",
       "<table border=\"1\" class=\"dataframe\">\n",
       "  <thead>\n",
       "    <tr style=\"text-align: right;\">\n",
       "      <th></th>\n",
       "      <th>label</th>\n",
       "      <th>lepton pT</th>\n",
       "      <th>lepton eta</th>\n",
       "      <th>lepton phi</th>\n",
       "      <th>missing energy magnitude</th>\n",
       "      <th>missing energy phi</th>\n",
       "      <th>jet 1 pt</th>\n",
       "      <th>jet 1 eta</th>\n",
       "      <th>jet 1 phi</th>\n",
       "      <th>jet 1 b-tag</th>\n",
       "      <th>...</th>\n",
       "      <th>jet 4 eta</th>\n",
       "      <th>jet 4 phi</th>\n",
       "      <th>jet 4 b-tag</th>\n",
       "      <th>m_jj</th>\n",
       "      <th>m_jjj</th>\n",
       "      <th>m_lv</th>\n",
       "      <th>m_jlv</th>\n",
       "      <th>m_bb</th>\n",
       "      <th>m_wbb</th>\n",
       "      <th>m_wwbb</th>\n",
       "    </tr>\n",
       "  </thead>\n",
       "  <tbody>\n",
       "    <tr>\n",
       "      <th>1099995</th>\n",
       "      <td>0.0</td>\n",
       "      <td>1.147101</td>\n",
       "      <td>-0.290297</td>\n",
       "      <td>-0.502390</td>\n",
       "      <td>0.787117</td>\n",
       "      <td>-0.115922</td>\n",
       "      <td>1.501992</td>\n",
       "      <td>-0.961539</td>\n",
       "      <td>-0.940719</td>\n",
       "      <td>2.173076</td>\n",
       "      <td>...</td>\n",
       "      <td>0.785724</td>\n",
       "      <td>1.255605</td>\n",
       "      <td>0.000000</td>\n",
       "      <td>0.971365</td>\n",
       "      <td>0.957792</td>\n",
       "      <td>0.987488</td>\n",
       "      <td>0.941613</td>\n",
       "      <td>1.499944</td>\n",
       "      <td>1.521772</td>\n",
       "      <td>1.303628</td>\n",
       "    </tr>\n",
       "    <tr>\n",
       "      <th>1099996</th>\n",
       "      <td>1.0</td>\n",
       "      <td>1.078290</td>\n",
       "      <td>0.090525</td>\n",
       "      <td>-1.113295</td>\n",
       "      <td>0.828900</td>\n",
       "      <td>0.153260</td>\n",
       "      <td>1.389315</td>\n",
       "      <td>-0.565447</td>\n",
       "      <td>0.124895</td>\n",
       "      <td>0.000000</td>\n",
       "      <td>...</td>\n",
       "      <td>0.542540</td>\n",
       "      <td>-1.517396</td>\n",
       "      <td>0.000000</td>\n",
       "      <td>0.352488</td>\n",
       "      <td>0.508641</td>\n",
       "      <td>1.191143</td>\n",
       "      <td>1.010111</td>\n",
       "      <td>0.888589</td>\n",
       "      <td>0.931572</td>\n",
       "      <td>0.859181</td>\n",
       "    </tr>\n",
       "    <tr>\n",
       "      <th>1099997</th>\n",
       "      <td>1.0</td>\n",
       "      <td>0.915960</td>\n",
       "      <td>0.174286</td>\n",
       "      <td>-0.096232</td>\n",
       "      <td>1.543762</td>\n",
       "      <td>0.596144</td>\n",
       "      <td>0.664335</td>\n",
       "      <td>-0.476326</td>\n",
       "      <td>-1.245072</td>\n",
       "      <td>1.086538</td>\n",
       "      <td>...</td>\n",
       "      <td>-0.108728</td>\n",
       "      <td>0.350543</td>\n",
       "      <td>3.101961</td>\n",
       "      <td>0.462586</td>\n",
       "      <td>0.593328</td>\n",
       "      <td>0.988834</td>\n",
       "      <td>1.154577</td>\n",
       "      <td>0.720061</td>\n",
       "      <td>0.737488</td>\n",
       "      <td>0.683846</td>\n",
       "    </tr>\n",
       "    <tr>\n",
       "      <th>1099998</th>\n",
       "      <td>1.0</td>\n",
       "      <td>0.585263</td>\n",
       "      <td>-0.882470</td>\n",
       "      <td>-1.682583</td>\n",
       "      <td>0.990881</td>\n",
       "      <td>0.796417</td>\n",
       "      <td>1.032413</td>\n",
       "      <td>-0.100039</td>\n",
       "      <td>-0.312609</td>\n",
       "      <td>0.000000</td>\n",
       "      <td>...</td>\n",
       "      <td>-0.585103</td>\n",
       "      <td>0.029249</td>\n",
       "      <td>0.000000</td>\n",
       "      <td>0.800382</td>\n",
       "      <td>0.917762</td>\n",
       "      <td>0.982345</td>\n",
       "      <td>0.820718</td>\n",
       "      <td>0.939589</td>\n",
       "      <td>0.953103</td>\n",
       "      <td>0.852331</td>\n",
       "    </tr>\n",
       "    <tr>\n",
       "      <th>1099999</th>\n",
       "      <td>0.0</td>\n",
       "      <td>1.175833</td>\n",
       "      <td>0.074941</td>\n",
       "      <td>1.691634</td>\n",
       "      <td>0.293551</td>\n",
       "      <td>-0.324434</td>\n",
       "      <td>0.932928</td>\n",
       "      <td>2.726078</td>\n",
       "      <td>0.404855</td>\n",
       "      <td>0.000000</td>\n",
       "      <td>...</td>\n",
       "      <td>1.120519</td>\n",
       "      <td>1.539165</td>\n",
       "      <td>0.000000</td>\n",
       "      <td>0.961684</td>\n",
       "      <td>1.630290</td>\n",
       "      <td>0.993905</td>\n",
       "      <td>0.983109</td>\n",
       "      <td>1.452523</td>\n",
       "      <td>1.619471</td>\n",
       "      <td>1.329248</td>\n",
       "    </tr>\n",
       "  </tbody>\n",
       "</table>\n",
       "<p>5 rows × 29 columns</p>\n",
       "</div>"
      ],
      "text/plain": [
       "         label  lepton pT  lepton eta  lepton phi  missing energy magnitude  \\\n",
       "1099995    0.0   1.147101   -0.290297   -0.502390                  0.787117   \n",
       "1099996    1.0   1.078290    0.090525   -1.113295                  0.828900   \n",
       "1099997    1.0   0.915960    0.174286   -0.096232                  1.543762   \n",
       "1099998    1.0   0.585263   -0.882470   -1.682583                  0.990881   \n",
       "1099999    0.0   1.175833    0.074941    1.691634                  0.293551   \n",
       "\n",
       "         missing energy phi  jet 1 pt  jet 1 eta  jet 1 phi  jet 1 b-tag  \\\n",
       "1099995           -0.115922  1.501992  -0.961539  -0.940719     2.173076   \n",
       "1099996            0.153260  1.389315  -0.565447   0.124895     0.000000   \n",
       "1099997            0.596144  0.664335  -0.476326  -1.245072     1.086538   \n",
       "1099998            0.796417  1.032413  -0.100039  -0.312609     0.000000   \n",
       "1099999           -0.324434  0.932928   2.726078   0.404855     0.000000   \n",
       "\n",
       "           ...     jet 4 eta  jet 4 phi  jet 4 b-tag      m_jj     m_jjj  \\\n",
       "1099995    ...      0.785724   1.255605     0.000000  0.971365  0.957792   \n",
       "1099996    ...      0.542540  -1.517396     0.000000  0.352488  0.508641   \n",
       "1099997    ...     -0.108728   0.350543     3.101961  0.462586  0.593328   \n",
       "1099998    ...     -0.585103   0.029249     0.000000  0.800382  0.917762   \n",
       "1099999    ...      1.120519   1.539165     0.000000  0.961684  1.630290   \n",
       "\n",
       "             m_lv     m_jlv      m_bb     m_wbb    m_wwbb  \n",
       "1099995  0.987488  0.941613  1.499944  1.521772  1.303628  \n",
       "1099996  1.191143  1.010111  0.888589  0.931572  0.859181  \n",
       "1099997  0.988834  1.154577  0.720061  0.737488  0.683846  \n",
       "1099998  0.982345  0.820718  0.939589  0.953103  0.852331  \n",
       "1099999  0.993905  0.983109  1.452523  1.619471  1.329248  \n",
       "\n",
       "[5 rows x 29 columns]"
      ]
     },
     "execution_count": 48,
     "metadata": {},
     "output_type": "execute_result"
    }
   ],
   "source": [
    "data.tail()"
   ]
  },
  {
   "cell_type": "code",
   "execution_count": 49,
   "metadata": {},
   "outputs": [
    {
     "data": {
      "text/html": [
       "<div>\n",
       "<style>\n",
       "    .dataframe thead tr:only-child th {\n",
       "        text-align: right;\n",
       "    }\n",
       "\n",
       "    .dataframe thead th {\n",
       "        text-align: left;\n",
       "    }\n",
       "\n",
       "    .dataframe tbody tr th {\n",
       "        vertical-align: top;\n",
       "    }\n",
       "</style>\n",
       "<table border=\"1\" class=\"dataframe\">\n",
       "  <thead>\n",
       "    <tr style=\"text-align: right;\">\n",
       "      <th></th>\n",
       "      <th>label</th>\n",
       "      <th>lepton pT</th>\n",
       "      <th>lepton eta</th>\n",
       "      <th>lepton phi</th>\n",
       "      <th>missing energy magnitude</th>\n",
       "      <th>missing energy phi</th>\n",
       "      <th>jet 1 pt</th>\n",
       "      <th>jet 1 eta</th>\n",
       "      <th>jet 1 phi</th>\n",
       "      <th>jet 1 b-tag</th>\n",
       "      <th>...</th>\n",
       "      <th>jet 4 eta</th>\n",
       "      <th>jet 4 phi</th>\n",
       "      <th>jet 4 b-tag</th>\n",
       "      <th>m_jj</th>\n",
       "      <th>m_jjj</th>\n",
       "      <th>m_lv</th>\n",
       "      <th>m_jlv</th>\n",
       "      <th>m_bb</th>\n",
       "      <th>m_wbb</th>\n",
       "      <th>m_wwbb</th>\n",
       "    </tr>\n",
       "  </thead>\n",
       "  <tbody>\n",
       "    <tr>\n",
       "      <th>59995</th>\n",
       "      <td>0.0</td>\n",
       "      <td>0.370959</td>\n",
       "      <td>1.178448</td>\n",
       "      <td>-0.839749</td>\n",
       "      <td>0.772050</td>\n",
       "      <td>1.058658</td>\n",
       "      <td>0.807243</td>\n",
       "      <td>0.743637</td>\n",
       "      <td>-0.260498</td>\n",
       "      <td>2.173076</td>\n",
       "      <td>...</td>\n",
       "      <td>0.321009</td>\n",
       "      <td>0.735097</td>\n",
       "      <td>3.101961</td>\n",
       "      <td>0.871797</td>\n",
       "      <td>0.847451</td>\n",
       "      <td>0.989446</td>\n",
       "      <td>0.859421</td>\n",
       "      <td>0.736282</td>\n",
       "      <td>0.769379</td>\n",
       "      <td>0.728622</td>\n",
       "    </tr>\n",
       "    <tr>\n",
       "      <th>59996</th>\n",
       "      <td>0.0</td>\n",
       "      <td>0.971595</td>\n",
       "      <td>-1.077263</td>\n",
       "      <td>1.713273</td>\n",
       "      <td>0.314970</td>\n",
       "      <td>0.231261</td>\n",
       "      <td>0.641067</td>\n",
       "      <td>-0.844692</td>\n",
       "      <td>0.510741</td>\n",
       "      <td>0.000000</td>\n",
       "      <td>...</td>\n",
       "      <td>-0.909071</td>\n",
       "      <td>1.276136</td>\n",
       "      <td>3.101961</td>\n",
       "      <td>0.745242</td>\n",
       "      <td>0.717253</td>\n",
       "      <td>0.990235</td>\n",
       "      <td>0.532950</td>\n",
       "      <td>0.449628</td>\n",
       "      <td>0.477112</td>\n",
       "      <td>0.507585</td>\n",
       "    </tr>\n",
       "    <tr>\n",
       "      <th>59997</th>\n",
       "      <td>1.0</td>\n",
       "      <td>1.003622</td>\n",
       "      <td>-0.219197</td>\n",
       "      <td>1.164516</td>\n",
       "      <td>0.555159</td>\n",
       "      <td>0.221953</td>\n",
       "      <td>1.710307</td>\n",
       "      <td>0.027701</td>\n",
       "      <td>1.581794</td>\n",
       "      <td>0.000000</td>\n",
       "      <td>...</td>\n",
       "      <td>-0.401049</td>\n",
       "      <td>-0.963039</td>\n",
       "      <td>3.101961</td>\n",
       "      <td>1.060794</td>\n",
       "      <td>0.926048</td>\n",
       "      <td>0.988824</td>\n",
       "      <td>1.239017</td>\n",
       "      <td>0.924933</td>\n",
       "      <td>1.021520</td>\n",
       "      <td>0.939992</td>\n",
       "    </tr>\n",
       "    <tr>\n",
       "      <th>59998</th>\n",
       "      <td>0.0</td>\n",
       "      <td>1.891765</td>\n",
       "      <td>0.042800</td>\n",
       "      <td>-0.227179</td>\n",
       "      <td>0.876925</td>\n",
       "      <td>0.322577</td>\n",
       "      <td>0.782142</td>\n",
       "      <td>2.035887</td>\n",
       "      <td>-1.363153</td>\n",
       "      <td>0.000000</td>\n",
       "      <td>...</td>\n",
       "      <td>1.459478</td>\n",
       "      <td>1.006449</td>\n",
       "      <td>0.000000</td>\n",
       "      <td>0.758624</td>\n",
       "      <td>1.057242</td>\n",
       "      <td>0.986712</td>\n",
       "      <td>1.217548</td>\n",
       "      <td>0.833781</td>\n",
       "      <td>0.873545</td>\n",
       "      <td>0.999432</td>\n",
       "    </tr>\n",
       "    <tr>\n",
       "      <th>59999</th>\n",
       "      <td>1.0</td>\n",
       "      <td>0.989347</td>\n",
       "      <td>-1.482435</td>\n",
       "      <td>-0.797579</td>\n",
       "      <td>0.924406</td>\n",
       "      <td>0.210223</td>\n",
       "      <td>0.481304</td>\n",
       "      <td>-1.085317</td>\n",
       "      <td>1.071214</td>\n",
       "      <td>2.173076</td>\n",
       "      <td>...</td>\n",
       "      <td>0.146949</td>\n",
       "      <td>1.297223</td>\n",
       "      <td>0.000000</td>\n",
       "      <td>0.896747</td>\n",
       "      <td>0.723381</td>\n",
       "      <td>1.045090</td>\n",
       "      <td>0.955030</td>\n",
       "      <td>0.740068</td>\n",
       "      <td>0.736319</td>\n",
       "      <td>0.675808</td>\n",
       "    </tr>\n",
       "  </tbody>\n",
       "</table>\n",
       "<p>5 rows × 29 columns</p>\n",
       "</div>"
      ],
      "text/plain": [
       "       label  lepton pT  lepton eta  lepton phi  missing energy magnitude  \\\n",
       "59995    0.0   0.370959    1.178448   -0.839749                  0.772050   \n",
       "59996    0.0   0.971595   -1.077263    1.713273                  0.314970   \n",
       "59997    1.0   1.003622   -0.219197    1.164516                  0.555159   \n",
       "59998    0.0   1.891765    0.042800   -0.227179                  0.876925   \n",
       "59999    1.0   0.989347   -1.482435   -0.797579                  0.924406   \n",
       "\n",
       "       missing energy phi  jet 1 pt  jet 1 eta  jet 1 phi  jet 1 b-tag  \\\n",
       "59995            1.058658  0.807243   0.743637  -0.260498     2.173076   \n",
       "59996            0.231261  0.641067  -0.844692   0.510741     0.000000   \n",
       "59997            0.221953  1.710307   0.027701   1.581794     0.000000   \n",
       "59998            0.322577  0.782142   2.035887  -1.363153     0.000000   \n",
       "59999            0.210223  0.481304  -1.085317   1.071214     2.173076   \n",
       "\n",
       "         ...     jet 4 eta  jet 4 phi  jet 4 b-tag      m_jj     m_jjj  \\\n",
       "59995    ...      0.321009   0.735097     3.101961  0.871797  0.847451   \n",
       "59996    ...     -0.909071   1.276136     3.101961  0.745242  0.717253   \n",
       "59997    ...     -0.401049  -0.963039     3.101961  1.060794  0.926048   \n",
       "59998    ...      1.459478   1.006449     0.000000  0.758624  1.057242   \n",
       "59999    ...      0.146949   1.297223     0.000000  0.896747  0.723381   \n",
       "\n",
       "           m_lv     m_jlv      m_bb     m_wbb    m_wwbb  \n",
       "59995  0.989446  0.859421  0.736282  0.769379  0.728622  \n",
       "59996  0.990235  0.532950  0.449628  0.477112  0.507585  \n",
       "59997  0.988824  1.239017  0.924933  1.021520  0.939992  \n",
       "59998  0.986712  1.217548  0.833781  0.873545  0.999432  \n",
       "59999  1.045090  0.955030  0.740068  0.736319  0.675808  \n",
       "\n",
       "[5 rows x 29 columns]"
      ]
     },
     "execution_count": 49,
     "metadata": {},
     "output_type": "execute_result"
    }
   ],
   "source": [
    "test_data.tail()"
   ]
  },
  {
   "cell_type": "code",
   "execution_count": 50,
   "metadata": {},
   "outputs": [
    {
     "data": {
      "text/html": [
       "<div>\n",
       "<style>\n",
       "    .dataframe thead tr:only-child th {\n",
       "        text-align: right;\n",
       "    }\n",
       "\n",
       "    .dataframe thead th {\n",
       "        text-align: left;\n",
       "    }\n",
       "\n",
       "    .dataframe tbody tr th {\n",
       "        vertical-align: top;\n",
       "    }\n",
       "</style>\n",
       "<table border=\"1\" class=\"dataframe\">\n",
       "  <thead>\n",
       "    <tr style=\"text-align: right;\">\n",
       "      <th></th>\n",
       "      <th>label</th>\n",
       "      <th>lepton pT</th>\n",
       "      <th>lepton eta</th>\n",
       "      <th>lepton phi</th>\n",
       "      <th>missing energy magnitude</th>\n",
       "      <th>missing energy phi</th>\n",
       "      <th>jet 1 pt</th>\n",
       "      <th>jet 1 eta</th>\n",
       "      <th>jet 1 phi</th>\n",
       "      <th>jet 1 b-tag</th>\n",
       "    </tr>\n",
       "  </thead>\n",
       "  <tbody>\n",
       "    <tr>\n",
       "      <th>count</th>\n",
       "      <td>1.100000e+06</td>\n",
       "      <td>1.100000e+06</td>\n",
       "      <td>1.100000e+06</td>\n",
       "      <td>1.100000e+06</td>\n",
       "      <td>1.100000e+06</td>\n",
       "      <td>1.100000e+06</td>\n",
       "      <td>1.100000e+06</td>\n",
       "      <td>1.100000e+06</td>\n",
       "      <td>1.100000e+06</td>\n",
       "      <td>1.100000e+06</td>\n",
       "    </tr>\n",
       "    <tr>\n",
       "      <th>mean</th>\n",
       "      <td>5.295173e-01</td>\n",
       "      <td>9.913837e-01</td>\n",
       "      <td>9.533126e-04</td>\n",
       "      <td>-7.382432e-04</td>\n",
       "      <td>9.981465e-01</td>\n",
       "      <td>-7.666476e-04</td>\n",
       "      <td>9.906847e-01</td>\n",
       "      <td>-7.511484e-04</td>\n",
       "      <td>5.081288e-04</td>\n",
       "      <td>1.000773e+00</td>\n",
       "    </tr>\n",
       "    <tr>\n",
       "      <th>std</th>\n",
       "      <td>4.991282e-01</td>\n",
       "      <td>5.649399e-01</td>\n",
       "      <td>1.008487e+00</td>\n",
       "      <td>1.005848e+00</td>\n",
       "      <td>5.991570e-01</td>\n",
       "      <td>1.006687e+00</td>\n",
       "      <td>4.751833e-01</td>\n",
       "      <td>1.010139e+00</td>\n",
       "      <td>1.006215e+00</td>\n",
       "      <td>1.027788e+00</td>\n",
       "    </tr>\n",
       "    <tr>\n",
       "      <th>min</th>\n",
       "      <td>0.000000e+00</td>\n",
       "      <td>2.746966e-01</td>\n",
       "      <td>-2.434976e+00</td>\n",
       "      <td>-1.742508e+00</td>\n",
       "      <td>6.259872e-04</td>\n",
       "      <td>-1.743944e+00</td>\n",
       "      <td>1.386017e-01</td>\n",
       "      <td>-2.969725e+00</td>\n",
       "      <td>-1.741237e+00</td>\n",
       "      <td>0.000000e+00</td>\n",
       "    </tr>\n",
       "    <tr>\n",
       "      <th>25%</th>\n",
       "      <td>0.000000e+00</td>\n",
       "      <td>5.907533e-01</td>\n",
       "      <td>-7.363746e-01</td>\n",
       "      <td>-8.719308e-01</td>\n",
       "      <td>5.762637e-01</td>\n",
       "      <td>-8.717909e-01</td>\n",
       "      <td>6.788095e-01</td>\n",
       "      <td>-6.882352e-01</td>\n",
       "      <td>-8.680962e-01</td>\n",
       "      <td>0.000000e+00</td>\n",
       "    </tr>\n",
       "    <tr>\n",
       "      <th>50%</th>\n",
       "      <td>1.000000e+00</td>\n",
       "      <td>8.535544e-01</td>\n",
       "      <td>9.198132e-04</td>\n",
       "      <td>9.714414e-04</td>\n",
       "      <td>8.915848e-01</td>\n",
       "      <td>-1.158754e-03</td>\n",
       "      <td>8.942697e-01</td>\n",
       "      <td>-1.015666e-03</td>\n",
       "      <td>7.152493e-04</td>\n",
       "      <td>1.086538e+00</td>\n",
       "    </tr>\n",
       "    <tr>\n",
       "      <th>75%</th>\n",
       "      <td>1.000000e+00</td>\n",
       "      <td>1.236592e+00</td>\n",
       "      <td>7.391881e-01</td>\n",
       "      <td>8.693294e-01</td>\n",
       "      <td>1.293202e+00</td>\n",
       "      <td>8.711392e-01</td>\n",
       "      <td>1.170740e+00</td>\n",
       "      <td>6.871941e-01</td>\n",
       "      <td>8.694214e-01</td>\n",
       "      <td>2.173076e+00</td>\n",
       "    </tr>\n",
       "    <tr>\n",
       "      <th>max</th>\n",
       "      <td>1.000000e+00</td>\n",
       "      <td>8.711782e+00</td>\n",
       "      <td>2.434868e+00</td>\n",
       "      <td>1.743236e+00</td>\n",
       "      <td>9.900929e+00</td>\n",
       "      <td>1.743257e+00</td>\n",
       "      <td>8.382610e+00</td>\n",
       "      <td>2.969674e+00</td>\n",
       "      <td>1.741454e+00</td>\n",
       "      <td>2.173076e+00</td>\n",
       "    </tr>\n",
       "  </tbody>\n",
       "</table>\n",
       "</div>"
      ],
      "text/plain": [
       "              label     lepton pT    lepton eta    lepton phi  \\\n",
       "count  1.100000e+06  1.100000e+06  1.100000e+06  1.100000e+06   \n",
       "mean   5.295173e-01  9.913837e-01  9.533126e-04 -7.382432e-04   \n",
       "std    4.991282e-01  5.649399e-01  1.008487e+00  1.005848e+00   \n",
       "min    0.000000e+00  2.746966e-01 -2.434976e+00 -1.742508e+00   \n",
       "25%    0.000000e+00  5.907533e-01 -7.363746e-01 -8.719308e-01   \n",
       "50%    1.000000e+00  8.535544e-01  9.198132e-04  9.714414e-04   \n",
       "75%    1.000000e+00  1.236592e+00  7.391881e-01  8.693294e-01   \n",
       "max    1.000000e+00  8.711782e+00  2.434868e+00  1.743236e+00   \n",
       "\n",
       "       missing energy magnitude  missing energy phi      jet 1 pt  \\\n",
       "count              1.100000e+06        1.100000e+06  1.100000e+06   \n",
       "mean               9.981465e-01       -7.666476e-04  9.906847e-01   \n",
       "std                5.991570e-01        1.006687e+00  4.751833e-01   \n",
       "min                6.259872e-04       -1.743944e+00  1.386017e-01   \n",
       "25%                5.762637e-01       -8.717909e-01  6.788095e-01   \n",
       "50%                8.915848e-01       -1.158754e-03  8.942697e-01   \n",
       "75%                1.293202e+00        8.711392e-01  1.170740e+00   \n",
       "max                9.900929e+00        1.743257e+00  8.382610e+00   \n",
       "\n",
       "          jet 1 eta     jet 1 phi   jet 1 b-tag  \n",
       "count  1.100000e+06  1.100000e+06  1.100000e+06  \n",
       "mean  -7.511484e-04  5.081288e-04  1.000773e+00  \n",
       "std    1.010139e+00  1.006215e+00  1.027788e+00  \n",
       "min   -2.969725e+00 -1.741237e+00  0.000000e+00  \n",
       "25%   -6.882352e-01 -8.680962e-01  0.000000e+00  \n",
       "50%   -1.015666e-03  7.152493e-04  1.086538e+00  \n",
       "75%    6.871941e-01  8.694214e-01  2.173076e+00  \n",
       "max    2.969674e+00  1.741454e+00  2.173076e+00  "
      ]
     },
     "execution_count": 50,
     "metadata": {},
     "output_type": "execute_result"
    }
   ],
   "source": [
    "data.iloc[:,0:10].describe()"
   ]
  },
  {
   "cell_type": "code",
   "execution_count": 51,
   "metadata": {},
   "outputs": [
    {
     "data": {
      "text/html": [
       "<div>\n",
       "<style>\n",
       "    .dataframe thead tr:only-child th {\n",
       "        text-align: right;\n",
       "    }\n",
       "\n",
       "    .dataframe thead th {\n",
       "        text-align: left;\n",
       "    }\n",
       "\n",
       "    .dataframe tbody tr th {\n",
       "        vertical-align: top;\n",
       "    }\n",
       "</style>\n",
       "<table border=\"1\" class=\"dataframe\">\n",
       "  <thead>\n",
       "    <tr style=\"text-align: right;\">\n",
       "      <th></th>\n",
       "      <th>jet 2 pt</th>\n",
       "      <th>jet 2 eta</th>\n",
       "      <th>jet 2 phi</th>\n",
       "      <th>jet 2 b-tag</th>\n",
       "      <th>jet 3 pt</th>\n",
       "      <th>jet 3 eta</th>\n",
       "      <th>jet 3 phi</th>\n",
       "      <th>jet 3 b-tag</th>\n",
       "      <th>jet 4 pt</th>\n",
       "      <th>jet 4 eta</th>\n",
       "    </tr>\n",
       "  </thead>\n",
       "  <tbody>\n",
       "    <tr>\n",
       "      <th>count</th>\n",
       "      <td>1.100000e+06</td>\n",
       "      <td>1.100000e+06</td>\n",
       "      <td>1.100000e+06</td>\n",
       "      <td>1.100000e+06</td>\n",
       "      <td>1.100000e+06</td>\n",
       "      <td>1.100000e+06</td>\n",
       "      <td>1.100000e+06</td>\n",
       "      <td>1.100000e+06</td>\n",
       "      <td>1.100000e+06</td>\n",
       "      <td>1.100000e+06</td>\n",
       "    </tr>\n",
       "    <tr>\n",
       "      <th>mean</th>\n",
       "      <td>9.930826e-01</td>\n",
       "      <td>1.694100e-03</td>\n",
       "      <td>2.226422e-04</td>\n",
       "      <td>1.000497e+00</td>\n",
       "      <td>9.924060e-01</td>\n",
       "      <td>2.097878e-03</td>\n",
       "      <td>6.820779e-05</td>\n",
       "      <td>9.992596e-01</td>\n",
       "      <td>9.860794e-01</td>\n",
       "      <td>-7.935666e-04</td>\n",
       "    </tr>\n",
       "    <tr>\n",
       "      <th>std</th>\n",
       "      <td>5.000212e-01</td>\n",
       "      <td>1.008805e+00</td>\n",
       "      <td>1.006862e+00</td>\n",
       "      <td>1.049272e+00</td>\n",
       "      <td>4.867730e-01</td>\n",
       "      <td>1.008249e+00</td>\n",
       "      <td>1.005805e+00</td>\n",
       "      <td>1.193635e+00</td>\n",
       "      <td>5.057663e-01</td>\n",
       "      <td>1.007891e+00</td>\n",
       "    </tr>\n",
       "    <tr>\n",
       "      <th>min</th>\n",
       "      <td>1.889811e-01</td>\n",
       "      <td>-2.913090e+00</td>\n",
       "      <td>-1.742372e+00</td>\n",
       "      <td>0.000000e+00</td>\n",
       "      <td>2.636076e-01</td>\n",
       "      <td>-2.729663e+00</td>\n",
       "      <td>-1.742069e+00</td>\n",
       "      <td>0.000000e+00</td>\n",
       "      <td>3.653542e-01</td>\n",
       "      <td>-2.497265e+00</td>\n",
       "    </tr>\n",
       "    <tr>\n",
       "      <th>25%</th>\n",
       "      <td>6.573421e-01</td>\n",
       "      <td>-6.925291e-01</td>\n",
       "      <td>-8.707339e-01</td>\n",
       "      <td>0.000000e+00</td>\n",
       "      <td>6.512039e-01</td>\n",
       "      <td>-6.970776e-01</td>\n",
       "      <td>-8.711343e-01</td>\n",
       "      <td>0.000000e+00</td>\n",
       "      <td>6.175240e-01</td>\n",
       "      <td>-7.150230e-01</td>\n",
       "    </tr>\n",
       "    <tr>\n",
       "      <th>50%</th>\n",
       "      <td>8.906413e-01</td>\n",
       "      <td>1.031646e-03</td>\n",
       "      <td>3.514990e-04</td>\n",
       "      <td>0.000000e+00</td>\n",
       "      <td>8.977762e-01</td>\n",
       "      <td>2.903640e-03</td>\n",
       "      <td>-7.519117e-04</td>\n",
       "      <td>0.000000e+00</td>\n",
       "      <td>8.679899e-01</td>\n",
       "      <td>-4.606903e-04</td>\n",
       "    </tr>\n",
       "    <tr>\n",
       "      <th>75%</th>\n",
       "      <td>1.202001e+00</td>\n",
       "      <td>6.965352e-01</td>\n",
       "      <td>8.715371e-01</td>\n",
       "      <td>2.214872e+00</td>\n",
       "      <td>1.222500e+00</td>\n",
       "      <td>7.019747e-01</td>\n",
       "      <td>8.708400e-01</td>\n",
       "      <td>2.548224e+00</td>\n",
       "      <td>1.222147e+00</td>\n",
       "      <td>7.141017e-01</td>\n",
       "    </tr>\n",
       "    <tr>\n",
       "      <th>max</th>\n",
       "      <td>1.164708e+01</td>\n",
       "      <td>2.913210e+00</td>\n",
       "      <td>1.743175e+00</td>\n",
       "      <td>2.214872e+00</td>\n",
       "      <td>8.864838e+00</td>\n",
       "      <td>2.730009e+00</td>\n",
       "      <td>1.742884e+00</td>\n",
       "      <td>2.548224e+00</td>\n",
       "      <td>1.162123e+01</td>\n",
       "      <td>2.498009e+00</td>\n",
       "    </tr>\n",
       "  </tbody>\n",
       "</table>\n",
       "</div>"
      ],
      "text/plain": [
       "           jet 2 pt     jet 2 eta     jet 2 phi   jet 2 b-tag      jet 3 pt  \\\n",
       "count  1.100000e+06  1.100000e+06  1.100000e+06  1.100000e+06  1.100000e+06   \n",
       "mean   9.930826e-01  1.694100e-03  2.226422e-04  1.000497e+00  9.924060e-01   \n",
       "std    5.000212e-01  1.008805e+00  1.006862e+00  1.049272e+00  4.867730e-01   \n",
       "min    1.889811e-01 -2.913090e+00 -1.742372e+00  0.000000e+00  2.636076e-01   \n",
       "25%    6.573421e-01 -6.925291e-01 -8.707339e-01  0.000000e+00  6.512039e-01   \n",
       "50%    8.906413e-01  1.031646e-03  3.514990e-04  0.000000e+00  8.977762e-01   \n",
       "75%    1.202001e+00  6.965352e-01  8.715371e-01  2.214872e+00  1.222500e+00   \n",
       "max    1.164708e+01  2.913210e+00  1.743175e+00  2.214872e+00  8.864838e+00   \n",
       "\n",
       "          jet 3 eta     jet 3 phi   jet 3 b-tag      jet 4 pt     jet 4 eta  \n",
       "count  1.100000e+06  1.100000e+06  1.100000e+06  1.100000e+06  1.100000e+06  \n",
       "mean   2.097878e-03  6.820779e-05  9.992596e-01  9.860794e-01 -7.935666e-04  \n",
       "std    1.008249e+00  1.005805e+00  1.193635e+00  5.057663e-01  1.007891e+00  \n",
       "min   -2.729663e+00 -1.742069e+00  0.000000e+00  3.653542e-01 -2.497265e+00  \n",
       "25%   -6.970776e-01 -8.711343e-01  0.000000e+00  6.175240e-01 -7.150230e-01  \n",
       "50%    2.903640e-03 -7.519117e-04  0.000000e+00  8.679899e-01 -4.606903e-04  \n",
       "75%    7.019747e-01  8.708400e-01  2.548224e+00  1.222147e+00  7.141017e-01  \n",
       "max    2.730009e+00  1.742884e+00  2.548224e+00  1.162123e+01  2.498009e+00  "
      ]
     },
     "execution_count": 51,
     "metadata": {},
     "output_type": "execute_result"
    }
   ],
   "source": [
    "data.iloc[:,10:20].describe()"
   ]
  },
  {
   "cell_type": "code",
   "execution_count": 52,
   "metadata": {},
   "outputs": [],
   "source": [
    "types={}\n",
    "for i in data.columns:\n",
    "    types[i]=data[i].dtype"
   ]
  },
  {
   "cell_type": "code",
   "execution_count": 53,
   "metadata": {},
   "outputs": [
    {
     "data": {
      "text/plain": [
       "{'jet 1 b-tag': dtype('float64'),\n",
       " 'jet 1 eta': dtype('float64'),\n",
       " 'jet 1 phi': dtype('float64'),\n",
       " 'jet 1 pt': dtype('float64'),\n",
       " 'jet 2 b-tag': dtype('float64'),\n",
       " 'jet 2 eta': dtype('float64'),\n",
       " 'jet 2 phi': dtype('float64'),\n",
       " 'jet 2 pt': dtype('float64'),\n",
       " 'jet 3 b-tag': dtype('float64'),\n",
       " 'jet 3 eta': dtype('float64'),\n",
       " 'jet 3 phi': dtype('float64'),\n",
       " 'jet 3 pt': dtype('float64'),\n",
       " 'jet 4 b-tag': dtype('float64'),\n",
       " 'jet 4 eta': dtype('float64'),\n",
       " 'jet 4 phi': dtype('float64'),\n",
       " 'jet 4 pt': dtype('float64'),\n",
       " 'label': dtype('float64'),\n",
       " 'lepton eta': dtype('float64'),\n",
       " 'lepton pT': dtype('float64'),\n",
       " 'lepton phi': dtype('float64'),\n",
       " 'm_bb': dtype('float64'),\n",
       " 'm_jj': dtype('float64'),\n",
       " 'm_jjj': dtype('float64'),\n",
       " 'm_jlv': dtype('float64'),\n",
       " 'm_lv': dtype('float64'),\n",
       " 'm_wbb': dtype('float64'),\n",
       " 'm_wwbb': dtype('float64'),\n",
       " 'missing energy magnitude': dtype('float64'),\n",
       " 'missing energy phi': dtype('float64')}"
      ]
     },
     "execution_count": 53,
     "metadata": {},
     "output_type": "execute_result"
    }
   ],
   "source": [
    "types"
   ]
  },
  {
   "cell_type": "markdown",
   "metadata": {},
   "source": [
    "We further examined the data types of all the features to optimize the memory consumption in roder to improve computational process. We found all the features are of type float, and so we did not change them any futher."
   ]
  },
  {
   "cell_type": "markdown",
   "metadata": {},
   "source": [
    "#### Splitting the data into features and output as well test data."
   ]
  },
  {
   "cell_type": "code",
   "execution_count": 54,
   "metadata": {},
   "outputs": [],
   "source": [
    "y = np.array(data.iloc[:,0])\n",
    "x = np.array(data.iloc[:,1:])"
   ]
  },
  {
   "cell_type": "code",
   "execution_count": 55,
   "metadata": {},
   "outputs": [],
   "source": [
    "x_test = np.array(test_data.iloc[:,1:])\n",
    "y_test = np.array(test_data.iloc[:,0])"
   ]
  },
  {
   "cell_type": "markdown",
   "metadata": {},
   "source": [
    "## 1.\tPick 3 or more different architectures (add/subtract layers+neurons) and run the model + score. "
   ]
  },
  {
   "cell_type": "markdown",
   "metadata": {},
   "source": [
    "#### 1.1 Architecture1: 1 hidden layer with 100 nodes - Base Model\n",
    "\n",
    "We will begin with our starter model with 1 hidden layer that has 100 neurons and signmoid activation functions"
   ]
  },
  {
   "cell_type": "code",
   "execution_count": 56,
   "metadata": {},
   "outputs": [
    {
     "name": "stdout",
     "output_type": "stream",
     "text": [
      "Epoch 1/5\n",
      "1100000/1100000 [==============================] - 6s 5us/step - loss: 0.6627 - acc: 0.5928\n",
      "Epoch 2/5\n",
      "1100000/1100000 [==============================] - 5s 5us/step - loss: 0.6454 - acc: 0.6213\n",
      "Epoch 3/5\n",
      "1100000/1100000 [==============================] - 5s 4us/step - loss: 0.6356 - acc: 0.6349\n",
      "Epoch 4/5\n",
      "1100000/1100000 [==============================] - 4s 4us/step - loss: 0.6279 - acc: 0.6447\n",
      "Epoch 5/5\n",
      "1100000/1100000 [==============================] - 5s 4us/step - loss: 0.6211 - acc: 0.6532\n",
      "\n",
      "ROC AUC Score for sigmoid-1layer-100nodes is: 0.7320651934415888\n"
     ]
    }
   ],
   "source": [
    "test_results = {}\n",
    "arch_name = \"sigmoid-1layer-100nodes\"\n",
    "model = Sequential()\n",
    "\n",
    "#hidden layer 1: 100 nodes\n",
    "model.add(Dense(100, input_dim=x.shape[1], kernel_initializer='uniform'))\n",
    "model.add(Activation('sigmoid'))\n",
    "model.add(Dropout(0.10))\n",
    "\n",
    "#output layer: 1 node\n",
    "model.add(Dense(1, kernel_initializer='uniform'))\n",
    "model.add(Activation('sigmoid'))\n",
    "\n",
    "#optimizer\n",
    "sgd = SGD(lr=0.1, decay=1e-6, momentum=0.9, nesterov=True)\n",
    "\n",
    "#compile\n",
    "model.compile(loss='binary_crossentropy', metrics=['accuracy'], optimizer=sgd)\n",
    "model.fit(x, y, epochs=5, batch_size=1000)\n",
    "\n",
    "score = roc_auc_score(y_test,model.predict(x_test))\n",
    "\n",
    "print(\"\")\n",
    "print(\"ROC AUC Score for \" + arch_name + \" is: \" + str(score))\n",
    "test_results[arch_name] = score"
   ]
  },
  {
   "cell_type": "markdown",
   "metadata": {},
   "source": [
    "#### 1.2 Architecture 2: 2 hidden layers with 100 nodes each"
   ]
  },
  {
   "cell_type": "code",
   "execution_count": 57,
   "metadata": {},
   "outputs": [
    {
     "name": "stdout",
     "output_type": "stream",
     "text": [
      "Epoch 1/5\n",
      "1100000/1100000 [==============================] - 9s 8us/step - loss: 0.6923 - acc: 0.5248\n",
      "Epoch 2/5\n",
      "1100000/1100000 [==============================] - 7s 6us/step - loss: 0.6841 - acc: 0.5484\n",
      "Epoch 3/5\n",
      "1100000/1100000 [==============================] - 7s 6us/step - loss: 0.6557 - acc: 0.6062\n",
      "Epoch 4/5\n",
      "1100000/1100000 [==============================] - 8s 7us/step - loss: 0.6473 - acc: 0.6184\n",
      "Epoch 5/5\n",
      "1100000/1100000 [==============================] - 8s 7us/step - loss: 0.6421 - acc: 0.6234\n",
      "\n",
      "ROC AUC Score for sigmoid-2layers-100nodes is: 0.6863232135063109\n"
     ]
    }
   ],
   "source": [
    "arch_name = \"sigmoid-2layers-100nodes\"\n",
    "model = Sequential()\n",
    "\n",
    "#hidden layer 1: 100 nodes\n",
    "model.add(Dense(100, input_dim=x.shape[1], kernel_initializer='uniform'))\n",
    "model.add(Activation('sigmoid'))\n",
    "model.add(Dropout(0.10))\n",
    "\n",
    "#hidden layer 2: 100 nodes\n",
    "model.add(Dense(100, input_dim=x.shape[1], kernel_initializer='uniform'))\n",
    "model.add(Activation('sigmoid'))\n",
    "model.add(Dropout(0.10))\n",
    "\n",
    "#output layer: 1 node\n",
    "model.add(Dense(1, kernel_initializer='uniform'))\n",
    "model.add(Activation('sigmoid'))\n",
    "\n",
    "#optimizer\n",
    "sgd = SGD(lr=0.1, decay=1e-6, momentum=0.9, nesterov=True)\n",
    "\n",
    "#compile\n",
    "model.compile(loss='binary_crossentropy', metrics=['accuracy'], optimizer=sgd)\n",
    "model.fit(x, y, epochs=5, batch_size=1000)\n",
    "\n",
    "score = roc_auc_score(y_test,model.predict(x_test))\n",
    "\n",
    "print(\"\")\n",
    "print(\"ROC AUC Score for \" + arch_name + \" is: \" + str(score))\n",
    "test_results[arch_name] = score"
   ]
  },
  {
   "cell_type": "markdown",
   "metadata": {},
   "source": [
    "#### 1.3 Architecture 3: 3 hidden layers with 100 nodes each"
   ]
  },
  {
   "cell_type": "code",
   "execution_count": 58,
   "metadata": {},
   "outputs": [
    {
     "name": "stdout",
     "output_type": "stream",
     "text": [
      "Epoch 1/5\n",
      "1100000/1100000 [==============================] - 9s 9us/step - loss: 0.6923 - acc: 0.5249\n",
      "Epoch 2/5\n",
      "1100000/1100000 [==============================] - 8s 8us/step - loss: 0.6920 - acc: 0.5262\n",
      "Epoch 3/5\n",
      "1100000/1100000 [==============================] - 8s 7us/step - loss: 0.6919 - acc: 0.5274\n",
      "Epoch 4/5\n",
      "1100000/1100000 [==============================] - 8s 7us/step - loss: 0.6918 - acc: 0.5282\n",
      "Epoch 5/5\n",
      "1100000/1100000 [==============================] - 9s 8us/step - loss: 0.6918 - acc: 0.5288\n",
      "\n",
      "ROC AUC Score for sigmoid-3layers-100nodes is: 0.5060564617261423\n"
     ]
    }
   ],
   "source": [
    "arch_name = \"sigmoid-3layers-100nodes\"\n",
    "model = Sequential()\n",
    "\n",
    "#hidden layer 1: 100 nodes\n",
    "model.add(Dense(100, input_dim=x.shape[1], kernel_initializer='uniform'))\n",
    "model.add(Activation('sigmoid'))\n",
    "model.add(Dropout(0.10))\n",
    "\n",
    "#hidden layer 2: 100 nodes\n",
    "model.add(Dense(100, input_dim=x.shape[1], kernel_initializer='uniform'))\n",
    "model.add(Activation('sigmoid'))\n",
    "model.add(Dropout(0.10))\n",
    "\n",
    "#hidden layer 3: 100 nodes\n",
    "model.add(Dense(100, input_dim=x.shape[1], kernel_initializer='uniform'))\n",
    "model.add(Activation('sigmoid'))\n",
    "model.add(Dropout(0.10))\n",
    "\n",
    "#output layer: 1 node\n",
    "model.add(Dense(1, kernel_initializer='uniform'))\n",
    "model.add(Activation('sigmoid'))\n",
    "\n",
    "#optimizer\n",
    "sgd = SGD(lr=0.1, decay=1e-6, momentum=0.9, nesterov=True)\n",
    "\n",
    "#compile\n",
    "model.compile(loss='binary_crossentropy', metrics=['accuracy'], optimizer=sgd)\n",
    "model.fit(x, y, epochs=5, batch_size=1000)\n",
    "\n",
    "score = roc_auc_score(y_test,model.predict(x_test))\n",
    "\n",
    "print(\"\")\n",
    "print(\"ROC AUC Score for \" + arch_name + \" is: \" + str(score))\n",
    "test_results[arch_name] = score"
   ]
  },
  {
   "cell_type": "markdown",
   "metadata": {},
   "source": [
    "## 2.\tWith those same 3 architectures, run the SAME architecture but with 2 different (from sigmoid) activation functions.  Google the Keras documentation for a look at different available activations. "
   ]
  },
  {
   "cell_type": "markdown",
   "metadata": {},
   "source": [
    "### Architecture 2 using ReLU"
   ]
  },
  {
   "cell_type": "markdown",
   "metadata": {},
   "source": [
    "#### 2.1.1 Architecture1: 1 hidden layer with 100 nodes using ReLU"
   ]
  },
  {
   "cell_type": "code",
   "execution_count": 59,
   "metadata": {},
   "outputs": [
    {
     "name": "stdout",
     "output_type": "stream",
     "text": [
      "Epoch 1/5\n",
      "1100000/1100000 [==============================] - 6s 5us/step - loss: 0.6171 - acc: 0.6559\n",
      "Epoch 2/5\n",
      "1100000/1100000 [==============================] - 5s 4us/step - loss: 0.5892 - acc: 0.6878\n",
      "Epoch 3/5\n",
      "1100000/1100000 [==============================] - 7s 6us/step - loss: 0.5799 - acc: 0.6959\n",
      "Epoch 4/5\n",
      "1100000/1100000 [==============================] - 6s 5us/step - loss: 0.5745 - acc: 0.7010\n",
      "Epoch 5/5\n",
      "1100000/1100000 [==============================] - 5s 5us/step - loss: 0.5708 - acc: 0.7037\n",
      "\n",
      "ROC AUC Score for relu-1layer-100nodes is: 0.7868069467401482\n"
     ]
    }
   ],
   "source": [
    "arch_name = \"relu-1layer-100nodes\"\n",
    "model = Sequential()\n",
    "\n",
    "#hidden layer 1: 100 nodes\n",
    "model.add(Dense(100, input_dim=x.shape[1], kernel_initializer='uniform'))\n",
    "model.add(Activation('relu'))\n",
    "model.add(Dropout(0.10))\n",
    "\n",
    "#output layer: 1 node\n",
    "model.add(Dense(1, kernel_initializer='uniform'))\n",
    "model.add(Activation('sigmoid'))\n",
    "\n",
    "#optimizer\n",
    "sgd = SGD(lr=0.1, decay=1e-6, momentum=0.9, nesterov=True)\n",
    "\n",
    "#compile\n",
    "model.compile(loss='binary_crossentropy', metrics=['accuracy'], optimizer=sgd)\n",
    "model.fit(x, y, epochs=5, batch_size=1000)\n",
    "\n",
    "score = roc_auc_score(y_test,model.predict(x_test))\n",
    "\n",
    "print(\"\")\n",
    "print(\"ROC AUC Score for \" + arch_name + \" is: \" + str(score))\n",
    "test_results[arch_name] = score"
   ]
  },
  {
   "cell_type": "markdown",
   "metadata": {},
   "source": [
    "#### 2.1.2 Architecture 2: 2 hidden layers with 100 nodes each using ReLU"
   ]
  },
  {
   "cell_type": "code",
   "execution_count": 60,
   "metadata": {},
   "outputs": [
    {
     "name": "stdout",
     "output_type": "stream",
     "text": [
      "Epoch 1/5\n",
      "1100000/1100000 [==============================] - 9s 8us/step - loss: 0.6165 - acc: 0.6521\n",
      "Epoch 2/5\n",
      "1100000/1100000 [==============================] - 7s 6us/step - loss: 0.5760 - acc: 0.6955\n",
      "Epoch 3/5\n",
      "1100000/1100000 [==============================] - 7s 6us/step - loss: 0.5630 - acc: 0.7067\n",
      "Epoch 4/5\n",
      "1100000/1100000 [==============================] - 7s 6us/step - loss: 0.5542 - acc: 0.7131\n",
      "Epoch 5/5\n",
      "1100000/1100000 [==============================] - 7s 6us/step - loss: 0.5469 - acc: 0.7181\n",
      "\n",
      "ROC AUC Score for relu-2layers-100nodes is: 0.8089000030353879\n"
     ]
    }
   ],
   "source": [
    "arch_name = \"relu-2layers-100nodes\"\n",
    "model = Sequential()\n",
    "\n",
    "#hidden layer 1: 100 nodes\n",
    "model.add(Dense(100, input_dim=x.shape[1], kernel_initializer='uniform'))\n",
    "model.add(Activation('relu'))\n",
    "model.add(Dropout(0.10))\n",
    "\n",
    "#hidden layer 2: 100 nodes\n",
    "model.add(Dense(100, input_dim=x.shape[1], kernel_initializer='uniform'))\n",
    "model.add(Activation('relu'))\n",
    "model.add(Dropout(0.10))\n",
    "\n",
    "#output layer: 1 node\n",
    "model.add(Dense(1, kernel_initializer='uniform'))\n",
    "model.add(Activation('sigmoid'))\n",
    "\n",
    "#optimizer\n",
    "sgd = SGD(lr=0.1, decay=1e-6, momentum=0.9, nesterov=True)\n",
    "\n",
    "#compile\n",
    "model.compile(loss='binary_crossentropy', metrics=['accuracy'], optimizer=sgd)\n",
    "model.fit(x, y, epochs=5, batch_size=1000)\n",
    "\n",
    "score = roc_auc_score(y_test,model.predict(x_test))\n",
    "\n",
    "print(\"\")\n",
    "print(\"ROC AUC Score for \" + arch_name + \" is: \" + str(score))\n",
    "test_results[arch_name] = score"
   ]
  },
  {
   "cell_type": "markdown",
   "metadata": {},
   "source": [
    "#### 2.1.3 Architecture 3: 3 hidden layers with 100 nodes each using ReLU"
   ]
  },
  {
   "cell_type": "code",
   "execution_count": 61,
   "metadata": {},
   "outputs": [
    {
     "name": "stdout",
     "output_type": "stream",
     "text": [
      "Epoch 1/5\n",
      "1100000/1100000 [==============================] - 11s 10us/step - loss: 0.6331 - acc: 0.6282\n",
      "Epoch 2/5\n",
      "1100000/1100000 [==============================] - 9s 8us/step - loss: 0.5784 - acc: 0.6937\n",
      "Epoch 3/5\n",
      "1100000/1100000 [==============================] - 8s 8us/step - loss: 0.5640 - acc: 0.7048\n",
      "Epoch 4/5\n",
      "1100000/1100000 [==============================] - 9s 8us/step - loss: 0.5526 - acc: 0.7137\n",
      "Epoch 5/5\n",
      "1100000/1100000 [==============================] - 11s 10us/step - loss: 0.5449 - acc: 0.7196\n",
      "\n",
      "ROC AUC Score for relu-3layers-100nodes-batch1000 is: 0.8123238731526745\n"
     ]
    }
   ],
   "source": [
    "arch_name = \"relu-3layers-100nodes-batch1000\"\n",
    "model = Sequential()\n",
    "\n",
    "#hidden layer 1: 100 nodes\n",
    "model.add(Dense(100, input_dim=x.shape[1], kernel_initializer='uniform'))\n",
    "model.add(Activation('relu'))\n",
    "model.add(Dropout(0.10))\n",
    "\n",
    "#hidden layer 2: 100 nodes\n",
    "model.add(Dense(100, input_dim=x.shape[1], kernel_initializer='uniform'))\n",
    "model.add(Activation('relu'))\n",
    "model.add(Dropout(0.10))\n",
    "\n",
    "#hidden layer 3: 100 nodes\n",
    "model.add(Dense(100, input_dim=x.shape[1], kernel_initializer='uniform'))\n",
    "model.add(Activation('relu'))\n",
    "model.add(Dropout(0.10))\n",
    "\n",
    "#output layer: 1 node\n",
    "model.add(Dense(1, kernel_initializer='uniform'))\n",
    "model.add(Activation('sigmoid'))\n",
    "\n",
    "#optimizer\n",
    "sgd = SGD(lr=0.1, decay=1e-6, momentum=0.9, nesterov=True)\n",
    "\n",
    "#compile\n",
    "model.compile(loss='binary_crossentropy', metrics=['accuracy'], optimizer=sgd)\n",
    "model.fit(x, y, epochs=5, batch_size=1000)\n",
    "\n",
    "score = roc_auc_score(y_test,model.predict(x_test))\n",
    "\n",
    "print(\"\")\n",
    "print(\"ROC AUC Score for \" + arch_name + \" is: \" + str(score))\n",
    "test_results[arch_name] = score"
   ]
  },
  {
   "cell_type": "markdown",
   "metadata": {},
   "source": [
    "### Architecture 3 using Tanh"
   ]
  },
  {
   "cell_type": "markdown",
   "metadata": {},
   "source": [
    "#### 2.2.1 Architecture1: 1 hidden layer with 100 nodes using Tanh"
   ]
  },
  {
   "cell_type": "code",
   "execution_count": 62,
   "metadata": {},
   "outputs": [
    {
     "name": "stdout",
     "output_type": "stream",
     "text": [
      "Epoch 1/5\n",
      "1100000/1100000 [==============================] - 7s 6us/step - loss: 0.6432 - acc: 0.6279\n",
      "Epoch 2/5\n",
      "1100000/1100000 [==============================] - 5s 5us/step - loss: 0.6304 - acc: 0.6466\n",
      "Epoch 3/5\n",
      "1100000/1100000 [==============================] - 6s 6us/step - loss: 0.6172 - acc: 0.6594\n",
      "Epoch 4/5\n",
      "1100000/1100000 [==============================] - 6s 5us/step - loss: 0.6072 - acc: 0.6695\n",
      "Epoch 5/5\n",
      "1100000/1100000 [==============================] - 6s 5us/step - loss: 0.6012 - acc: 0.6747\n",
      "\n",
      "ROC AUC Score for tanh-1layer-100nodes is: 0.7599418643787034\n"
     ]
    }
   ],
   "source": [
    "arch_name = \"tanh-1layer-100nodes\"\n",
    "model = Sequential()\n",
    "\n",
    "#hidden layer 1: 100 nodes\n",
    "model.add(Dense(100, input_dim=x.shape[1], kernel_initializer='uniform'))\n",
    "model.add(Activation('tanh'))\n",
    "model.add(Dropout(0.10))\n",
    "\n",
    "#output layer: 1 node\n",
    "model.add(Dense(1, kernel_initializer='uniform'))\n",
    "model.add(Activation('sigmoid'))\n",
    "\n",
    "#optimizer\n",
    "sgd = SGD(lr=0.1, decay=1e-6, momentum=0.9, nesterov=True)\n",
    "\n",
    "#compile\n",
    "model.compile(loss='binary_crossentropy', metrics=['accuracy'], optimizer=sgd)\n",
    "model.fit(x, y, epochs=5, batch_size=1000)\n",
    "\n",
    "score = roc_auc_score(y_test,model.predict(x_test))\n",
    "\n",
    "print(\"\")\n",
    "print(\"ROC AUC Score for \" + arch_name + \" is: \" + str(score))\n",
    "test_results[arch_name] = score"
   ]
  },
  {
   "cell_type": "markdown",
   "metadata": {},
   "source": [
    "#### 2.2.2 Architecture 2: 2 hidden layers with 100 nodes each using tanh"
   ]
  },
  {
   "cell_type": "code",
   "execution_count": 63,
   "metadata": {},
   "outputs": [
    {
     "name": "stdout",
     "output_type": "stream",
     "text": [
      "Epoch 1/5\n",
      "1100000/1100000 [==============================] - 8s 7us/step - loss: 0.6454 - acc: 0.6238\n",
      "Epoch 2/5\n",
      "1100000/1100000 [==============================] - 7s 6us/step - loss: 0.6301 - acc: 0.6459\n",
      "Epoch 3/5\n",
      "1100000/1100000 [==============================] - 7s 6us/step - loss: 0.6103 - acc: 0.6644\n",
      "Epoch 4/5\n",
      "1100000/1100000 [==============================] - 7s 6us/step - loss: 0.5959 - acc: 0.6789\n",
      "Epoch 5/5\n",
      "1100000/1100000 [==============================] - 7s 6us/step - loss: 0.5898 - acc: 0.6844\n",
      "\n",
      "ROC AUC Score for tanh-2layers-50nodes is: 0.7703052432297541\n"
     ]
    }
   ],
   "source": [
    "arch_name = \"tanh-2layers-50nodes\"\n",
    "model = Sequential()\n",
    "\n",
    "#hidden layer 1: 100 nodes\n",
    "model.add(Dense(100, input_dim=x.shape[1], kernel_initializer='uniform'))\n",
    "model.add(Activation('tanh'))\n",
    "model.add(Dropout(0.10))\n",
    "\n",
    "#hidden layer 2: 100 nodes\n",
    "model.add(Dense(100, input_dim=x.shape[1], kernel_initializer='uniform'))\n",
    "model.add(Activation('tanh'))\n",
    "model.add(Dropout(0.10))\n",
    "\n",
    "#output layer: 1 node\n",
    "model.add(Dense(1, kernel_initializer='uniform'))\n",
    "model.add(Activation('sigmoid'))\n",
    "\n",
    "#optimizer\n",
    "sgd = SGD(lr=0.1, decay=1e-6, momentum=0.9, nesterov=True)\n",
    "\n",
    "#compile\n",
    "model.compile(loss='binary_crossentropy', metrics=['accuracy'], optimizer=sgd)\n",
    "model.fit(x, y, epochs=5, batch_size=1000)\n",
    "\n",
    "score = roc_auc_score(y_test,model.predict(x_test))\n",
    "\n",
    "print(\"\")\n",
    "print(\"ROC AUC Score for \" + arch_name + \" is: \" + str(score))\n",
    "test_results[arch_name] = score"
   ]
  },
  {
   "cell_type": "markdown",
   "metadata": {},
   "source": [
    "#### 2.2.3 Architecture 3: 3 hidden layers with 100 nodes each using tanh"
   ]
  },
  {
   "cell_type": "code",
   "execution_count": 64,
   "metadata": {},
   "outputs": [
    {
     "name": "stdout",
     "output_type": "stream",
     "text": [
      "Epoch 1/5\n",
      "1100000/1100000 [==============================] - 10s 9us/step - loss: 0.6480 - acc: 0.6186\n",
      "Epoch 2/5\n",
      "1100000/1100000 [==============================] - 8s 8us/step - loss: 0.6300 - acc: 0.6469\n",
      "Epoch 3/5\n",
      "1100000/1100000 [==============================] - 8s 7us/step - loss: 0.6089 - acc: 0.6660\n",
      "Epoch 4/5\n",
      "1100000/1100000 [==============================] - 8s 7us/step - loss: 0.5983 - acc: 0.6757\n",
      "Epoch 5/5\n",
      "1100000/1100000 [==============================] - 9s 8us/step - loss: 0.5920 - acc: 0.6813\n",
      "\n",
      "ROC AUC Score for tanh-3layers-100nodes is: 0.7688310275395528\n"
     ]
    }
   ],
   "source": [
    "arch_name = \"tanh-3layers-100nodes\"\n",
    "model = Sequential()\n",
    "\n",
    "#hidden layer 1: 100 nodes\n",
    "model.add(Dense(100, input_dim=x.shape[1], kernel_initializer='uniform'))\n",
    "model.add(Activation('tanh'))\n",
    "model.add(Dropout(0.10))\n",
    "\n",
    "#hidden layer 2: 100 nodes\n",
    "model.add(Dense(100, input_dim=x.shape[1], kernel_initializer='uniform'))\n",
    "model.add(Activation('tanh'))\n",
    "model.add(Dropout(0.10))\n",
    "\n",
    "#hidden layer 3: 100 nodes\n",
    "model.add(Dense(100, input_dim=x.shape[1], kernel_initializer='uniform'))\n",
    "model.add(Activation('tanh'))\n",
    "model.add(Dropout(0.10))\n",
    "\n",
    "#output layer: 1 node\n",
    "model.add(Dense(1, kernel_initializer='uniform'))\n",
    "model.add(Activation('sigmoid'))\n",
    "\n",
    "#optimizer\n",
    "sgd = SGD(lr=0.1, decay=1e-6, momentum=0.9, nesterov=True)\n",
    "\n",
    "#compile\n",
    "model.compile(loss='binary_crossentropy', metrics=['accuracy'], optimizer=sgd)\n",
    "model.fit(x, y, epochs=5, batch_size=1000)\n",
    "\n",
    "score = roc_auc_score(y_test,model.predict(x_test))\n",
    "\n",
    "print(\"\")\n",
    "print(\"ROC AUC Score for \" + arch_name + \" is: \" + str(score))\n",
    "test_results[arch_name] = score"
   ]
  },
  {
   "cell_type": "markdown",
   "metadata": {},
   "source": [
    "### Compare all tests"
   ]
  },
  {
   "cell_type": "code",
   "execution_count": 65,
   "metadata": {},
   "outputs": [
    {
     "data": {
      "text/plain": [
       "relu-3layers-100nodes-batch1000    0.812324\n",
       "relu-2layers-100nodes              0.808900\n",
       "relu-1layer-100nodes               0.786807\n",
       "tanh-2layers-50nodes               0.770305\n",
       "tanh-3layers-100nodes              0.768831\n",
       "tanh-1layer-100nodes               0.759942\n",
       "sigmoid-1layer-100nodes            0.732065\n",
       "sigmoid-2layers-100nodes           0.686323\n",
       "sigmoid-3layers-100nodes           0.506056\n",
       "dtype: float64"
      ]
     },
     "execution_count": 65,
     "metadata": {},
     "output_type": "execute_result"
    }
   ],
   "source": [
    "testSeries = pd.Series(test_results)\n",
    "testSeries.sort_values(ascending=False, inplace=True)\n",
    "testSeries"
   ]
  },
  {
   "cell_type": "markdown",
   "metadata": {},
   "source": [
    "### 3.\tTake your best model from parts 1&2 and vary the batch size by at least 2 orders of magnitude"
   ]
  },
  {
   "cell_type": "markdown",
   "metadata": {},
   "source": [
    "#### Our best model from previous tests was using ReLU activation functions with 3 layers and 100 neurons each. We will now experiment changing the batch sizes of 100, 10000, and 100000 - and compare results"
   ]
  },
  {
   "cell_type": "code",
   "execution_count": 66,
   "metadata": {},
   "outputs": [
    {
     "name": "stdout",
     "output_type": "stream",
     "text": [
      "Epoch 1/5\n",
      "1100000/1100000 [==============================] - 9s 8us/step - loss: 0.6914 - acc: 0.5290\n",
      "Epoch 2/5\n",
      "1100000/1100000 [==============================] - 7s 6us/step - loss: 0.6911 - acc: 0.5295\n",
      "Epoch 3/5\n",
      "1100000/1100000 [==============================] - 6s 5us/step - loss: 0.6821 - acc: 0.5568\n",
      "Epoch 4/5\n",
      "1100000/1100000 [==============================] - 6s 6us/step - loss: 0.6362 - acc: 0.6351\n",
      "Epoch 5/5\n",
      "1100000/1100000 [==============================] - 6s 5us/step - loss: 0.6159 - acc: 0.6594\n",
      "\n",
      "ROC AUC Score for relu-3layers-100nodes-batch10K is: 0.7454849185402521\n"
     ]
    }
   ],
   "source": [
    "test_results_batch = {}\n",
    "\n",
    "test_results_batch[\"relu-3layers-100nodes-batch1000\"] = testSeries[0]\n",
    "\n",
    "arch_name = \"relu-3layers-100nodes-batch10K\"\n",
    "model = Sequential()\n",
    "\n",
    "#hidden layer 1: 100 nodes\n",
    "model.add(Dense(100, input_dim=x.shape[1], kernel_initializer='uniform'))\n",
    "model.add(Activation('relu'))\n",
    "model.add(Dropout(0.10))\n",
    "\n",
    "#hidden layer 2: 100 nodes\n",
    "model.add(Dense(100, input_dim=x.shape[1], kernel_initializer='uniform'))\n",
    "model.add(Activation('relu'))\n",
    "model.add(Dropout(0.10))\n",
    "\n",
    "#hidden layer 3: 100 nodes\n",
    "model.add(Dense(100, input_dim=x.shape[1], kernel_initializer='uniform'))\n",
    "model.add(Activation('relu'))\n",
    "model.add(Dropout(0.10))\n",
    "\n",
    "#output layer: 1 node\n",
    "model.add(Dense(1, kernel_initializer='uniform'))\n",
    "model.add(Activation('sigmoid'))\n",
    "\n",
    "#optimizer\n",
    "sgd = SGD(lr=0.1, decay=1e-6, momentum=0.9, nesterov=True)\n",
    "\n",
    "#compile\n",
    "model.compile(loss='binary_crossentropy', metrics=['accuracy'], optimizer=sgd)\n",
    "model.fit(x, y, epochs=5, batch_size=10000)\n",
    "\n",
    "score = roc_auc_score(y_test,model.predict(x_test))\n",
    "\n",
    "print(\"\")\n",
    "print(\"ROC AUC Score for \" + arch_name + \" is: \" + str(score))\n",
    "test_results_batch[arch_name] = score"
   ]
  },
  {
   "cell_type": "code",
   "execution_count": 67,
   "metadata": {},
   "outputs": [
    {
     "name": "stdout",
     "output_type": "stream",
     "text": [
      "Epoch 1/5\n",
      "1100000/1100000 [==============================] - 10s 9us/step - loss: 0.6922 - acc: 0.5258\n",
      "Epoch 2/5\n",
      "1100000/1100000 [==============================] - 8s 8us/step - loss: 0.6915 - acc: 0.5295\n",
      "Epoch 3/5\n",
      "1100000/1100000 [==============================] - 8s 8us/step - loss: 0.6914 - acc: 0.5295\n",
      "Epoch 4/5\n",
      "1100000/1100000 [==============================] - 8s 8us/step - loss: 0.6914 - acc: 0.5295\n",
      "Epoch 5/5\n",
      "1100000/1100000 [==============================] - 8s 7us/step - loss: 0.6913 - acc: 0.5295\n",
      "\n",
      "ROC AUC Score for relu-3layers-100nodes-batch100K is: 0.5542685851098367\n"
     ]
    }
   ],
   "source": [
    "arch_name = \"relu-3layers-100nodes-batch100K\"\n",
    "model = Sequential()\n",
    "\n",
    "#hidden layer 1: 100 nodes\n",
    "model.add(Dense(100, input_dim=x.shape[1], kernel_initializer='uniform'))\n",
    "model.add(Activation('relu'))\n",
    "model.add(Dropout(0.10))\n",
    "\n",
    "#hidden layer 2: 100 nodes\n",
    "model.add(Dense(100, input_dim=x.shape[1], kernel_initializer='uniform'))\n",
    "model.add(Activation('relu'))\n",
    "model.add(Dropout(0.10))\n",
    "\n",
    "#hidden layer 3: 100 nodes\n",
    "model.add(Dense(100, input_dim=x.shape[1], kernel_initializer='uniform'))\n",
    "model.add(Activation('relu'))\n",
    "model.add(Dropout(0.10))\n",
    "\n",
    "#output layer: 1 node\n",
    "model.add(Dense(1, kernel_initializer='uniform'))\n",
    "model.add(Activation('sigmoid'))\n",
    "\n",
    "#optimizer\n",
    "sgd = SGD(lr=0.1, decay=1e-6, momentum=0.9, nesterov=True)\n",
    "\n",
    "#compile\n",
    "model.compile(loss='binary_crossentropy', metrics=['accuracy'], optimizer=sgd)\n",
    "model.fit(x, y, epochs=5, batch_size=100000)\n",
    "\n",
    "score = roc_auc_score(y_test,model.predict(x_test))\n",
    "\n",
    "print(\"\")\n",
    "print(\"ROC AUC Score for \" + arch_name + \" is: \" + str(score))\n",
    "test_results_batch[arch_name] = score"
   ]
  },
  {
   "cell_type": "code",
   "execution_count": 68,
   "metadata": {},
   "outputs": [
    {
     "name": "stdout",
     "output_type": "stream",
     "text": [
      "Epoch 1/5\n",
      "1100000/1100000 [==============================] - 29s 26us/step - loss: 0.6035 - acc: 0.6694\n",
      "Epoch 2/5\n",
      "1100000/1100000 [==============================] - 32s 29us/step - loss: 0.5743 - acc: 0.6984\n",
      "Epoch 3/5\n",
      "1100000/1100000 [==============================] - 29s 26us/step - loss: 0.5639 - acc: 0.7072\n",
      "Epoch 4/5\n",
      "1100000/1100000 [==============================] - 27s 25us/step - loss: 0.5572 - acc: 0.7130\n",
      "Epoch 5/5\n",
      "1100000/1100000 [==============================] - 27s 25us/step - loss: 0.5526 - acc: 0.7169\n",
      "\n",
      "ROC AUC Score for relu-3layers-100nodes-batch100 is: 0.8095547108313648\n"
     ]
    }
   ],
   "source": [
    "arch_name = \"relu-3layers-100nodes-batch100\"\n",
    "model = Sequential()\n",
    "\n",
    "#hidden layer 1: 100 nodes\n",
    "model.add(Dense(100, input_dim=x.shape[1], kernel_initializer='uniform'))\n",
    "model.add(Activation('relu'))\n",
    "model.add(Dropout(0.10))\n",
    "\n",
    "#hidden layer 2: 100 nodes\n",
    "model.add(Dense(100, input_dim=x.shape[1], kernel_initializer='uniform'))\n",
    "model.add(Activation('relu'))\n",
    "model.add(Dropout(0.10))\n",
    "\n",
    "#hidden layer 3: 100 nodes\n",
    "model.add(Dense(100, input_dim=x.shape[1], kernel_initializer='uniform'))\n",
    "model.add(Activation('relu'))\n",
    "model.add(Dropout(0.10))\n",
    "\n",
    "#output layer: 1 node\n",
    "model.add(Dense(1, kernel_initializer='uniform'))\n",
    "model.add(Activation('sigmoid'))\n",
    "\n",
    "#optimizer\n",
    "sgd = SGD(lr=0.1, decay=1e-6, momentum=0.9, nesterov=True)\n",
    "\n",
    "#compile\n",
    "model.compile(loss='binary_crossentropy', metrics=['accuracy'], optimizer=sgd)\n",
    "model.fit(x, y, epochs=5, batch_size=100)\n",
    "\n",
    "score = roc_auc_score(y_test,model.predict(x_test))\n",
    "\n",
    "print(\"\")\n",
    "print(\"ROC AUC Score for \" + arch_name + \" is: \" + str(score))\n",
    "test_results_batch[arch_name] = score"
   ]
  },
  {
   "cell_type": "code",
   "execution_count": 69,
   "metadata": {},
   "outputs": [
    {
     "data": {
      "text/plain": [
       "relu-3layers-100nodes-batch1000    0.812324\n",
       "relu-3layers-100nodes-batch100     0.809555\n",
       "relu-3layers-100nodes-batch10K     0.745485\n",
       "relu-3layers-100nodes-batch100K    0.554269\n",
       "dtype: float64"
      ]
     },
     "execution_count": 69,
     "metadata": {},
     "output_type": "execute_result"
    }
   ],
   "source": [
    "testSeries = pd.Series(test_results_batch)\n",
    "testSeries.sort_values(ascending=False, inplace=True)\n",
    "testSeries"
   ]
  },
  {
   "cell_type": "markdown",
   "metadata": {},
   "source": [
    "### 4.\tTake your best model (score) from parts 1&2 and use 3 different kernel initializers. Use a reasonable batch size."
   ]
  },
  {
   "cell_type": "markdown",
   "metadata": {},
   "source": [
    "#### In this section, we will use our best model (ReLU activation function, with 3 hidden layers of 100 neurons each w/batch size of 1000 inputs), and experiment with kernel initilizers such as 'random_uniform', 'glorot_uniform' and 'he_uniform' "
   ]
  },
  {
   "cell_type": "code",
   "execution_count": 70,
   "metadata": {},
   "outputs": [
    {
     "name": "stdout",
     "output_type": "stream",
     "text": [
      "Epoch 1/5\n",
      "1100000/1100000 [==============================] - 9s 9us/step - loss: 0.6333 - acc: 0.6266\n",
      "Epoch 2/5\n",
      "1100000/1100000 [==============================] - 8s 8us/step - loss: 0.5775 - acc: 0.6944\n",
      "Epoch 3/5\n",
      "1100000/1100000 [==============================] - 8s 8us/step - loss: 0.5612 - acc: 0.7078\n",
      "Epoch 4/5\n",
      "1100000/1100000 [==============================] - 9s 8us/step - loss: 0.5507 - acc: 0.7155\n",
      "Epoch 5/5\n",
      "1100000/1100000 [==============================] - 9s 8us/step - loss: 0.5428 - acc: 0.7213\n",
      "\n",
      "ROC AUC Score for relu-3layers-100nodes-batch1000-randomuniform is: 0.813445948173916\n"
     ]
    }
   ],
   "source": [
    "test_results_kernals = {}\n",
    "\n",
    "test_results_kernals[\"relu-3layers-100nodes-batch1000-uniform\"] = testSeries[0]\n",
    "\n",
    "arch_name = \"relu-3layers-100nodes-batch1000-randomuniform\"\n",
    "model = Sequential()\n",
    "\n",
    "#hidden layer 1: 100 nodes\n",
    "model.add(Dense(100, input_dim=x.shape[1], kernel_initializer='random_uniform'))\n",
    "model.add(Activation('relu'))\n",
    "model.add(Dropout(0.10))\n",
    "\n",
    "#hidden layer 2: 100 nodes\n",
    "model.add(Dense(100, input_dim=x.shape[1], kernel_initializer='random_uniform'))\n",
    "model.add(Activation('relu'))\n",
    "model.add(Dropout(0.10))\n",
    "\n",
    "#hidden layer 3: 100 nodes\n",
    "model.add(Dense(100, input_dim=x.shape[1], kernel_initializer='random_uniform'))\n",
    "model.add(Activation('relu'))\n",
    "model.add(Dropout(0.10))\n",
    "\n",
    "#output layer: 1 node\n",
    "model.add(Dense(1, kernel_initializer='uniform'))\n",
    "model.add(Activation('sigmoid'))\n",
    "\n",
    "#optimizer\n",
    "sgd = SGD(lr=0.1, decay=1e-6, momentum=0.9, nesterov=True)\n",
    "\n",
    "#compile\n",
    "model.compile(loss='binary_crossentropy', metrics=['accuracy'], optimizer=sgd)\n",
    "model.fit(x, y, epochs=5, batch_size=1000)\n",
    "\n",
    "score = roc_auc_score(y_test,model.predict(x_test))\n",
    "\n",
    "print(\"\")\n",
    "print(\"ROC AUC Score for \" + arch_name + \" is: \" + str(score))\n",
    "test_results_kernals[arch_name] = score"
   ]
  },
  {
   "cell_type": "code",
   "execution_count": 71,
   "metadata": {},
   "outputs": [
    {
     "name": "stdout",
     "output_type": "stream",
     "text": [
      "Epoch 1/5\n",
      "1100000/1100000 [==============================] - 10s 9us/step - loss: 0.6161 - acc: 0.6547\n",
      "Epoch 2/5\n",
      "1100000/1100000 [==============================] - 8s 8us/step - loss: 0.5771 - acc: 0.6946\n",
      "Epoch 3/5\n",
      "1100000/1100000 [==============================] - 9s 8us/step - loss: 0.5627 - acc: 0.7065\n",
      "Epoch 4/5\n",
      "1100000/1100000 [==============================] - 8s 7us/step - loss: 0.5538 - acc: 0.7132\n",
      "Epoch 5/5\n",
      "1100000/1100000 [==============================] - 8s 8us/step - loss: 0.5471 - acc: 0.7186\n",
      "\n",
      "ROC AUC Score for relu-3layers-100nodes-batch1000-glorotuniform is: 0.8124337469460416\n"
     ]
    }
   ],
   "source": [
    "arch_name = \"relu-3layers-100nodes-batch1000-glorotuniform\"\n",
    "model = Sequential()\n",
    "\n",
    "#hidden layer 1: 100 nodes\n",
    "model.add(Dense(100, input_dim=x.shape[1], kernel_initializer='glorot_uniform'))\n",
    "model.add(Activation('relu'))\n",
    "model.add(Dropout(0.10))\n",
    "\n",
    "#hidden layer 2: 100 nodes\n",
    "model.add(Dense(100, input_dim=x.shape[1], kernel_initializer='glorot_uniform'))\n",
    "model.add(Activation('relu'))\n",
    "model.add(Dropout(0.10))\n",
    "\n",
    "#hidden layer 3: 100 nodes\n",
    "model.add(Dense(100, input_dim=x.shape[1], kernel_initializer='glorot_uniform'))\n",
    "model.add(Activation('relu'))\n",
    "model.add(Dropout(0.10))\n",
    "\n",
    "#output layer: 1 node\n",
    "model.add(Dense(1, kernel_initializer='uniform'))\n",
    "model.add(Activation('sigmoid'))\n",
    "\n",
    "#optimizer\n",
    "sgd = SGD(lr=0.1, decay=1e-6, momentum=0.9, nesterov=True)\n",
    "\n",
    "#compile\n",
    "model.compile(loss='binary_crossentropy', metrics=['accuracy'], optimizer=sgd)\n",
    "model.fit(x, y, epochs=5, batch_size=1000)\n",
    "\n",
    "score = roc_auc_score(y_test,model.predict(x_test))\n",
    "\n",
    "print(\"\")\n",
    "print(\"ROC AUC Score for \" + arch_name + \" is: \" + str(score))\n",
    "test_results_kernals[arch_name] = score"
   ]
  },
  {
   "cell_type": "code",
   "execution_count": 72,
   "metadata": {},
   "outputs": [
    {
     "name": "stdout",
     "output_type": "stream",
     "text": [
      "Epoch 1/5\n",
      "1100000/1100000 [==============================] - 9s 9us/step - loss: 0.6363 - acc: 0.6320\n",
      "Epoch 2/5\n",
      "1100000/1100000 [==============================] - 8s 7us/step - loss: 0.5961 - acc: 0.6776\n",
      "Epoch 3/5\n",
      "1100000/1100000 [==============================] - 8s 7us/step - loss: 0.5764 - acc: 0.6955\n",
      "Epoch 4/5\n",
      "1100000/1100000 [==============================] - 8s 7us/step - loss: 0.5656 - acc: 0.7043\n",
      "Epoch 5/5\n",
      "1100000/1100000 [==============================] - 8s 7us/step - loss: 0.5582 - acc: 0.7105\n",
      "\n",
      "ROC AUC Score for relu-3layers-100nodes-batch1000-heuniform is: 0.8014568339834331\n"
     ]
    }
   ],
   "source": [
    "arch_name = \"relu-3layers-100nodes-batch1000-heuniform\"\n",
    "model = Sequential()\n",
    "\n",
    "#hidden layer 1: 100 nodes\n",
    "model.add(Dense(100, input_dim=x.shape[1], kernel_initializer='he_uniform'))\n",
    "model.add(Activation('relu'))\n",
    "model.add(Dropout(0.10))\n",
    "\n",
    "#hidden layer 2: 100 nodes\n",
    "model.add(Dense(100, input_dim=x.shape[1], kernel_initializer='he_uniform'))\n",
    "model.add(Activation('relu'))\n",
    "model.add(Dropout(0.10))\n",
    "\n",
    "#hidden layer 3: 100 nodes\n",
    "model.add(Dense(100, input_dim=x.shape[1], kernel_initializer='he_uniform'))\n",
    "model.add(Activation('relu'))\n",
    "model.add(Dropout(0.10))\n",
    "\n",
    "#output layer: 1 node\n",
    "model.add(Dense(1, kernel_initializer='uniform'))\n",
    "model.add(Activation('sigmoid'))\n",
    "\n",
    "#optimizer\n",
    "sgd = SGD(lr=0.1, decay=1e-6, momentum=0.9, nesterov=True)\n",
    "\n",
    "#compile\n",
    "model.compile(loss='binary_crossentropy', metrics=['accuracy'], optimizer=sgd)\n",
    "model.fit(x, y, epochs=5, batch_size=1000)\n",
    "\n",
    "score = roc_auc_score(y_test,model.predict(x_test))\n",
    "\n",
    "print(\"\")\n",
    "print(\"ROC AUC Score for \" + arch_name + \" is: \" + str(score))\n",
    "test_results_kernals[arch_name] = score"
   ]
  },
  {
   "cell_type": "code",
   "execution_count": 73,
   "metadata": {},
   "outputs": [
    {
     "data": {
      "text/plain": [
       "relu-3layers-100nodes-batch1000-randomuniform    0.813446\n",
       "relu-3layers-100nodes-batch1000-glorotuniform    0.812434\n",
       "relu-3layers-100nodes-batch1000-uniform          0.812324\n",
       "relu-3layers-100nodes-batch1000-heuniform        0.801457\n",
       "dtype: float64"
      ]
     },
     "execution_count": 73,
     "metadata": {},
     "output_type": "execute_result"
    }
   ],
   "source": [
    "testSeries = pd.Series(test_results_kernals)\n",
    "testSeries.sort_values(ascending=False, inplace=True)\n",
    "testSeries"
   ]
  },
  {
   "cell_type": "markdown",
   "metadata": {},
   "source": [
    "### 5.\tTake your best results from #3 and try 3 different optimizers. "
   ]
  },
  {
   "cell_type": "markdown",
   "metadata": {},
   "source": [
    "#### Our best model userd SGD optimizer in the previous experiment. In this section, we will use our best model to experiment with 3 different optimizers such as adagrad, adam, rmsprop to compare the model peformances"
   ]
  },
  {
   "cell_type": "code",
   "execution_count": 80,
   "metadata": {},
   "outputs": [
    {
     "data": {
      "text/plain": [
       "{'relu-3layers-100nodes-batch1000-randomuniform-sgd': 0.813445948173916}"
      ]
     },
     "execution_count": 80,
     "metadata": {},
     "output_type": "execute_result"
    }
   ],
   "source": [
    "test_results_optimizers = {}\n",
    "\n",
    "test_results_optimizers[\"relu-3layers-100nodes-batch1000-randomuniform-sgd\"] = testSeries[0]\n",
    "test_results_optimizers "
   ]
  },
  {
   "cell_type": "code",
   "execution_count": 81,
   "metadata": {},
   "outputs": [
    {
     "name": "stdout",
     "output_type": "stream",
     "text": [
      "Epoch 1/5\n",
      "1100000/1100000 [==============================] - 11s 10us/step - loss: 0.6171 - acc: 0.6538\n",
      "Epoch 2/5\n",
      "1100000/1100000 [==============================] - 9s 8us/step - loss: 0.5854 - acc: 0.6870\n",
      "Epoch 3/5\n",
      "1100000/1100000 [==============================] - 9s 8us/step - loss: 0.5758 - acc: 0.6956\n",
      "Epoch 4/5\n",
      "1100000/1100000 [==============================] - 8s 7us/step - loss: 0.5692 - acc: 0.7010\n",
      "Epoch 5/5\n",
      "1100000/1100000 [==============================] - 8s 7us/step - loss: 0.5640 - acc: 0.7057\n",
      "\n",
      "ROC AUC Score for relu-3layers-100nodes-batch1000-randomuniform-adagrad is: 0.7925072607508825\n"
     ]
    }
   ],
   "source": [
    "arch_name = \"relu-3layers-100nodes-batch1000-randomuniform-adagrad\"\n",
    "model = Sequential()\n",
    "\n",
    "#hidden layer 1: 100 nodes\n",
    "model.add(Dense(100, input_dim=x.shape[1], kernel_initializer='random_uniform'))\n",
    "model.add(Activation('relu'))\n",
    "model.add(Dropout(0.10))\n",
    "\n",
    "#hidden layer 2: 100 nodes\n",
    "model.add(Dense(100, input_dim=x.shape[1], kernel_initializer='random_uniform'))\n",
    "model.add(Activation('relu'))\n",
    "model.add(Dropout(0.10))\n",
    "\n",
    "#hidden layer 3: 100 nodes\n",
    "model.add(Dense(100, input_dim=x.shape[1], kernel_initializer='random_uniform'))\n",
    "model.add(Activation('relu'))\n",
    "model.add(Dropout(0.10))\n",
    "\n",
    "#output layer: 1 node\n",
    "model.add(Dense(1, kernel_initializer='uniform'))\n",
    "model.add(Activation('sigmoid'))\n",
    "\n",
    "#optimizer\n",
    "# sgd = SGD(lr=0.1, decay=1e-6, momentum=0.9, nesterov=True)\n",
    "\n",
    "adagrad = Adagrad(lr=0.01, epsilon=None, decay=1e-6)\n",
    "\n",
    "#compile\n",
    "model.compile(loss='binary_crossentropy', metrics=['accuracy'], optimizer=adagrad)\n",
    "model.fit(x, y, epochs=5, batch_size=1000)\n",
    "\n",
    "score = roc_auc_score(y_test,model.predict(x_test))\n",
    "\n",
    "print(\"\")\n",
    "print(\"ROC AUC Score for \" + arch_name + \" is: \" + str(score))\n",
    "test_results_optimizers[arch_name] = score"
   ]
  },
  {
   "cell_type": "code",
   "execution_count": 82,
   "metadata": {},
   "outputs": [
    {
     "name": "stdout",
     "output_type": "stream",
     "text": [
      "Epoch 1/5\n",
      "1100000/1100000 [==============================] - 11s 10us/step - loss: 8.5255 - acc: 0.4705\n",
      "Epoch 2/5\n",
      "1100000/1100000 [==============================] - 9s 8us/step - loss: 8.5348 - acc: 0.4705\n",
      "Epoch 3/5\n",
      "1100000/1100000 [==============================] - 8s 8us/step - loss: 8.5348 - acc: 0.4705\n",
      "Epoch 4/5\n",
      "1100000/1100000 [==============================] - 8s 8us/step - loss: 8.5348 - acc: 0.4705\n",
      "Epoch 5/5\n",
      "1100000/1100000 [==============================] - 8s 8us/step - loss: 8.5348 - acc: 0.4705\n",
      "\n",
      "ROC AUC Score for relu-3layers-100nodes-batch1000-randomuniform-adam is: 0.5\n"
     ]
    }
   ],
   "source": [
    "arch_name = \"relu-3layers-100nodes-batch1000-randomuniform-adam\"\n",
    "model = Sequential()\n",
    "\n",
    "#hidden layer 1: 100 nodes\n",
    "model.add(Dense(100, input_dim=x.shape[1], kernel_initializer='random_uniform'))\n",
    "model.add(Activation('relu'))\n",
    "model.add(Dropout(0.10))\n",
    "\n",
    "#hidden layer 2: 100 nodes\n",
    "model.add(Dense(100, input_dim=x.shape[1], kernel_initializer='random_uniform'))\n",
    "model.add(Activation('relu'))\n",
    "model.add(Dropout(0.10))\n",
    "\n",
    "#hidden layer 3: 100 nodes\n",
    "model.add(Dense(100, input_dim=x.shape[1], kernel_initializer='random_uniform'))\n",
    "model.add(Activation('relu'))\n",
    "model.add(Dropout(0.10))\n",
    "\n",
    "#output layer: 1 node\n",
    "model.add(Dense(1, kernel_initializer='uniform'))\n",
    "model.add(Activation('sigmoid'))\n",
    "\n",
    "#optimizer\n",
    "# sgd = SGD(lr=0.1, decay=1e-6, momentum=0.9, nesterov=True)\n",
    "adam = Adam(lr=0.1, beta_1=0., epsilon=None, decay=1e-6)\n",
    "\n",
    "#compile\n",
    "model.compile(loss='binary_crossentropy', metrics=['accuracy'], optimizer=adam)\n",
    "model.fit(x, y, epochs=5, batch_size=1000)\n",
    "\n",
    "score = roc_auc_score(y_test,model.predict(x_test))\n",
    "\n",
    "print(\"\")\n",
    "print(\"ROC AUC Score for \" + arch_name + \" is: \" + str(score))\n",
    "test_results_optimizers[arch_name] = score"
   ]
  },
  {
   "cell_type": "code",
   "execution_count": 83,
   "metadata": {},
   "outputs": [
    {
     "name": "stdout",
     "output_type": "stream",
     "text": [
      "Epoch 1/5\n",
      "1100000/1100000 [==============================] - 11s 10us/step - loss: 0.6228 - acc: 0.6474\n",
      "Epoch 2/5\n",
      "1100000/1100000 [==============================] - 9s 8us/step - loss: 0.5847 - acc: 0.6874\n",
      "Epoch 3/5\n",
      "1100000/1100000 [==============================] - 8s 8us/step - loss: 0.5695 - acc: 0.7004\n",
      "Epoch 4/5\n",
      "1100000/1100000 [==============================] - 9s 8us/step - loss: 0.5599 - acc: 0.7086\n",
      "Epoch 5/5\n",
      "1100000/1100000 [==============================] - 9s 8us/step - loss: 0.5528 - acc: 0.7142\n",
      "\n",
      "ROC AUC Score for relu-3layers-100nodes-batch1000-randomuniform-rmsprop is: 0.8082289253285946\n"
     ]
    }
   ],
   "source": [
    "arch_name = \"relu-3layers-100nodes-batch1000-randomuniform-rmsprop\"\n",
    "model = Sequential()\n",
    "\n",
    "#hidden layer 1: 100 nodes\n",
    "model.add(Dense(100, input_dim=x.shape[1], kernel_initializer='random_uniform'))\n",
    "model.add(Activation('relu'))\n",
    "model.add(Dropout(0.10))\n",
    "\n",
    "#hidden layer 2: 100 nodes\n",
    "model.add(Dense(100, input_dim=x.shape[1], kernel_initializer='random_uniform'))\n",
    "model.add(Activation('relu'))\n",
    "model.add(Dropout(0.10))\n",
    "\n",
    "#hidden layer 3: 100 nodes\n",
    "model.add(Dense(100, input_dim=x.shape[1], kernel_initializer='random_uniform'))\n",
    "model.add(Activation('relu'))\n",
    "model.add(Dropout(0.10))\n",
    "\n",
    "#output layer: 1 node\n",
    "model.add(Dense(1, kernel_initializer='uniform'))\n",
    "model.add(Activation('sigmoid'))\n",
    "\n",
    "#optimizer\n",
    "# sgd = SGD(lr=0.1, decay=1e-6, momentum=0.9, nesterov=True)\n",
    "# adamax = Adamax(lr=0.1, beta_1=0.9, epsilon=None, decay=1e-6)\n",
    "#adadelta = Adadelta(lr=0.1, rho=0.95, epsilon=None, decay=1e-6)\n",
    "rmsprop = RMSprop(lr=0.001, rho=0.9, epsilon=None, decay=0.0)\n",
    "\n",
    "#compile\n",
    "model.compile(loss='binary_crossentropy', metrics=['accuracy'], optimizer=rmsprop)\n",
    "model.fit(x, y, epochs=5, batch_size=1000)\n",
    "\n",
    "score = roc_auc_score(y_test,model.predict(x_test))\n",
    "\n",
    "print(\"\")\n",
    "print(\"ROC AUC Score for \" + arch_name + \" is: \" + str(score))\n",
    "test_results_optimizers[arch_name] = score"
   ]
  },
  {
   "cell_type": "code",
   "execution_count": 84,
   "metadata": {},
   "outputs": [
    {
     "data": {
      "text/plain": [
       "relu-3layers-100nodes-batch1000-randomuniform-sgd        0.813446\n",
       "relu-3layers-100nodes-batch1000-randomuniform-rmsprop    0.808229\n",
       "relu-3layers-100nodes-batch1000-randomuniform-adagrad    0.792507\n",
       "relu-3layers-100nodes-batch1000-randomuniform-adam       0.500000\n",
       "dtype: float64"
      ]
     },
     "execution_count": 84,
     "metadata": {},
     "output_type": "execute_result"
    }
   ],
   "source": [
    "testSeries = pd.Series(test_results_optimizers)\n",
    "testSeries.sort_values(ascending=False, inplace=True)\n",
    "testSeries"
   ]
  },
  {
   "cell_type": "markdown",
   "metadata": {},
   "source": [
    "### 6.\tTake all that you’ve learned so far and give your best shot at producing a score. "
   ]
  },
  {
   "cell_type": "markdown",
   "metadata": {},
   "source": [
    "#### After experimenting with various parameters, we have achieved best peformance with ReLU activation function for 3 hidden layers with 100 neurons each, with a batch size of 1000, SGD optimizer and random_uniform kernel initializer. We will now experiment changing some of these key parameters and find out if there will be further improvement in the model performance."
   ]
  },
  {
   "cell_type": "code",
   "execution_count": 85,
   "metadata": {},
   "outputs": [
    {
     "name": "stdout",
     "output_type": "stream",
     "text": [
      "Epoch 1/20\n",
      "1100000/1100000 [==============================] - 23s 21us/step - loss: 0.6116 - acc: 0.6545\n",
      "Epoch 2/20\n",
      "1100000/1100000 [==============================] - 19s 18us/step - loss: 0.5627 - acc: 0.7058\n",
      "Epoch 3/20\n",
      "1100000/1100000 [==============================] - 20s 18us/step - loss: 0.5478 - acc: 0.7178\n",
      "Epoch 4/20\n",
      "1100000/1100000 [==============================] - 20s 18us/step - loss: 0.5365 - acc: 0.7261\n",
      "Epoch 5/20\n",
      "1100000/1100000 [==============================] - 21s 19us/step - loss: 0.5289 - acc: 0.7317\n",
      "Epoch 6/20\n",
      "1100000/1100000 [==============================] - 21s 19us/step - loss: 0.5239 - acc: 0.7352\n",
      "Epoch 7/20\n",
      "1100000/1100000 [==============================] - 20s 18us/step - loss: 0.5200 - acc: 0.7375\n",
      "Epoch 8/20\n",
      "1100000/1100000 [==============================] - 20s 19us/step - loss: 0.5170 - acc: 0.7397\n",
      "Epoch 9/20\n",
      "1100000/1100000 [==============================] - 20s 18us/step - loss: 0.5149 - acc: 0.7412\n",
      "Epoch 10/20\n",
      "1100000/1100000 [==============================] - 20s 19us/step - loss: 0.5124 - acc: 0.7429\n",
      "Epoch 11/20\n",
      "1100000/1100000 [==============================] - 21s 19us/step - loss: 0.5106 - acc: 0.7443\n",
      "Epoch 12/20\n",
      "1100000/1100000 [==============================] - 21s 19us/step - loss: 0.5087 - acc: 0.7452\n",
      "Epoch 13/20\n",
      "1100000/1100000 [==============================] - 20s 18us/step - loss: 0.5074 - acc: 0.7461\n",
      "Epoch 14/20\n",
      "1100000/1100000 [==============================] - 21s 19us/step - loss: 0.5062 - acc: 0.7468\n",
      "Epoch 15/20\n",
      "1100000/1100000 [==============================] - 20s 18us/step - loss: 0.5052 - acc: 0.7478\n",
      "Epoch 16/20\n",
      "1100000/1100000 [==============================] - 21s 19us/step - loss: 0.5039 - acc: 0.7489\n",
      "Epoch 17/20\n",
      "1100000/1100000 [==============================] - 21s 19us/step - loss: 0.5029 - acc: 0.7491\n",
      "Epoch 18/20\n",
      "1100000/1100000 [==============================] - 22s 20us/step - loss: 0.5022 - acc: 0.7495\n",
      "Epoch 19/20\n",
      "1100000/1100000 [==============================] - 21s 19us/step - loss: 0.5012 - acc: 0.7503\n",
      "Epoch 20/20\n",
      "1100000/1100000 [==============================] - 21s 19us/step - loss: 0.5005 - acc: 0.7507\n",
      "\n",
      "ROC AUC Score for relu-3layers-100nodes-batch1000-randomuniform-sgd-THE BEST is: 0.84338237923623\n"
     ]
    }
   ],
   "source": [
    "arch_name = \"relu-3layers-100nodes-batch1000-randomuniform-sgd-THE BEST\"\n",
    "model = Sequential()\n",
    "\n",
    "#hidden layer 1: 200 nodes\n",
    "model.add(Dense(200, input_dim=x.shape[1], kernel_initializer='random_uniform'))\n",
    "model.add(Activation('relu'))\n",
    "model.add(Dropout(0.10))\n",
    "\n",
    "#hidden layer 2: 200 nodes\n",
    "model.add(Dense(200, input_dim=x.shape[1], kernel_initializer='random_uniform'))\n",
    "model.add(Activation('relu'))\n",
    "model.add(Dropout(0.10))\n",
    "\n",
    "#hidden layer 3: 200 nodes\n",
    "model.add(Dense(200, input_dim=x.shape[1], kernel_initializer='random_uniform'))\n",
    "model.add(Activation('relu'))\n",
    "model.add(Dropout(0.10))\n",
    "\n",
    "#hidden layer 4: 200 nodes\n",
    "model.add(Dense(200, input_dim=x.shape[1], kernel_initializer='random_uniform'))\n",
    "model.add(Activation('relu'))\n",
    "model.add(Dropout(0.10))\n",
    "\n",
    "#output layer: 1 node\n",
    "model.add(Dense(1, kernel_initializer='uniform'))\n",
    "model.add(Activation('sigmoid'))\n",
    "\n",
    "#optimizer\n",
    "sgd = SGD(lr=0.15, decay=1e-8, momentum=0.95, nesterov=True)\n",
    "\n",
    "#compile\n",
    "model.compile(loss='binary_crossentropy', metrics=['accuracy'], optimizer=sgd)\n",
    "model.fit(x, y, epochs=20, batch_size=1000)\n",
    "\n",
    "score = roc_auc_score(y_test,model.predict(x_test))\n",
    "\n",
    "print(\"\")\n",
    "print(\"ROC AUC Score for \" + arch_name + \" is: \" + str(score))\n",
    "# test_results_optimizers[arch_name] = score"
   ]
  },
  {
   "cell_type": "markdown",
   "metadata": {},
   "source": [
    "### 10 points - Q1: What was the effect of adding more layers/neurons. "
   ]
  },
  {
   "cell_type": "markdown",
   "metadata": {},
   "source": [
    "During this exercise, we have gamed with our best model by adjusting layers and neurons. We have tested the model with 100 and 200 neurons in each of the layers, and also tested with 3, 4 and 5 hidden layers. We found that adding additional neurons to the layers increased the ROC AUC Score by about 2% (from ~0.8127 to ~0.8267), and additional 1% increase by adding 4th layer (from ~0.8267 to ~0.83) - with number of epochs at 10. However, the score slighly decreased by adding 5th layer. We reran our final model with 20 epochs and achieved the score of 0.8433. We conclude 4 layers with 200 neurons each yielded best results with all other parameters unchanged."
   ]
  },
  {
   "cell_type": "markdown",
   "metadata": {},
   "source": [
    "### 10 points - Q2: Which parameters gave you the best result and why (in your opinion) did they work."
   ]
  },
  {
   "cell_type": "markdown",
   "metadata": {},
   "source": [
    "We have achieved the best results with following key parameters:\n",
    "\n",
    "**Activation function for Hidden Layers:** ReLU. \n",
    " The ReLu function is defined as A(x) = max(0,x). It gives an output x if x is positive and 0 otherwise. ReLu is less computationally expensive than tanh and sigmoid because it involves simpler mathematical operations. That is a good point to consider when we are designing deep neural nets [2].\n",
    "\n",
    "**Kernel Initializer:** random_uniform. Initializer that generates tensors with a uniform distribution.\n",
    "\n",
    "**Optimizer:** SGD (with learning rate=0.15; decay=1e-8, momentum=0.95) (we have increased learning rate from 0.1 to 0.15, decreased decay from 1e-6 to 1e-8 and increased momentum from 0.9 to 0.95 compared to the base model)\n",
    "\n",
    "**Number of Epochs:** We started the base model with 5 epochs, and gradually increased to 10 and 20. We have observed that the score significantly increased as we increase the epochs.\n",
    "\n",
    "**Batch size:** We tested the batch sizes of 100, 1000, 10000 and 100000. We have observed the best scores with the batch size at 1000.\n",
    "\n",
    "In our opinion, Rectified Linear Units (ReLU) activation function is appropriate for the dataset as it non-linear and is computationally less expensive from other functions considering binary classification of the problem; Random_Uniform aids at removing bias while uniformly distributing initial weights; and Stochastic Gradient Descent (SGD) does batch processing that performs redundant computations for large datasets, as it recomputes gradients for similar examples before each parameter update. SGD does away with this redundancy by performing one update at a time."
   ]
  },
  {
   "cell_type": "markdown",
   "metadata": {},
   "source": [
    "### 20 points - Q3: For #6, how did you decide that your model was ‘done’"
   ]
  },
  {
   "cell_type": "markdown",
   "metadata": {},
   "source": [
    "We have started our base model with 'sigmoid' activation function with 'uniform' Kernel Initializer, 'SGD' Optimizer with 1 hidden layer, with 5 epochs and a batch size of 1000. We have used ROC AUC score as our metric to measure the performance of the model. When we gamed changing these parameters, we have observed the ROC AUC score ranging from 0.5 to 0.7 with our base model. We continued to tune the paramerts as decribed in the previous sections, we have certainly improved the model performance significantly with our BEST model (activation funtion: ReLU, Optimizer: SGG, Kernal Initializer: random_uniform, epochs:20, batch size:1000) with ROC AUC score of 0.8428. The improvement of the scores can still be possible with further tuning of number of epochs, batch size and other parameters we did not test. We conclude the exercise given the time and resource constraints, and achieved satisfactory results, and we call it done."
   ]
  },
  {
   "cell_type": "markdown",
   "metadata": {},
   "source": [
    "### References"
   ]
  },
  {
   "cell_type": "markdown",
   "metadata": {},
   "source": [
    "[1] Higgs Boson Experiment (Wikipedia) https://en.wikipedia.org/wiki/Higgs_boson\n",
    "\n",
    "[2] https://medium.com/the-theory-of-everything/understanding-activation-functions-in-neural-networks-9491262884e0\n",
    "\n",
    "[3] Prof Slater's sample code and presentations"
   ]
  },
  {
   "cell_type": "markdown",
   "metadata": {},
   "source": [
    "** Thank you **"
   ]
  }
 ],
 "metadata": {
  "kernelspec": {
   "display_name": "Python 3",
   "language": "python",
   "name": "python3"
  },
  "language_info": {
   "codemirror_mode": {
    "name": "ipython",
    "version": 3
   },
   "file_extension": ".py",
   "mimetype": "text/x-python",
   "name": "python",
   "nbconvert_exporter": "python",
   "pygments_lexer": "ipython3",
   "version": "3.6.3"
  }
 },
 "nbformat": 4,
 "nbformat_minor": 2
}
