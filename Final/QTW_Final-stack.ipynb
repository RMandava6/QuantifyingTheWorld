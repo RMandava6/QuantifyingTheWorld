{
 "cells": [
  {
   "cell_type": "code",
   "execution_count": 1,
   "metadata": {},
   "outputs": [],
   "source": [
    "import pandas as pd\n",
    "import numpy as np\n",
    "from sklearn.ensemble import RandomForestClassifier\n",
    "from sklearn.metrics import roc_auc_score\n",
    "from sklearn.model_selection import KFold\n",
    "from sklearn.linear_model import LogisticRegression"
   ]
  },
  {
   "cell_type": "code",
   "execution_count": 19,
   "metadata": {},
   "outputs": [],
   "source": [
    "train=pd.read_csv(\"C:/Nithya/MSDS/Term5/QTW/CaseStudies/Final/final_project.csv\",nrows=128000,header=0) # 160001"
   ]
  },
  {
   "cell_type": "code",
   "execution_count": 20,
   "metadata": {},
   "outputs": [],
   "source": [
    "test=pd.read_csv(\"C:/Nithya/MSDS/Term5/QTW/CaseStudies/Final/final_project.csv\",nrows=32000,skiprows=128000,header=0)"
   ]
  },
  {
   "cell_type": "code",
   "execution_count": 23,
   "metadata": {},
   "outputs": [],
   "source": [
    "data =pd.read_csv(\"C:/Nithya/MSDS/Term5/QTW/CaseStudies/Final/final_project.csv\",header=0) # 160001"
   ]
  },
  {
   "cell_type": "code",
   "execution_count": 33,
   "metadata": {},
   "outputs": [
    {
     "data": {
      "text/html": [
       "<div>\n",
       "<style scoped>\n",
       "    .dataframe tbody tr th:only-of-type {\n",
       "        vertical-align: middle;\n",
       "    }\n",
       "\n",
       "    .dataframe tbody tr th {\n",
       "        vertical-align: top;\n",
       "    }\n",
       "\n",
       "    .dataframe thead th {\n",
       "        text-align: right;\n",
       "    }\n",
       "</style>\n",
       "<table border=\"1\" class=\"dataframe\">\n",
       "  <thead>\n",
       "    <tr style=\"text-align: right;\">\n",
       "      <th></th>\n",
       "      <th>x0</th>\n",
       "      <th>x1</th>\n",
       "      <th>x2</th>\n",
       "      <th>x3</th>\n",
       "      <th>x4</th>\n",
       "      <th>x5</th>\n",
       "      <th>x6</th>\n",
       "      <th>x7</th>\n",
       "      <th>x8</th>\n",
       "      <th>x9</th>\n",
       "      <th>...</th>\n",
       "      <th>x41</th>\n",
       "      <th>x42</th>\n",
       "      <th>x43</th>\n",
       "      <th>x44</th>\n",
       "      <th>x45</th>\n",
       "      <th>x46</th>\n",
       "      <th>x47</th>\n",
       "      <th>x48</th>\n",
       "      <th>x49</th>\n",
       "      <th>y</th>\n",
       "    </tr>\n",
       "  </thead>\n",
       "  <tbody>\n",
       "    <tr>\n",
       "      <th>0</th>\n",
       "      <td>-0.166563</td>\n",
       "      <td>-3.961588</td>\n",
       "      <td>4.621113</td>\n",
       "      <td>2.481908</td>\n",
       "      <td>-1.800135</td>\n",
       "      <td>0.804684</td>\n",
       "      <td>6.718751</td>\n",
       "      <td>-14.789997</td>\n",
       "      <td>-1.040673</td>\n",
       "      <td>-4.204950</td>\n",
       "      <td>...</td>\n",
       "      <td>-1.497117</td>\n",
       "      <td>5.414063</td>\n",
       "      <td>-2.325655</td>\n",
       "      <td>1.674827</td>\n",
       "      <td>-0.264332</td>\n",
       "      <td>60.781427</td>\n",
       "      <td>-7.689696</td>\n",
       "      <td>0.151589</td>\n",
       "      <td>-8.040166</td>\n",
       "      <td>0</td>\n",
       "    </tr>\n",
       "    <tr>\n",
       "      <th>1</th>\n",
       "      <td>-0.149894</td>\n",
       "      <td>-0.585676</td>\n",
       "      <td>27.839856</td>\n",
       "      <td>4.152333</td>\n",
       "      <td>6.426802</td>\n",
       "      <td>-2.426943</td>\n",
       "      <td>40.477058</td>\n",
       "      <td>-6.725709</td>\n",
       "      <td>0.896421</td>\n",
       "      <td>0.330165</td>\n",
       "      <td>...</td>\n",
       "      <td>36.292790</td>\n",
       "      <td>4.490915</td>\n",
       "      <td>0.762561</td>\n",
       "      <td>6.526662</td>\n",
       "      <td>1.007927</td>\n",
       "      <td>15.805696</td>\n",
       "      <td>-4.896678</td>\n",
       "      <td>-0.320283</td>\n",
       "      <td>16.719974</td>\n",
       "      <td>0</td>\n",
       "    </tr>\n",
       "    <tr>\n",
       "      <th>2</th>\n",
       "      <td>-0.321707</td>\n",
       "      <td>-1.429819</td>\n",
       "      <td>12.251561</td>\n",
       "      <td>6.586874</td>\n",
       "      <td>-5.304647</td>\n",
       "      <td>-11.311090</td>\n",
       "      <td>17.812850</td>\n",
       "      <td>11.060572</td>\n",
       "      <td>5.325880</td>\n",
       "      <td>-2.632984</td>\n",
       "      <td>...</td>\n",
       "      <td>-0.368491</td>\n",
       "      <td>9.088864</td>\n",
       "      <td>-0.689886</td>\n",
       "      <td>-2.731118</td>\n",
       "      <td>0.754200</td>\n",
       "      <td>30.856417</td>\n",
       "      <td>-7.428573</td>\n",
       "      <td>-2.090804</td>\n",
       "      <td>-7.869421</td>\n",
       "      <td>0</td>\n",
       "    </tr>\n",
       "    <tr>\n",
       "      <th>3</th>\n",
       "      <td>-0.245594</td>\n",
       "      <td>5.076677</td>\n",
       "      <td>-24.149632</td>\n",
       "      <td>3.637307</td>\n",
       "      <td>6.505811</td>\n",
       "      <td>2.290224</td>\n",
       "      <td>-35.111751</td>\n",
       "      <td>-18.913592</td>\n",
       "      <td>-0.337041</td>\n",
       "      <td>-5.568076</td>\n",
       "      <td>...</td>\n",
       "      <td>15.691546</td>\n",
       "      <td>-7.467775</td>\n",
       "      <td>2.940789</td>\n",
       "      <td>-6.424112</td>\n",
       "      <td>0.419776</td>\n",
       "      <td>-72.424569</td>\n",
       "      <td>5.361375</td>\n",
       "      <td>1.806070</td>\n",
       "      <td>-7.670847</td>\n",
       "      <td>0</td>\n",
       "    </tr>\n",
       "    <tr>\n",
       "      <th>4</th>\n",
       "      <td>-0.273366</td>\n",
       "      <td>0.306326</td>\n",
       "      <td>-11.352593</td>\n",
       "      <td>1.676758</td>\n",
       "      <td>2.928441</td>\n",
       "      <td>-0.616824</td>\n",
       "      <td>-16.505817</td>\n",
       "      <td>27.532281</td>\n",
       "      <td>1.199715</td>\n",
       "      <td>-4.309105</td>\n",
       "      <td>...</td>\n",
       "      <td>-13.911297</td>\n",
       "      <td>-5.229937</td>\n",
       "      <td>1.783928</td>\n",
       "      <td>3.957801</td>\n",
       "      <td>-0.096988</td>\n",
       "      <td>-14.085435</td>\n",
       "      <td>-0.208351</td>\n",
       "      <td>-0.894942</td>\n",
       "      <td>15.724742</td>\n",
       "      <td>1</td>\n",
       "    </tr>\n",
       "  </tbody>\n",
       "</table>\n",
       "<p>5 rows × 51 columns</p>\n",
       "</div>"
      ],
      "text/plain": [
       "         x0        x1         x2        x3        x4         x5         x6  \\\n",
       "0 -0.166563 -3.961588   4.621113  2.481908 -1.800135   0.804684   6.718751   \n",
       "1 -0.149894 -0.585676  27.839856  4.152333  6.426802  -2.426943  40.477058   \n",
       "2 -0.321707 -1.429819  12.251561  6.586874 -5.304647 -11.311090  17.812850   \n",
       "3 -0.245594  5.076677 -24.149632  3.637307  6.505811   2.290224 -35.111751   \n",
       "4 -0.273366  0.306326 -11.352593  1.676758  2.928441  -0.616824 -16.505817   \n",
       "\n",
       "          x7        x8        x9 ...        x41       x42       x43       x44  \\\n",
       "0 -14.789997 -1.040673 -4.204950 ...  -1.497117  5.414063 -2.325655  1.674827   \n",
       "1  -6.725709  0.896421  0.330165 ...  36.292790  4.490915  0.762561  6.526662   \n",
       "2  11.060572  5.325880 -2.632984 ...  -0.368491  9.088864 -0.689886 -2.731118   \n",
       "3 -18.913592 -0.337041 -5.568076 ...  15.691546 -7.467775  2.940789 -6.424112   \n",
       "4  27.532281  1.199715 -4.309105 ... -13.911297 -5.229937  1.783928  3.957801   \n",
       "\n",
       "        x45        x46       x47       x48        x49  y  \n",
       "0 -0.264332  60.781427 -7.689696  0.151589  -8.040166  0  \n",
       "1  1.007927  15.805696 -4.896678 -0.320283  16.719974  0  \n",
       "2  0.754200  30.856417 -7.428573 -2.090804  -7.869421  0  \n",
       "3  0.419776 -72.424569  5.361375  1.806070  -7.670847  0  \n",
       "4 -0.096988 -14.085435 -0.208351 -0.894942  15.724742  1  \n",
       "\n",
       "[5 rows x 51 columns]"
      ]
     },
     "execution_count": 33,
     "metadata": {},
     "output_type": "execute_result"
    }
   ],
   "source": [
    "data.head()"
   ]
  },
  {
   "cell_type": "code",
   "execution_count": 35,
   "metadata": {},
   "outputs": [],
   "source": [
    "X = data.drop(['y'],axis=1)"
   ]
  },
  {
   "cell_type": "code",
   "execution_count": 42,
   "metadata": {},
   "outputs": [
    {
     "data": {
      "text/plain": [
       "(160000, 50)"
      ]
     },
     "execution_count": 42,
     "metadata": {},
     "output_type": "execute_result"
    }
   ],
   "source": [
    "X.head()\n",
    "X.shape"
   ]
  },
  {
   "cell_type": "code",
   "execution_count": 43,
   "metadata": {},
   "outputs": [
    {
     "name": "stdout",
     "output_type": "stream",
     "text": [
      "The Feature list is:  Index(['x0', 'x1', 'x2', 'x3', 'x4', 'x5', 'x6', 'x7', 'x8', 'x9', 'x10',\n",
      "       'x11', 'x12', 'x13', 'x14', 'x15', 'x16', 'x17', 'x18', 'x19', 'x20',\n",
      "       'x21', 'x22', 'x23', 'x24', 'x25', 'x26', 'x27', 'x28', 'x29', 'x30',\n",
      "       'x31', 'x32', 'x33', 'x34', 'x35', 'x36', 'x37', 'x38', 'x39', 'x40',\n",
      "       'x41', 'x42', 'x43', 'x44', 'x45', 'x46', 'x47', 'x48', 'x49', 'y'],\n",
      "      dtype='object')\n"
     ]
    }
   ],
   "source": [
    "Y = data['y']\n",
    "Y.shape\n",
    "print(\"The Feature list is: \", data.columns) "
   ]
  },
  {
   "cell_type": "code",
   "execution_count": 45,
   "metadata": {},
   "outputs": [
    {
     "name": "stdout",
     "output_type": "stream",
     "text": [
      "<class 'pandas.core.frame.DataFrame'>\n",
      "RangeIndex: 160000 entries, 0 to 159999\n",
      "Data columns (total 51 columns):\n",
      "x0     159974 non-null float64\n",
      "x1     159975 non-null float64\n",
      "x2     159962 non-null float64\n",
      "x3     159963 non-null float64\n",
      "x4     159974 non-null float64\n",
      "x5     159963 non-null float64\n",
      "x6     159974 non-null float64\n",
      "x7     159973 non-null float64\n",
      "x8     159979 non-null float64\n",
      "x9     159970 non-null float64\n",
      "x10    159957 non-null float64\n",
      "x11    159970 non-null float64\n",
      "x12    159964 non-null float64\n",
      "x13    159969 non-null float64\n",
      "x14    159966 non-null float64\n",
      "x15    159965 non-null float64\n",
      "x16    159974 non-null float64\n",
      "x17    159973 non-null float64\n",
      "x18    159960 non-null float64\n",
      "x19    159965 non-null float64\n",
      "x20    159962 non-null float64\n",
      "x21    159971 non-null float64\n",
      "x22    159973 non-null float64\n",
      "x23    159953 non-null float64\n",
      "x24    159972 non-null object\n",
      "x25    159978 non-null float64\n",
      "x26    159964 non-null float64\n",
      "x27    159970 non-null float64\n",
      "x28    159965 non-null float64\n",
      "x29    159970 non-null object\n",
      "x30    159970 non-null object\n",
      "x31    159961 non-null float64\n",
      "x32    159969 non-null object\n",
      "x33    159959 non-null float64\n",
      "x34    159959 non-null float64\n",
      "x35    159970 non-null float64\n",
      "x36    159973 non-null float64\n",
      "x37    159977 non-null object\n",
      "x38    159969 non-null float64\n",
      "x39    159977 non-null float64\n",
      "x40    159964 non-null float64\n",
      "x41    159960 non-null float64\n",
      "x42    159974 non-null float64\n",
      "x43    159963 non-null float64\n",
      "x44    159960 non-null float64\n",
      "x45    159971 non-null float64\n",
      "x46    159969 non-null float64\n",
      "x47    159963 non-null float64\n",
      "x48    159968 non-null float64\n",
      "x49    159968 non-null float64\n",
      "y      160000 non-null int64\n",
      "dtypes: float64(45), int64(1), object(5)\n",
      "memory usage: 62.3+ MB\n"
     ]
    },
    {
     "data": {
      "text/html": [
       "<div>\n",
       "<style scoped>\n",
       "    .dataframe tbody tr th:only-of-type {\n",
       "        vertical-align: middle;\n",
       "    }\n",
       "\n",
       "    .dataframe tbody tr th {\n",
       "        vertical-align: top;\n",
       "    }\n",
       "\n",
       "    .dataframe thead th {\n",
       "        text-align: right;\n",
       "    }\n",
       "</style>\n",
       "<table border=\"1\" class=\"dataframe\">\n",
       "  <thead>\n",
       "    <tr style=\"text-align: right;\">\n",
       "      <th></th>\n",
       "      <th>x0</th>\n",
       "      <th>x1</th>\n",
       "      <th>x2</th>\n",
       "      <th>x3</th>\n",
       "      <th>x4</th>\n",
       "      <th>x5</th>\n",
       "      <th>x6</th>\n",
       "      <th>x7</th>\n",
       "      <th>x8</th>\n",
       "      <th>x9</th>\n",
       "      <th>...</th>\n",
       "      <th>x41</th>\n",
       "      <th>x42</th>\n",
       "      <th>x43</th>\n",
       "      <th>x44</th>\n",
       "      <th>x45</th>\n",
       "      <th>x46</th>\n",
       "      <th>x47</th>\n",
       "      <th>x48</th>\n",
       "      <th>x49</th>\n",
       "      <th>y</th>\n",
       "    </tr>\n",
       "  </thead>\n",
       "  <tbody>\n",
       "    <tr>\n",
       "      <th>count</th>\n",
       "      <td>159974.000000</td>\n",
       "      <td>159975.000000</td>\n",
       "      <td>159962.000000</td>\n",
       "      <td>159963.000000</td>\n",
       "      <td>159974.000000</td>\n",
       "      <td>159963.000000</td>\n",
       "      <td>159974.000000</td>\n",
       "      <td>159973.000000</td>\n",
       "      <td>159979.000000</td>\n",
       "      <td>159970.000000</td>\n",
       "      <td>...</td>\n",
       "      <td>159960.000000</td>\n",
       "      <td>159974.000000</td>\n",
       "      <td>159963.000000</td>\n",
       "      <td>159960.000000</td>\n",
       "      <td>159971.000000</td>\n",
       "      <td>159969.000000</td>\n",
       "      <td>159963.000000</td>\n",
       "      <td>159968.000000</td>\n",
       "      <td>159968.000000</td>\n",
       "      <td>160000.000000</td>\n",
       "    </tr>\n",
       "    <tr>\n",
       "      <th>mean</th>\n",
       "      <td>-0.001028</td>\n",
       "      <td>0.001358</td>\n",
       "      <td>-1.150145</td>\n",
       "      <td>-0.024637</td>\n",
       "      <td>-0.000549</td>\n",
       "      <td>0.013582</td>\n",
       "      <td>-1.670670</td>\n",
       "      <td>-7.692795</td>\n",
       "      <td>-0.030540</td>\n",
       "      <td>0.005462</td>\n",
       "      <td>...</td>\n",
       "      <td>6.701076</td>\n",
       "      <td>-1.833820</td>\n",
       "      <td>-0.002091</td>\n",
       "      <td>-0.006250</td>\n",
       "      <td>0.000885</td>\n",
       "      <td>-12.755395</td>\n",
       "      <td>0.028622</td>\n",
       "      <td>-0.000224</td>\n",
       "      <td>-0.674224</td>\n",
       "      <td>0.401231</td>\n",
       "    </tr>\n",
       "    <tr>\n",
       "      <th>std</th>\n",
       "      <td>0.371137</td>\n",
       "      <td>6.340632</td>\n",
       "      <td>13.273480</td>\n",
       "      <td>8.065032</td>\n",
       "      <td>6.382293</td>\n",
       "      <td>7.670076</td>\n",
       "      <td>19.298665</td>\n",
       "      <td>30.542264</td>\n",
       "      <td>8.901185</td>\n",
       "      <td>6.355040</td>\n",
       "      <td>...</td>\n",
       "      <td>18.680196</td>\n",
       "      <td>5.110705</td>\n",
       "      <td>1.534952</td>\n",
       "      <td>4.164595</td>\n",
       "      <td>0.396621</td>\n",
       "      <td>36.608641</td>\n",
       "      <td>4.788157</td>\n",
       "      <td>1.935501</td>\n",
       "      <td>15.036738</td>\n",
       "      <td>0.490149</td>\n",
       "    </tr>\n",
       "    <tr>\n",
       "      <th>min</th>\n",
       "      <td>-1.592635</td>\n",
       "      <td>-26.278302</td>\n",
       "      <td>-59.394048</td>\n",
       "      <td>-35.476594</td>\n",
       "      <td>-28.467536</td>\n",
       "      <td>-33.822988</td>\n",
       "      <td>-86.354483</td>\n",
       "      <td>-181.506976</td>\n",
       "      <td>-37.691045</td>\n",
       "      <td>-27.980659</td>\n",
       "      <td>...</td>\n",
       "      <td>-82.167224</td>\n",
       "      <td>-27.933750</td>\n",
       "      <td>-6.876234</td>\n",
       "      <td>-17.983487</td>\n",
       "      <td>-1.753221</td>\n",
       "      <td>-201.826828</td>\n",
       "      <td>-21.086333</td>\n",
       "      <td>-8.490155</td>\n",
       "      <td>-65.791191</td>\n",
       "      <td>0.000000</td>\n",
       "    </tr>\n",
       "    <tr>\n",
       "      <th>25%</th>\n",
       "      <td>-0.251641</td>\n",
       "      <td>-4.260973</td>\n",
       "      <td>-10.166536</td>\n",
       "      <td>-5.454438</td>\n",
       "      <td>-4.313118</td>\n",
       "      <td>-5.148130</td>\n",
       "      <td>-14.780146</td>\n",
       "      <td>-27.324771</td>\n",
       "      <td>-6.031058</td>\n",
       "      <td>-4.260619</td>\n",
       "      <td>...</td>\n",
       "      <td>-5.804080</td>\n",
       "      <td>-5.162869</td>\n",
       "      <td>-1.039677</td>\n",
       "      <td>-2.812055</td>\n",
       "      <td>-0.266518</td>\n",
       "      <td>-36.428329</td>\n",
       "      <td>-3.216016</td>\n",
       "      <td>-1.320800</td>\n",
       "      <td>-10.931753</td>\n",
       "      <td>0.000000</td>\n",
       "    </tr>\n",
       "    <tr>\n",
       "      <th>50%</th>\n",
       "      <td>-0.002047</td>\n",
       "      <td>0.004813</td>\n",
       "      <td>-1.340932</td>\n",
       "      <td>-0.031408</td>\n",
       "      <td>0.000857</td>\n",
       "      <td>0.014118</td>\n",
       "      <td>-1.948594</td>\n",
       "      <td>-6.956789</td>\n",
       "      <td>-0.016840</td>\n",
       "      <td>0.006045</td>\n",
       "      <td>...</td>\n",
       "      <td>6.840110</td>\n",
       "      <td>-1.923754</td>\n",
       "      <td>-0.004385</td>\n",
       "      <td>-0.010484</td>\n",
       "      <td>0.001645</td>\n",
       "      <td>-12.982497</td>\n",
       "      <td>0.035865</td>\n",
       "      <td>-0.011993</td>\n",
       "      <td>-0.574410</td>\n",
       "      <td>0.000000</td>\n",
       "    </tr>\n",
       "    <tr>\n",
       "      <th>75%</th>\n",
       "      <td>0.248532</td>\n",
       "      <td>4.284220</td>\n",
       "      <td>7.871676</td>\n",
       "      <td>5.445179</td>\n",
       "      <td>4.306660</td>\n",
       "      <td>5.190749</td>\n",
       "      <td>11.446931</td>\n",
       "      <td>12.217071</td>\n",
       "      <td>5.972349</td>\n",
       "      <td>4.305734</td>\n",
       "      <td>...</td>\n",
       "      <td>19.266367</td>\n",
       "      <td>1.453507</td>\n",
       "      <td>1.033275</td>\n",
       "      <td>2.783274</td>\n",
       "      <td>0.269049</td>\n",
       "      <td>11.445443</td>\n",
       "      <td>3.268028</td>\n",
       "      <td>1.317703</td>\n",
       "      <td>9.651072</td>\n",
       "      <td>1.000000</td>\n",
       "    </tr>\n",
       "    <tr>\n",
       "      <th>max</th>\n",
       "      <td>1.600849</td>\n",
       "      <td>27.988178</td>\n",
       "      <td>63.545653</td>\n",
       "      <td>38.906025</td>\n",
       "      <td>26.247812</td>\n",
       "      <td>35.550110</td>\n",
       "      <td>92.390605</td>\n",
       "      <td>149.150634</td>\n",
       "      <td>39.049831</td>\n",
       "      <td>27.377842</td>\n",
       "      <td>...</td>\n",
       "      <td>100.050432</td>\n",
       "      <td>22.668041</td>\n",
       "      <td>6.680922</td>\n",
       "      <td>19.069759</td>\n",
       "      <td>1.669205</td>\n",
       "      <td>150.859415</td>\n",
       "      <td>20.836854</td>\n",
       "      <td>8.226552</td>\n",
       "      <td>66.877604</td>\n",
       "      <td>1.000000</td>\n",
       "    </tr>\n",
       "  </tbody>\n",
       "</table>\n",
       "<p>8 rows × 46 columns</p>\n",
       "</div>"
      ],
      "text/plain": [
       "                  x0             x1             x2             x3  \\\n",
       "count  159974.000000  159975.000000  159962.000000  159963.000000   \n",
       "mean       -0.001028       0.001358      -1.150145      -0.024637   \n",
       "std         0.371137       6.340632      13.273480       8.065032   \n",
       "min        -1.592635     -26.278302     -59.394048     -35.476594   \n",
       "25%        -0.251641      -4.260973     -10.166536      -5.454438   \n",
       "50%        -0.002047       0.004813      -1.340932      -0.031408   \n",
       "75%         0.248532       4.284220       7.871676       5.445179   \n",
       "max         1.600849      27.988178      63.545653      38.906025   \n",
       "\n",
       "                  x4             x5             x6             x7  \\\n",
       "count  159974.000000  159963.000000  159974.000000  159973.000000   \n",
       "mean       -0.000549       0.013582      -1.670670      -7.692795   \n",
       "std         6.382293       7.670076      19.298665      30.542264   \n",
       "min       -28.467536     -33.822988     -86.354483    -181.506976   \n",
       "25%        -4.313118      -5.148130     -14.780146     -27.324771   \n",
       "50%         0.000857       0.014118      -1.948594      -6.956789   \n",
       "75%         4.306660       5.190749      11.446931      12.217071   \n",
       "max        26.247812      35.550110      92.390605     149.150634   \n",
       "\n",
       "                  x8             x9      ...                  x41  \\\n",
       "count  159979.000000  159970.000000      ...        159960.000000   \n",
       "mean       -0.030540       0.005462      ...             6.701076   \n",
       "std         8.901185       6.355040      ...            18.680196   \n",
       "min       -37.691045     -27.980659      ...           -82.167224   \n",
       "25%        -6.031058      -4.260619      ...            -5.804080   \n",
       "50%        -0.016840       0.006045      ...             6.840110   \n",
       "75%         5.972349       4.305734      ...            19.266367   \n",
       "max        39.049831      27.377842      ...           100.050432   \n",
       "\n",
       "                 x42            x43            x44            x45  \\\n",
       "count  159974.000000  159963.000000  159960.000000  159971.000000   \n",
       "mean       -1.833820      -0.002091      -0.006250       0.000885   \n",
       "std         5.110705       1.534952       4.164595       0.396621   \n",
       "min       -27.933750      -6.876234     -17.983487      -1.753221   \n",
       "25%        -5.162869      -1.039677      -2.812055      -0.266518   \n",
       "50%        -1.923754      -0.004385      -0.010484       0.001645   \n",
       "75%         1.453507       1.033275       2.783274       0.269049   \n",
       "max        22.668041       6.680922      19.069759       1.669205   \n",
       "\n",
       "                 x46            x47            x48            x49  \\\n",
       "count  159969.000000  159963.000000  159968.000000  159968.000000   \n",
       "mean      -12.755395       0.028622      -0.000224      -0.674224   \n",
       "std        36.608641       4.788157       1.935501      15.036738   \n",
       "min      -201.826828     -21.086333      -8.490155     -65.791191   \n",
       "25%       -36.428329      -3.216016      -1.320800     -10.931753   \n",
       "50%       -12.982497       0.035865      -0.011993      -0.574410   \n",
       "75%        11.445443       3.268028       1.317703       9.651072   \n",
       "max       150.859415      20.836854       8.226552      66.877604   \n",
       "\n",
       "                   y  \n",
       "count  160000.000000  \n",
       "mean        0.401231  \n",
       "std         0.490149  \n",
       "min         0.000000  \n",
       "25%         0.000000  \n",
       "50%         0.000000  \n",
       "75%         1.000000  \n",
       "max         1.000000  \n",
       "\n",
       "[8 rows x 46 columns]"
      ]
     },
     "execution_count": 45,
     "metadata": {},
     "output_type": "execute_result"
    }
   ],
   "source": [
    "data.info()\n",
    "data.describe()"
   ]
  },
  {
   "cell_type": "code",
   "execution_count": 125,
   "metadata": {},
   "outputs": [],
   "source": [
    "df = data"
   ]
  },
  {
   "cell_type": "code",
   "execution_count": 50,
   "metadata": {},
   "outputs": [
    {
     "data": {
      "text/plain": [
       "Index(['x0', 'x1', 'x2', 'x3', 'x4', 'x5', 'x6', 'x7', 'x8', 'x9', 'x10',\n",
       "       'x11', 'x12', 'x13', 'x14', 'x15', 'x16', 'x17', 'x18', 'x19', 'x20',\n",
       "       'x21', 'x22', 'x23', 'x24', 'x25', 'x26', 'x27', 'x28', 'x29', 'x30',\n",
       "       'x31', 'x32', 'x33', 'x34', 'x35', 'x36', 'x37', 'x38', 'x39', 'x40',\n",
       "       'x41', 'x42', 'x43', 'x44', 'x45', 'x46', 'x47', 'x48', 'x49', 'y'],\n",
       "      dtype='object')"
      ]
     },
     "execution_count": 50,
     "metadata": {},
     "output_type": "execute_result"
    }
   ],
   "source": [
    "df.columns"
   ]
  },
  {
   "cell_type": "code",
   "execution_count": 126,
   "metadata": {},
   "outputs": [
    {
     "data": {
      "text/plain": [
       "Index(['x0', 'x1', 'x2', 'x3', 'x4', 'x5', 'x6', 'x7', 'x8', 'x9', 'x10',\n",
       "       'x11', 'x12', 'x13', 'x14', 'x15', 'x16', 'x17', 'x18', 'x19', 'x20',\n",
       "       'x21', 'x22', 'x23', 'region', 'x25', 'x26', 'x27', 'x28', 'month',\n",
       "       'day', 'x31', 'rate', 'x33', 'x34', 'x35', 'x36', 'PL', 'x38', 'x39',\n",
       "       'x40', 'x41', 'x42', 'x43', 'x44', 'x45', 'x46', 'x47', 'x48', 'x49',\n",
       "       'y'],\n",
       "      dtype='object')"
      ]
     },
     "execution_count": 126,
     "metadata": {},
     "output_type": "execute_result"
    }
   ],
   "source": [
    "df = df.rename(columns={'x24': 'region', 'x29': 'month','x30': 'day','x32': 'rate','x37': 'PL'})\n",
    "df.columns"
   ]
  },
  {
   "cell_type": "code",
   "execution_count": 127,
   "metadata": {},
   "outputs": [
    {
     "name": "stdout",
     "output_type": "stream",
     "text": [
      "<class 'pandas.core.frame.DataFrame'>\n",
      "RangeIndex: 160000 entries, 0 to 159999\n",
      "Data columns (total 51 columns):\n",
      "x0        159974 non-null float64\n",
      "x1        159975 non-null float64\n",
      "x2        159962 non-null float64\n",
      "x3        159963 non-null float64\n",
      "x4        159974 non-null float64\n",
      "x5        159963 non-null float64\n",
      "x6        159974 non-null float64\n",
      "x7        159973 non-null float64\n",
      "x8        159979 non-null float64\n",
      "x9        159970 non-null float64\n",
      "x10       159957 non-null float64\n",
      "x11       159970 non-null float64\n",
      "x12       159964 non-null float64\n",
      "x13       159969 non-null float64\n",
      "x14       159966 non-null float64\n",
      "x15       159965 non-null float64\n",
      "x16       159974 non-null float64\n",
      "x17       159973 non-null float64\n",
      "x18       159960 non-null float64\n",
      "x19       159965 non-null float64\n",
      "x20       159962 non-null float64\n",
      "x21       159971 non-null float64\n",
      "x22       159973 non-null float64\n",
      "x23       159953 non-null float64\n",
      "region    159972 non-null object\n",
      "x25       159978 non-null float64\n",
      "x26       159964 non-null float64\n",
      "x27       159970 non-null float64\n",
      "x28       159965 non-null float64\n",
      "month     159970 non-null object\n",
      "day       159970 non-null object\n",
      "x31       159961 non-null float64\n",
      "rate      159969 non-null object\n",
      "x33       159959 non-null float64\n",
      "x34       159959 non-null float64\n",
      "x35       159970 non-null float64\n",
      "x36       159973 non-null float64\n",
      "PL        159977 non-null object\n",
      "x38       159969 non-null float64\n",
      "x39       159977 non-null float64\n",
      "x40       159964 non-null float64\n",
      "x41       159960 non-null float64\n",
      "x42       159974 non-null float64\n",
      "x43       159963 non-null float64\n",
      "x44       159960 non-null float64\n",
      "x45       159971 non-null float64\n",
      "x46       159969 non-null float64\n",
      "x47       159963 non-null float64\n",
      "x48       159968 non-null float64\n",
      "x49       159968 non-null float64\n",
      "y         160000 non-null int64\n",
      "dtypes: float64(45), int64(1), object(5)\n",
      "memory usage: 62.3+ MB\n"
     ]
    }
   ],
   "source": [
    "df = df.replace(to_replace='',value=np.nan)\n",
    "df.info()"
   ]
  },
  {
   "cell_type": "code",
   "execution_count": 65,
   "metadata": {},
   "outputs": [
    {
     "data": {
      "text/plain": [
       "array(['July', 'Aug', 'Jun', 'May', 'sept.', 'Apr', 'Nov', 'Oct', nan,\n",
       "       'Mar', 'Feb', 'Dev', 'January'], dtype=object)"
      ]
     },
     "execution_count": 65,
     "metadata": {},
     "output_type": "execute_result"
    }
   ],
   "source": [
    "df['month'].unique()\n",
    "#df = df['month'].replace(to_replace='Dev',value='Dec')\n",
    "#df = df['month'].replace(to_replace='sept.',value='Sep')\n",
    "#df = df['month'].replace(to_replace='January',value='Jan')"
   ]
  },
  {
   "cell_type": "code",
   "execution_count": 95,
   "metadata": {},
   "outputs": [
    {
     "data": {
      "text/plain": [
       "x0        26\n",
       "x1        25\n",
       "x2        38\n",
       "x3        37\n",
       "x4        26\n",
       "x5        37\n",
       "x6        26\n",
       "x7        27\n",
       "x8        21\n",
       "x9        30\n",
       "x10       43\n",
       "x11       30\n",
       "x12       36\n",
       "x13       31\n",
       "x14       34\n",
       "x15       35\n",
       "x16       26\n",
       "x17       27\n",
       "x18       40\n",
       "x19       35\n",
       "x20       38\n",
       "x21       29\n",
       "x22       27\n",
       "x23       47\n",
       "region    28\n",
       "x25       22\n",
       "x26       36\n",
       "x27       30\n",
       "x28       35\n",
       "month     30\n",
       "day       30\n",
       "x31       39\n",
       "rate      31\n",
       "x33       41\n",
       "x34       41\n",
       "x35       30\n",
       "x36       27\n",
       "PL        23\n",
       "x38       31\n",
       "x39       23\n",
       "x40       36\n",
       "x41       40\n",
       "x42       26\n",
       "x43       37\n",
       "x44       40\n",
       "x45       29\n",
       "x46       31\n",
       "x47       37\n",
       "x48       32\n",
       "x49       32\n",
       "y          0\n",
       "dtype: int64"
      ]
     },
     "execution_count": 95,
     "metadata": {},
     "output_type": "execute_result"
    }
   ],
   "source": [
    "## Count of nan's in each column in the dataset\n",
    "count_nan = len(df) - df.count()\n",
    "count_nan"
   ]
  },
  {
   "cell_type": "code",
   "execution_count": 120,
   "metadata": {},
   "outputs": [
    {
     "data": {
      "text/plain": [
       "<pandas.core.groupby.DataFrameGroupBy object at 0x000002743AA427F0>"
      ]
     },
     "execution_count": 120,
     "metadata": {},
     "output_type": "execute_result"
    }
   ],
   "source": [
    "df_na = df.loc[:,df.isna().any()]\n",
    "df['y'].describe()\n",
    "df.groupby(['y'])"
   ]
  },
  {
   "cell_type": "code",
   "execution_count": 90,
   "metadata": {},
   "outputs": [],
   "source": [
    "#df.loc[np.nan=='true']"
   ]
  },
  {
   "cell_type": "code",
   "execution_count": 133,
   "metadata": {},
   "outputs": [],
   "source": [
    "df_na = df[pd.isnull(df).any(axis=1)]"
   ]
  },
  {
   "cell_type": "code",
   "execution_count": 149,
   "metadata": {},
   "outputs": [
    {
     "data": {
      "text/plain": [
       "<matplotlib.axes._subplots.AxesSubplot at 0x2741135f128>"
      ]
     },
     "execution_count": 149,
     "metadata": {},
     "output_type": "execute_result"
    },
    {
     "data": {
      "image/png": "[encoded data removed]",
      "text/plain": [
       "<matplotlib.figure.Figure at 0x2741254f550>"
      ]
     },
     "metadata": {},
     "output_type": "display_data"
    }
   ],
   "source": [
    "df.y.plot.hist(stacked=True, bins=20)"
   ]
  },
  {
   "cell_type": "code",
   "execution_count": 148,
   "metadata": {},
   "outputs": [
    {
     "data": {
      "text/plain": [
       "<matplotlib.axes._subplots.AxesSubplot at 0x2741135f0f0>"
      ]
     },
     "execution_count": 148,
     "metadata": {},
     "output_type": "execute_result"
    },
    {
     "data": {
      "image/png": "[encoded data removed]",
      "text/plain": [
       "<matplotlib.figure.Figure at 0x274088fd860>"
      ]
     },
     "metadata": {},
     "output_type": "display_data"
    }
   ],
   "source": [
    "df_na.y.plot.hist(stacked=True, bins=20)"
   ]
  },
  {
   "cell_type": "code",
   "execution_count": 134,
   "metadata": {},
   "outputs": [
    {
     "data": {
      "text/plain": [
       "count    1608.000000\n",
       "mean        0.404851\n",
       "std         0.491016\n",
       "min         0.000000\n",
       "25%         0.000000\n",
       "50%         0.000000\n",
       "75%         1.000000\n",
       "max         1.000000\n",
       "Name: y, dtype: float64"
      ]
     },
     "execution_count": 134,
     "metadata": {},
     "output_type": "execute_result"
    }
   ],
   "source": [
    "#df=df.dropna()\n",
    "#df.info()\n",
    "df_na['y'].describe() ### distro after secluding na's \n",
    "df['y'].describe() ## distro before dropping \n",
    "\n",
    "## distro of y before and after dropping na rows is same , hence we prefer to drop the rows with na . "
   ]
  },
  {
   "cell_type": "code",
   "execution_count": 135,
   "metadata": {},
   "outputs": [
    {
     "name": "stdout",
     "output_type": "stream",
     "text": [
      "<class 'pandas.core.frame.DataFrame'>\n",
      "Int64Index: 158392 entries, 0 to 159999\n",
      "Data columns (total 51 columns):\n",
      "x0        158392 non-null float64\n",
      "x1        158392 non-null float64\n",
      "x2        158392 non-null float64\n",
      "x3        158392 non-null float64\n",
      "x4        158392 non-null float64\n",
      "x5        158392 non-null float64\n",
      "x6        158392 non-null float64\n",
      "x7        158392 non-null float64\n",
      "x8        158392 non-null float64\n",
      "x9        158392 non-null float64\n",
      "x10       158392 non-null float64\n",
      "x11       158392 non-null float64\n",
      "x12       158392 non-null float64\n",
      "x13       158392 non-null float64\n",
      "x14       158392 non-null float64\n",
      "x15       158392 non-null float64\n",
      "x16       158392 non-null float64\n",
      "x17       158392 non-null float64\n",
      "x18       158392 non-null float64\n",
      "x19       158392 non-null float64\n",
      "x20       158392 non-null float64\n",
      "x21       158392 non-null float64\n",
      "x22       158392 non-null float64\n",
      "x23       158392 non-null float64\n",
      "region    158392 non-null object\n",
      "x25       158392 non-null float64\n",
      "x26       158392 non-null float64\n",
      "x27       158392 non-null float64\n",
      "x28       158392 non-null float64\n",
      "month     158392 non-null object\n",
      "day       158392 non-null object\n",
      "x31       158392 non-null float64\n",
      "rate      158392 non-null object\n",
      "x33       158392 non-null float64\n",
      "x34       158392 non-null float64\n",
      "x35       158392 non-null float64\n",
      "x36       158392 non-null float64\n",
      "PL        158392 non-null object\n",
      "x38       158392 non-null float64\n",
      "x39       158392 non-null float64\n",
      "x40       158392 non-null float64\n",
      "x41       158392 non-null float64\n",
      "x42       158392 non-null float64\n",
      "x43       158392 non-null float64\n",
      "x44       158392 non-null float64\n",
      "x45       158392 non-null float64\n",
      "x46       158392 non-null float64\n",
      "x47       158392 non-null float64\n",
      "x48       158392 non-null float64\n",
      "x49       158392 non-null float64\n",
      "y         158392 non-null int64\n",
      "dtypes: float64(45), int64(1), object(5)\n",
      "memory usage: 62.8+ MB\n"
     ]
    }
   ],
   "source": [
    "df1 =df.dropna()\n",
    "df1.info()"
   ]
  },
  {
   "cell_type": "code",
   "execution_count": 136,
   "metadata": {},
   "outputs": [
    {
     "data": {
      "text/plain": [
       "0      0.0%\n",
       "1    -0.02%\n",
       "2    -0.01%\n",
       "3     0.01%\n",
       "4     0.01%\n",
       "Name: rate, dtype: object"
      ]
     },
     "execution_count": 136,
     "metadata": {},
     "output_type": "execute_result"
    }
   ],
   "source": [
    "df1['rate'].head()"
   ]
  },
  {
   "cell_type": "code",
   "execution_count": 137,
   "metadata": {},
   "outputs": [
    {
     "name": "stderr",
     "output_type": "stream",
     "text": [
      "C:\\Users\\NithyaDoss\\Anaconda3\\lib\\site-packages\\ipykernel_launcher.py:1: SettingWithCopyWarning: \n",
      "A value is trying to be set on a copy of a slice from a DataFrame.\n",
      "Try using .loc[row_indexer,col_indexer] = value instead\n",
      "\n",
      "See the caveats in the documentation: http://pandas.pydata.org/pandas-docs/stable/indexing.html#indexing-view-versus-copy\n",
      "  \"\"\"Entry point for launching an IPython kernel.\n",
      "C:\\Users\\NithyaDoss\\Anaconda3\\lib\\site-packages\\ipykernel_launcher.py:2: SettingWithCopyWarning: \n",
      "A value is trying to be set on a copy of a slice from a DataFrame.\n",
      "Try using .loc[row_indexer,col_indexer] = value instead\n",
      "\n",
      "See the caveats in the documentation: http://pandas.pydata.org/pandas-docs/stable/indexing.html#indexing-view-versus-copy\n",
      "  \n"
     ]
    },
    {
     "data": {
      "text/plain": [
       "0    0.00\n",
       "1   -0.02\n",
       "2   -0.01\n",
       "3    0.01\n",
       "4    0.01\n",
       "Name: rate, dtype: float64"
      ]
     },
     "execution_count": 137,
     "metadata": {},
     "output_type": "execute_result"
    }
   ],
   "source": [
    "df1['rate'] = df1['rate'].str.replace(\"%\", \"\")\n",
    "df1['rate'] = df1['rate'].astype(\"float\")\n",
    "df1['rate'].head()"
   ]
  },
  {
   "cell_type": "code",
   "execution_count": 142,
   "metadata": {},
   "outputs": [
    {
     "data": {
      "text/plain": [
       "0     $1313.96\n",
       "1     $1962.78\n",
       "2      $430.47\n",
       "3    $-2366.29\n",
       "4     $-620.66\n",
       "Name: PL, dtype: object"
      ]
     },
     "execution_count": 142,
     "metadata": {},
     "output_type": "execute_result"
    }
   ],
   "source": [
    "df1['PL'].head()"
   ]
  },
  {
   "cell_type": "code",
   "execution_count": 143,
   "metadata": {},
   "outputs": [
    {
     "name": "stderr",
     "output_type": "stream",
     "text": [
      "C:\\Users\\NithyaDoss\\Anaconda3\\lib\\site-packages\\ipykernel_launcher.py:1: SettingWithCopyWarning: \n",
      "A value is trying to be set on a copy of a slice from a DataFrame.\n",
      "Try using .loc[row_indexer,col_indexer] = value instead\n",
      "\n",
      "See the caveats in the documentation: http://pandas.pydata.org/pandas-docs/stable/indexing.html#indexing-view-versus-copy\n",
      "  \"\"\"Entry point for launching an IPython kernel.\n",
      "C:\\Users\\NithyaDoss\\Anaconda3\\lib\\site-packages\\ipykernel_launcher.py:2: SettingWithCopyWarning: \n",
      "A value is trying to be set on a copy of a slice from a DataFrame.\n",
      "Try using .loc[row_indexer,col_indexer] = value instead\n",
      "\n",
      "See the caveats in the documentation: http://pandas.pydata.org/pandas-docs/stable/indexing.html#indexing-view-versus-copy\n",
      "  \n"
     ]
    },
    {
     "data": {
      "text/plain": [
       "0    1313.96\n",
       "1    1962.78\n",
       "2     430.47\n",
       "3   -2366.29\n",
       "4    -620.66\n",
       "Name: PL, dtype: float64"
      ]
     },
     "execution_count": 143,
     "metadata": {},
     "output_type": "execute_result"
    }
   ],
   "source": [
    "df1['PL'] = df1['PL'].str.replace(\"$\", \"\")\n",
    "df1['PL'] = df1['PL'].astype(\"float\")\n",
    "df1['PL'].head()"
   ]
  },
  {
   "cell_type": "code",
   "execution_count": 144,
   "metadata": {},
   "outputs": [
    {
     "name": "stdout",
     "output_type": "stream",
     "text": [
      "<class 'pandas.core.frame.DataFrame'>\n",
      "Int64Index: 158392 entries, 0 to 159999\n",
      "Data columns (total 51 columns):\n",
      "x0        158392 non-null float64\n",
      "x1        158392 non-null float64\n",
      "x2        158392 non-null float64\n",
      "x3        158392 non-null float64\n",
      "x4        158392 non-null float64\n",
      "x5        158392 non-null float64\n",
      "x6        158392 non-null float64\n",
      "x7        158392 non-null float64\n",
      "x8        158392 non-null float64\n",
      "x9        158392 non-null float64\n",
      "x10       158392 non-null float64\n",
      "x11       158392 non-null float64\n",
      "x12       158392 non-null float64\n",
      "x13       158392 non-null float64\n",
      "x14       158392 non-null float64\n",
      "x15       158392 non-null float64\n",
      "x16       158392 non-null float64\n",
      "x17       158392 non-null float64\n",
      "x18       158392 non-null float64\n",
      "x19       158392 non-null float64\n",
      "x20       158392 non-null float64\n",
      "x21       158392 non-null float64\n",
      "x22       158392 non-null float64\n",
      "x23       158392 non-null float64\n",
      "region    158392 non-null object\n",
      "x25       158392 non-null float64\n",
      "x26       158392 non-null float64\n",
      "x27       158392 non-null float64\n",
      "x28       158392 non-null float64\n",
      "month     158392 non-null object\n",
      "day       158392 non-null object\n",
      "x31       158392 non-null float64\n",
      "rate      158392 non-null float64\n",
      "x33       158392 non-null float64\n",
      "x34       158392 non-null float64\n",
      "x35       158392 non-null float64\n",
      "x36       158392 non-null float64\n",
      "PL        158392 non-null float64\n",
      "x38       158392 non-null float64\n",
      "x39       158392 non-null float64\n",
      "x40       158392 non-null float64\n",
      "x41       158392 non-null float64\n",
      "x42       158392 non-null float64\n",
      "x43       158392 non-null float64\n",
      "x44       158392 non-null float64\n",
      "x45       158392 non-null float64\n",
      "x46       158392 non-null float64\n",
      "x47       158392 non-null float64\n",
      "x48       158392 non-null float64\n",
      "x49       158392 non-null float64\n",
      "y         158392 non-null int64\n",
      "dtypes: float64(47), int64(1), object(3)\n",
      "memory usage: 62.8+ MB\n"
     ]
    }
   ],
   "source": [
    "df1.info()"
   ]
  },
  {
   "cell_type": "code",
   "execution_count": 145,
   "metadata": {},
   "outputs": [
    {
     "name": "stdout",
     "output_type": "stream",
     "text": [
      "<class 'pandas.core.frame.DataFrame'>\n",
      "Int64Index: 158392 entries, 0 to 159999\n",
      "Data columns (total 20 columns):\n",
      "region_america    158392 non-null uint8\n",
      "region_asia       158392 non-null uint8\n",
      "region_euorpe     158392 non-null uint8\n",
      "month_Apr         158392 non-null uint8\n",
      "month_Aug         158392 non-null uint8\n",
      "month_Dev         158392 non-null uint8\n",
      "month_Feb         158392 non-null uint8\n",
      "month_January     158392 non-null uint8\n",
      "month_July        158392 non-null uint8\n",
      "month_Jun         158392 non-null uint8\n",
      "month_Mar         158392 non-null uint8\n",
      "month_May         158392 non-null uint8\n",
      "month_Nov         158392 non-null uint8\n",
      "month_Oct         158392 non-null uint8\n",
      "month_sept.       158392 non-null uint8\n",
      "day_friday        158392 non-null uint8\n",
      "day_monday        158392 non-null uint8\n",
      "day_thurday       158392 non-null uint8\n",
      "day_tuesday       158392 non-null uint8\n",
      "day_wednesday     158392 non-null uint8\n",
      "dtypes: uint8(20)\n",
      "memory usage: 4.2 MB\n"
     ]
    }
   ],
   "source": [
    "dummyCols = pd.get_dummies(df1.loc[:, df1.dtypes == 'object'])\n",
    "dummyCols.info()"
   ]
  },
  {
   "cell_type": "code",
   "execution_count": 146,
   "metadata": {},
   "outputs": [
    {
     "name": "stdout",
     "output_type": "stream",
     "text": [
      "<class 'pandas.core.frame.DataFrame'>\n",
      "Int64Index: 158392 entries, 0 to 159999\n",
      "Data columns (total 68 columns):\n",
      "x0                158392 non-null float64\n",
      "x1                158392 non-null float64\n",
      "x2                158392 non-null float64\n",
      "x3                158392 non-null float64\n",
      "x4                158392 non-null float64\n",
      "x5                158392 non-null float64\n",
      "x6                158392 non-null float64\n",
      "x7                158392 non-null float64\n",
      "x8                158392 non-null float64\n",
      "x9                158392 non-null float64\n",
      "x10               158392 non-null float64\n",
      "x11               158392 non-null float64\n",
      "x12               158392 non-null float64\n",
      "x13               158392 non-null float64\n",
      "x14               158392 non-null float64\n",
      "x15               158392 non-null float64\n",
      "x16               158392 non-null float64\n",
      "x17               158392 non-null float64\n",
      "x18               158392 non-null float64\n",
      "x19               158392 non-null float64\n",
      "x20               158392 non-null float64\n",
      "x21               158392 non-null float64\n",
      "x22               158392 non-null float64\n",
      "x23               158392 non-null float64\n",
      "x25               158392 non-null float64\n",
      "x26               158392 non-null float64\n",
      "x27               158392 non-null float64\n",
      "x28               158392 non-null float64\n",
      "x31               158392 non-null float64\n",
      "rate              158392 non-null float64\n",
      "x33               158392 non-null float64\n",
      "x34               158392 non-null float64\n",
      "x35               158392 non-null float64\n",
      "x36               158392 non-null float64\n",
      "PL                158392 non-null float64\n",
      "x38               158392 non-null float64\n",
      "x39               158392 non-null float64\n",
      "x40               158392 non-null float64\n",
      "x41               158392 non-null float64\n",
      "x42               158392 non-null float64\n",
      "x43               158392 non-null float64\n",
      "x44               158392 non-null float64\n",
      "x45               158392 non-null float64\n",
      "x46               158392 non-null float64\n",
      "x47               158392 non-null float64\n",
      "x48               158392 non-null float64\n",
      "x49               158392 non-null float64\n",
      "y                 158392 non-null int64\n",
      "region_america    158392 non-null uint8\n",
      "region_asia       158392 non-null uint8\n",
      "region_euorpe     158392 non-null uint8\n",
      "month_Apr         158392 non-null uint8\n",
      "month_Aug         158392 non-null uint8\n",
      "month_Dev         158392 non-null uint8\n",
      "month_Feb         158392 non-null uint8\n",
      "month_January     158392 non-null uint8\n",
      "month_July        158392 non-null uint8\n",
      "month_Jun         158392 non-null uint8\n",
      "month_Mar         158392 non-null uint8\n",
      "month_May         158392 non-null uint8\n",
      "month_Nov         158392 non-null uint8\n",
      "month_Oct         158392 non-null uint8\n",
      "month_sept.       158392 non-null uint8\n",
      "day_friday        158392 non-null uint8\n",
      "day_monday        158392 non-null uint8\n",
      "day_thurday       158392 non-null uint8\n",
      "day_tuesday       158392 non-null uint8\n",
      "day_wednesday     158392 non-null uint8\n",
      "dtypes: float64(47), int64(1), uint8(20)\n",
      "memory usage: 62.2 MB\n"
     ]
    }
   ],
   "source": [
    "df_final = pd.concat([df1, dummyCols], axis=1)\n",
    "df_final.drop(['day', 'region', 'month'], axis=1, inplace=True)\n",
    "df_final.info()"
   ]
  },
  {
   "cell_type": "code",
   "execution_count": 155,
   "metadata": {},
   "outputs": [
    {
     "data": {
      "text/plain": [
       "<matplotlib.axes._subplots.AxesSubplot at 0x2743f8e22e8>"
      ]
     },
     "execution_count": 155,
     "metadata": {},
     "output_type": "execute_result"
    },
    {
     "data": {
      "image/png": "[encoded data removed]",
      "text/plain": [
       "<matplotlib.figure.Figure at 0x2743f8ec4e0>"
      ]
     },
     "metadata": {},
     "output_type": "display_data"
    }
   ],
   "source": [
    "## Heat Map\n",
    "import seaborn as sns\n",
    "#sns.palplot(sns.color_palette(\"husl\", 8))\n",
    "sns.set(rc={'figure.figsize':(12,12)})\n",
    "\n",
    "corr = df_final.corr()\n",
    "sns.heatmap(corr, annot=False, cmap=\"YlGnBu\",\n",
    "            xticklabels=corr.columns.values,\n",
    "            yticklabels=corr.columns.values)"
   ]
  },
  {
   "cell_type": "markdown",
   "metadata": {},
   "source": [
    "##### Do the following on full data before splitting train and test. \n",
    "1. Clean data , outliers , any replace variables with correct ones / missing data \n",
    "2. data exploration - continuous and discrete feautures\n",
    "3. Summary of data - min max etc \n",
    "4. EDA viz based on region , day - on categorical data \n",
    "5. correlation of variables w.r.t y(output)\n",
    "6. One hot encoding \n",
    "\n",
    "##### Then do a train ,validation set split using cross fold . \n",
    "###### ensemble of RF , NB , DT , LR,  XGB \n"
   ]
  },
  {
   "cell_type": "code",
   "execution_count": 21,
   "metadata": {},
   "outputs": [],
   "source": [
    "rf_Kfold=KFold(n_splits=5)\n",
    "lr_Kfold=KFold(n_splits=4)\n",
    "rf=RandomForestClassifier()\n",
    "train_data=data.iloc[:,1:]\n",
    "target_data=data.iloc[:,0]"
   ]
  },
  {
   "cell_type": "code",
   "execution_count": 22,
   "metadata": {},
   "outputs": [
    {
     "name": "stdout",
     "output_type": "stream",
     "text": [
      "Fold ROC score is 0.734856\n",
      "Fold ROC score is 0.733782\n",
      "Fold ROC score is 0.733572\n",
      "Fold ROC score is 0.729510\n",
      "Fold ROC score is 0.725742\n"
     ]
    }
   ],
   "source": [
    "rf_oof_predict=np.zeros(data.shape[0])\n",
    "for train_idx, test_idx in rf_Kfold.split(data):\n",
    "    rf.fit(train_data.loc[train_idx],target_data.loc[train_idx])\n",
    "    rf_oof_predict[test_idx]=rf.predict_proba(train_data.loc[test_idx])[:,1]\n",
    "    print(\"Fold ROC score is %f\" % roc_auc_score(target_data[test_idx],rf_oof_predict[test_idx]))\n",
    "    "
   ]
  },
  {
   "cell_type": "code",
   "execution_count": 23,
   "metadata": {},
   "outputs": [
    {
     "name": "stdout",
     "output_type": "stream",
     "text": [
      "Fold ROC score is 0.687455\n",
      "Fold ROC score is 0.681206\n",
      "Fold ROC score is 0.675599\n",
      "Fold ROC score is 0.676999\n"
     ]
    }
   ],
   "source": [
    "lr=LogisticRegression()\n",
    "lr_oof_predict=np.zeros(data.shape[0])\n",
    "for train_idx, test_idx in lr_Kfold.split(data):\n",
    "    lr.fit(train_data.iloc[train_idx],target_data.iloc[train_idx])\n",
    "    lr_oof_predict[test_idx]=lr.predict_proba(train_data.loc[test_idx])[:,1]\n",
    "    print(\"Fold ROC score is %f\" % roc_auc_score(target_data[test_idx],lr_oof_predict[test_idx]))\n",
    "    \n",
    "    \n",
    "    "
   ]
  },
  {
   "cell_type": "code",
   "execution_count": 9,
   "metadata": {},
   "outputs": [
    {
     "data": {
      "text/plain": [
       "array([0.9, 0.8, 0.7, ..., 0.1, 0.5, 0.8])"
      ]
     },
     "execution_count": 9,
     "metadata": {},
     "output_type": "execute_result"
    }
   ],
   "source": [
    "rf_oof_predict"
   ]
  },
  {
   "cell_type": "code",
   "execution_count": 24,
   "metadata": {},
   "outputs": [],
   "source": [
    "from sklearn.linear_model import LinearRegression\n",
    "stage2=LinearRegression()\n"
   ]
  },
  {
   "cell_type": "code",
   "execution_count": 25,
   "metadata": {},
   "outputs": [],
   "source": [
    "stage2_data=pd.DataFrame({'RF_data':rf_oof_predict,'Log_Data':lr_oof_predict})"
   ]
  },
  {
   "cell_type": "code",
   "execution_count": 26,
   "metadata": {},
   "outputs": [
    {
     "data": {
      "text/html": [
       "<div>\n",
       "<style scoped>\n",
       "    .dataframe tbody tr th:only-of-type {\n",
       "        vertical-align: middle;\n",
       "    }\n",
       "\n",
       "    .dataframe tbody tr th {\n",
       "        vertical-align: top;\n",
       "    }\n",
       "\n",
       "    .dataframe thead th {\n",
       "        text-align: right;\n",
       "    }\n",
       "</style>\n",
       "<table border=\"1\" class=\"dataframe\">\n",
       "  <thead>\n",
       "    <tr style=\"text-align: right;\">\n",
       "      <th></th>\n",
       "      <th>RF_data</th>\n",
       "      <th>Log_Data</th>\n",
       "    </tr>\n",
       "  </thead>\n",
       "  <tbody>\n",
       "    <tr>\n",
       "      <th>0</th>\n",
       "      <td>0.8</td>\n",
       "      <td>0.623785</td>\n",
       "    </tr>\n",
       "    <tr>\n",
       "      <th>1</th>\n",
       "      <td>0.8</td>\n",
       "      <td>0.621718</td>\n",
       "    </tr>\n",
       "    <tr>\n",
       "      <th>2</th>\n",
       "      <td>0.9</td>\n",
       "      <td>0.681501</td>\n",
       "    </tr>\n",
       "    <tr>\n",
       "      <th>3</th>\n",
       "      <td>0.8</td>\n",
       "      <td>0.599843</td>\n",
       "    </tr>\n",
       "    <tr>\n",
       "      <th>4</th>\n",
       "      <td>0.7</td>\n",
       "      <td>0.492166</td>\n",
       "    </tr>\n",
       "    <tr>\n",
       "      <th>5</th>\n",
       "      <td>0.1</td>\n",
       "      <td>0.436956</td>\n",
       "    </tr>\n",
       "    <tr>\n",
       "      <th>6</th>\n",
       "      <td>0.8</td>\n",
       "      <td>0.659486</td>\n",
       "    </tr>\n",
       "    <tr>\n",
       "      <th>7</th>\n",
       "      <td>0.7</td>\n",
       "      <td>0.645068</td>\n",
       "    </tr>\n",
       "    <tr>\n",
       "      <th>8</th>\n",
       "      <td>0.5</td>\n",
       "      <td>0.898230</td>\n",
       "    </tr>\n",
       "    <tr>\n",
       "      <th>9</th>\n",
       "      <td>0.9</td>\n",
       "      <td>0.695113</td>\n",
       "    </tr>\n",
       "    <tr>\n",
       "      <th>10</th>\n",
       "      <td>0.7</td>\n",
       "      <td>0.646868</td>\n",
       "    </tr>\n",
       "    <tr>\n",
       "      <th>11</th>\n",
       "      <td>0.3</td>\n",
       "      <td>0.526675</td>\n",
       "    </tr>\n",
       "    <tr>\n",
       "      <th>12</th>\n",
       "      <td>1.0</td>\n",
       "      <td>0.637948</td>\n",
       "    </tr>\n",
       "    <tr>\n",
       "      <th>13</th>\n",
       "      <td>0.7</td>\n",
       "      <td>0.599850</td>\n",
       "    </tr>\n",
       "    <tr>\n",
       "      <th>14</th>\n",
       "      <td>0.7</td>\n",
       "      <td>0.569695</td>\n",
       "    </tr>\n",
       "    <tr>\n",
       "      <th>15</th>\n",
       "      <td>0.2</td>\n",
       "      <td>0.338579</td>\n",
       "    </tr>\n",
       "    <tr>\n",
       "      <th>16</th>\n",
       "      <td>0.9</td>\n",
       "      <td>0.724059</td>\n",
       "    </tr>\n",
       "    <tr>\n",
       "      <th>17</th>\n",
       "      <td>0.1</td>\n",
       "      <td>0.337902</td>\n",
       "    </tr>\n",
       "    <tr>\n",
       "      <th>18</th>\n",
       "      <td>0.5</td>\n",
       "      <td>0.433495</td>\n",
       "    </tr>\n",
       "    <tr>\n",
       "      <th>19</th>\n",
       "      <td>0.4</td>\n",
       "      <td>0.654440</td>\n",
       "    </tr>\n",
       "    <tr>\n",
       "      <th>20</th>\n",
       "      <td>1.0</td>\n",
       "      <td>0.641274</td>\n",
       "    </tr>\n",
       "    <tr>\n",
       "      <th>21</th>\n",
       "      <td>0.4</td>\n",
       "      <td>0.681501</td>\n",
       "    </tr>\n",
       "    <tr>\n",
       "      <th>22</th>\n",
       "      <td>0.1</td>\n",
       "      <td>0.519976</td>\n",
       "    </tr>\n",
       "    <tr>\n",
       "      <th>23</th>\n",
       "      <td>0.8</td>\n",
       "      <td>0.567423</td>\n",
       "    </tr>\n",
       "    <tr>\n",
       "      <th>24</th>\n",
       "      <td>0.5</td>\n",
       "      <td>0.517621</td>\n",
       "    </tr>\n",
       "    <tr>\n",
       "      <th>25</th>\n",
       "      <td>0.1</td>\n",
       "      <td>0.731537</td>\n",
       "    </tr>\n",
       "    <tr>\n",
       "      <th>26</th>\n",
       "      <td>0.5</td>\n",
       "      <td>0.565319</td>\n",
       "    </tr>\n",
       "    <tr>\n",
       "      <th>27</th>\n",
       "      <td>0.0</td>\n",
       "      <td>0.151353</td>\n",
       "    </tr>\n",
       "    <tr>\n",
       "      <th>28</th>\n",
       "      <td>0.5</td>\n",
       "      <td>0.467452</td>\n",
       "    </tr>\n",
       "    <tr>\n",
       "      <th>29</th>\n",
       "      <td>0.2</td>\n",
       "      <td>0.619396</td>\n",
       "    </tr>\n",
       "    <tr>\n",
       "      <th>...</th>\n",
       "      <td>...</td>\n",
       "      <td>...</td>\n",
       "    </tr>\n",
       "    <tr>\n",
       "      <th>49970</th>\n",
       "      <td>0.1</td>\n",
       "      <td>0.631468</td>\n",
       "    </tr>\n",
       "    <tr>\n",
       "      <th>49971</th>\n",
       "      <td>0.8</td>\n",
       "      <td>0.731005</td>\n",
       "    </tr>\n",
       "    <tr>\n",
       "      <th>49972</th>\n",
       "      <td>0.6</td>\n",
       "      <td>0.759152</td>\n",
       "    </tr>\n",
       "    <tr>\n",
       "      <th>49973</th>\n",
       "      <td>0.4</td>\n",
       "      <td>0.610263</td>\n",
       "    </tr>\n",
       "    <tr>\n",
       "      <th>49974</th>\n",
       "      <td>0.5</td>\n",
       "      <td>0.517083</td>\n",
       "    </tr>\n",
       "    <tr>\n",
       "      <th>49975</th>\n",
       "      <td>0.6</td>\n",
       "      <td>0.655155</td>\n",
       "    </tr>\n",
       "    <tr>\n",
       "      <th>49976</th>\n",
       "      <td>0.9</td>\n",
       "      <td>0.566432</td>\n",
       "    </tr>\n",
       "    <tr>\n",
       "      <th>49977</th>\n",
       "      <td>0.4</td>\n",
       "      <td>0.595487</td>\n",
       "    </tr>\n",
       "    <tr>\n",
       "      <th>49978</th>\n",
       "      <td>0.7</td>\n",
       "      <td>0.517136</td>\n",
       "    </tr>\n",
       "    <tr>\n",
       "      <th>49979</th>\n",
       "      <td>0.9</td>\n",
       "      <td>0.881560</td>\n",
       "    </tr>\n",
       "    <tr>\n",
       "      <th>49980</th>\n",
       "      <td>0.1</td>\n",
       "      <td>0.536721</td>\n",
       "    </tr>\n",
       "    <tr>\n",
       "      <th>49981</th>\n",
       "      <td>0.6</td>\n",
       "      <td>0.599542</td>\n",
       "    </tr>\n",
       "    <tr>\n",
       "      <th>49982</th>\n",
       "      <td>0.7</td>\n",
       "      <td>0.529621</td>\n",
       "    </tr>\n",
       "    <tr>\n",
       "      <th>49983</th>\n",
       "      <td>0.7</td>\n",
       "      <td>0.553084</td>\n",
       "    </tr>\n",
       "    <tr>\n",
       "      <th>49984</th>\n",
       "      <td>0.0</td>\n",
       "      <td>0.558692</td>\n",
       "    </tr>\n",
       "    <tr>\n",
       "      <th>49985</th>\n",
       "      <td>0.1</td>\n",
       "      <td>0.280224</td>\n",
       "    </tr>\n",
       "    <tr>\n",
       "      <th>49986</th>\n",
       "      <td>0.8</td>\n",
       "      <td>0.878373</td>\n",
       "    </tr>\n",
       "    <tr>\n",
       "      <th>49987</th>\n",
       "      <td>0.9</td>\n",
       "      <td>0.535524</td>\n",
       "    </tr>\n",
       "    <tr>\n",
       "      <th>49988</th>\n",
       "      <td>0.5</td>\n",
       "      <td>0.392028</td>\n",
       "    </tr>\n",
       "    <tr>\n",
       "      <th>49989</th>\n",
       "      <td>0.8</td>\n",
       "      <td>0.579059</td>\n",
       "    </tr>\n",
       "    <tr>\n",
       "      <th>49990</th>\n",
       "      <td>0.3</td>\n",
       "      <td>0.660807</td>\n",
       "    </tr>\n",
       "    <tr>\n",
       "      <th>49991</th>\n",
       "      <td>0.8</td>\n",
       "      <td>0.707824</td>\n",
       "    </tr>\n",
       "    <tr>\n",
       "      <th>49992</th>\n",
       "      <td>0.4</td>\n",
       "      <td>0.209353</td>\n",
       "    </tr>\n",
       "    <tr>\n",
       "      <th>49993</th>\n",
       "      <td>0.3</td>\n",
       "      <td>0.441406</td>\n",
       "    </tr>\n",
       "    <tr>\n",
       "      <th>49994</th>\n",
       "      <td>0.6</td>\n",
       "      <td>0.665070</td>\n",
       "    </tr>\n",
       "    <tr>\n",
       "      <th>49995</th>\n",
       "      <td>0.6</td>\n",
       "      <td>0.806580</td>\n",
       "    </tr>\n",
       "    <tr>\n",
       "      <th>49996</th>\n",
       "      <td>0.2</td>\n",
       "      <td>0.618881</td>\n",
       "    </tr>\n",
       "    <tr>\n",
       "      <th>49997</th>\n",
       "      <td>0.5</td>\n",
       "      <td>0.527228</td>\n",
       "    </tr>\n",
       "    <tr>\n",
       "      <th>49998</th>\n",
       "      <td>0.7</td>\n",
       "      <td>0.502486</td>\n",
       "    </tr>\n",
       "    <tr>\n",
       "      <th>49999</th>\n",
       "      <td>0.3</td>\n",
       "      <td>0.598704</td>\n",
       "    </tr>\n",
       "  </tbody>\n",
       "</table>\n",
       "<p>50000 rows × 2 columns</p>\n",
       "</div>"
      ],
      "text/plain": [
       "       RF_data  Log_Data\n",
       "0          0.8  0.623785\n",
       "1          0.8  0.621718\n",
       "2          0.9  0.681501\n",
       "3          0.8  0.599843\n",
       "4          0.7  0.492166\n",
       "5          0.1  0.436956\n",
       "6          0.8  0.659486\n",
       "7          0.7  0.645068\n",
       "8          0.5  0.898230\n",
       "9          0.9  0.695113\n",
       "10         0.7  0.646868\n",
       "11         0.3  0.526675\n",
       "12         1.0  0.637948\n",
       "13         0.7  0.599850\n",
       "14         0.7  0.569695\n",
       "15         0.2  0.338579\n",
       "16         0.9  0.724059\n",
       "17         0.1  0.337902\n",
       "18         0.5  0.433495\n",
       "19         0.4  0.654440\n",
       "20         1.0  0.641274\n",
       "21         0.4  0.681501\n",
       "22         0.1  0.519976\n",
       "23         0.8  0.567423\n",
       "24         0.5  0.517621\n",
       "25         0.1  0.731537\n",
       "26         0.5  0.565319\n",
       "27         0.0  0.151353\n",
       "28         0.5  0.467452\n",
       "29         0.2  0.619396\n",
       "...        ...       ...\n",
       "49970      0.1  0.631468\n",
       "49971      0.8  0.731005\n",
       "49972      0.6  0.759152\n",
       "49973      0.4  0.610263\n",
       "49974      0.5  0.517083\n",
       "49975      0.6  0.655155\n",
       "49976      0.9  0.566432\n",
       "49977      0.4  0.595487\n",
       "49978      0.7  0.517136\n",
       "49979      0.9  0.881560\n",
       "49980      0.1  0.536721\n",
       "49981      0.6  0.599542\n",
       "49982      0.7  0.529621\n",
       "49983      0.7  0.553084\n",
       "49984      0.0  0.558692\n",
       "49985      0.1  0.280224\n",
       "49986      0.8  0.878373\n",
       "49987      0.9  0.535524\n",
       "49988      0.5  0.392028\n",
       "49989      0.8  0.579059\n",
       "49990      0.3  0.660807\n",
       "49991      0.8  0.707824\n",
       "49992      0.4  0.209353\n",
       "49993      0.3  0.441406\n",
       "49994      0.6  0.665070\n",
       "49995      0.6  0.806580\n",
       "49996      0.2  0.618881\n",
       "49997      0.5  0.527228\n",
       "49998      0.7  0.502486\n",
       "49999      0.3  0.598704\n",
       "\n",
       "[50000 rows x 2 columns]"
      ]
     },
     "execution_count": 26,
     "metadata": {},
     "output_type": "execute_result"
    }
   ],
   "source": [
    "stage2_data"
   ]
  },
  {
   "cell_type": "code",
   "execution_count": 27,
   "metadata": {},
   "outputs": [
    {
     "data": {
      "text/plain": [
       "LinearRegression(copy_X=True, fit_intercept=True, n_jobs=1, normalize=False)"
      ]
     },
     "execution_count": 27,
     "metadata": {},
     "output_type": "execute_result"
    }
   ],
   "source": [
    "stage2.fit(stage2_data,target_data)"
   ]
  },
  {
   "cell_type": "code",
   "execution_count": 28,
   "metadata": {},
   "outputs": [
    {
     "data": {
      "text/plain": [
       "array([0.67966431, 0.52413764])"
      ]
     },
     "execution_count": 28,
     "metadata": {},
     "output_type": "execute_result"
    }
   ],
   "source": [
    "stage2.coef_"
   ]
  },
  {
   "cell_type": "code",
   "execution_count": 29,
   "metadata": {},
   "outputs": [
    {
     "data": {
      "text/plain": [
       "RandomForestClassifier(bootstrap=True, class_weight=None, criterion='gini',\n",
       "            max_depth=None, max_features='auto', max_leaf_nodes=None,\n",
       "            min_impurity_decrease=0.0, min_impurity_split=None,\n",
       "            min_samples_leaf=1, min_samples_split=2,\n",
       "            min_weight_fraction_leaf=0.0, n_estimators=10, n_jobs=1,\n",
       "            oob_score=False, random_state=None, verbose=0,\n",
       "            warm_start=False)"
      ]
     },
     "execution_count": 29,
     "metadata": {},
     "output_type": "execute_result"
    }
   ],
   "source": [
    "lr.fit(train_data,target_data)\n",
    "rf.fit(train_data,target_data)"
   ]
  },
  {
   "cell_type": "code",
   "execution_count": 30,
   "metadata": {},
   "outputs": [
    {
     "name": "stdout",
     "output_type": "stream",
     "text": [
      "Log Reg score is 0.683865\n",
      "RF score is 0.742051\n",
      "Final Stage score is  0.756542\n"
     ]
    }
   ],
   "source": [
    "test_lr=lr.predict_proba(test.loc[:,1:])[:,1]\n",
    "print(\"Log Reg score is %f\" % roc_auc_score(test.loc[:,0],test_lr))\n",
    "test_rf=rf.predict_proba(test.loc[:,1:])[:,1]\n",
    "print(\"RF score is %f\" % roc_auc_score(test.loc[:,0],test_rf))\n",
    "test_s2=pd.DataFrame({'RF data':test_rf,'Log Data':test_lr})\n",
    "test_stage2=stage2.predict(test_s2)\n",
    "print(\"Final Stage score is % f\" % roc_auc_score(test.loc[:,0],test_stage2))"
   ]
  },
  {
   "cell_type": "code",
   "execution_count": null,
   "metadata": {},
   "outputs": [],
   "source": []
  },
  {
   "cell_type": "code",
   "execution_count": null,
   "metadata": {},
   "outputs": [],
   "source": [
    "data.shape"
   ]
  },
  {
   "cell_type": "code",
   "execution_count": null,
   "metadata": {},
   "outputs": [],
   "source": [
    "rf.fit(train_data,target_data)\n",
    "lr.fit(train_data,target_data)"
   ]
  },
  {
   "cell_type": "code",
   "execution_count": 17,
   "metadata": {},
   "outputs": [
    {
     "data": {
      "text/plain": [
       "LinearRegression(copy_X=True, fit_intercept=True, n_jobs=1, normalize=False)"
      ]
     },
     "execution_count": 17,
     "metadata": {},
     "output_type": "execute_result"
    }
   ],
   "source": [
    "rf_preds=rf.predict_proba(train_data)[:,1]\n",
    "lr_preds=lr.predict_proba(train_data)[:,1]\n",
    "train_data_s2=pd.DataFrame({'RF data':rf_preds,'Log Data':lr_preds})\n",
    "stage2.fit(train_data_s2,target_data)\n",
    "\n"
   ]
  },
  {
   "cell_type": "code",
   "execution_count": 18,
   "metadata": {},
   "outputs": [
    {
     "name": "stdout",
     "output_type": "stream",
     "text": [
      "RF score is 0.717866\n",
      "Log Reg score is 0.677535\n",
      "Final score is 0.706069\n"
     ]
    }
   ],
   "source": [
    "rf_test=rf.predict_proba(test.loc[:,1:])[:,1]\n",
    "print(\"RF score is %f\" % roc_auc_score(test.loc[:,0],rf_test))\n",
    "lr_test=lr.predict_proba(test.loc[:,1:])[:,1]\n",
    "print(\"Log Reg score is %f\" % roc_auc_score(test.loc[:,0],lr_test))\n",
    "test_data_s2=pd.DataFrame({'RF data':rf_test,'Log Data':lr_test})\n",
    "final=stage2.predict(test_data_s2)\n",
    "print(\"Final score is %f\" % roc_auc_score(test.loc[:,0],final))"
   ]
  },
  {
   "cell_type": "code",
   "execution_count": null,
   "metadata": {},
   "outputs": [],
   "source": [
    "test_s2['target']=target_data"
   ]
  },
  {
   "cell_type": "code",
   "execution_count": null,
   "metadata": {},
   "outputs": [],
   "source": [
    "test_s2"
   ]
  },
  {
   "cell_type": "code",
   "execution_count": null,
   "metadata": {},
   "outputs": [],
   "source": []
  }
 ],
 "metadata": {
  "kernelspec": {
   "display_name": "Python 3",
   "language": "python",
   "name": "python3"
  },
  "language_info": {
   "codemirror_mode": {
    "name": "ipython",
    "version": 3
   },
   "file_extension": ".py",
   "mimetype": "text/x-python",
   "name": "python",
   "nbconvert_exporter": "python",
   "pygments_lexer": "ipython3",
   "version": "3.6.4"
  }
 },
 "nbformat": 4,
 "nbformat_minor": 2
}
